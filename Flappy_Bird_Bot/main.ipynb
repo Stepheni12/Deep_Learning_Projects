{
 "cells": [
  {
   "cell_type": "code",
   "execution_count": 2,
   "metadata": {
    "collapsed": false
   },
   "outputs": [
    {
     "name": "stdout",
     "output_type": "stream",
     "text": [
      "1000\n",
      "2000\n",
      "3000\n",
      "4000\n",
      "5000\n",
      "1000\n",
      "2000\n",
      "3000\n",
      "4000\n",
      "5000\n"
     ]
    }
   ],
   "source": [
    "import numpy as np\n",
    "import cv2\n",
    "from mss import mss\n",
    "from PIL import Image\n",
    "from getkeys import key_check\n",
    "\n",
    "spc = [1,0]\n",
    "nk = [0,1]\n",
    "\n",
    "#### CHANGE THESE ####\n",
    "starting_value = 1\n",
    "\n",
    "def keys_to_output(keys):\n",
    "    '''\n",
    "    Convert keys to a one-hot array\n",
    "       0      1 \n",
    "    [Space, NOKEY] boolean values.\n",
    "    '''\n",
    "    output = [0,0]\n",
    "\n",
    "    if ' ' in keys:\n",
    "        output = spc\n",
    "    else:\n",
    "        output = nk\n",
    "    return output\n",
    "\n",
    "bbox = {'top': 140, 'left': 710, 'width': 480, 'height': 610}\n",
    "sct = mss()\n",
    "training_data = []\n",
    "\n",
    "while 1:\n",
    "    sct_img = sct.grab(bbox)\n",
    "    black_img = cv2.cvtColor(np.array(sct_img), cv2.COLOR_BGR2GRAY)\n",
    "    img = cv2.resize(black_img, (480,270))\n",
    "    cv2.imshow('window', np.array(img))\n",
    "    \n",
    "    keys = key_check()\n",
    "    output = keys_to_output(keys)\n",
    "    training_data.append([img, output])\n",
    "    \n",
    "    if len(training_data) % 1000 == 0:\n",
    "        print(len(training_data))\n",
    "    \n",
    "    if len(training_data) == 5000:\n",
    "        file_name = 'train_data_{}.npy'.format(starting_value)\n",
    "        np.save(file_name, training_data)\n",
    "        training_data = []\n",
    "        starting_value = starting_value + 1\n",
    "        \n",
    "    #To quit collecting training data, navigate to open cv window and press letter 'q'\n",
    "    if cv2.waitKey(1) & 0xFF == ord('q'):\n",
    "        cv2.destroyAllWindows()\n",
    "        break"
   ]
  },
  {
   "cell_type": "code",
   "execution_count": null,
   "metadata": {
    "collapsed": true
   },
   "outputs": [],
   "source": []
  }
 ],
 "metadata": {
  "kernelspec": {
   "display_name": "Python [conda env:tensorflow]",
   "language": "python",
   "name": "conda-env-tensorflow-py"
  },
  "language_info": {
   "codemirror_mode": {
    "name": "ipython",
    "version": 3
   },
   "file_extension": ".py",
   "mimetype": "text/x-python",
   "name": "python",
   "nbconvert_exporter": "python",
   "pygments_lexer": "ipython3",
   "version": "3.5.5"
  }
 },
 "nbformat": 4,
 "nbformat_minor": 2
}
