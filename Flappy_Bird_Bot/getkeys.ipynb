{
 "cells": [
  {
   "cell_type": "code",
   "execution_count": 3,
   "metadata": {
    "collapsed": true
   },
   "outputs": [],
   "source": [
    "# Citation: Box Of Hats (https://github.com/Box-Of-Hats )\n",
    "\n",
    "import win32api as wapi\n",
    "import time\n",
    "\n",
    "keyList = [\"\\b\"]\n",
    "for char in \"ABCDEFGHIJKLMNOPQRSTUVWXYZ 123456789,.'£$/\\\\\":\n",
    "    keyList.append(char)\n",
    "\n",
    "def key_check():\n",
    "    keys = []\n",
    "    for key in keyList:\n",
    "        if wapi.GetAsyncKeyState(ord(key)):\n",
    "            keys.append(key)\n",
    "    return keys"
   ]
  },
  {
   "cell_type": "code",
   "execution_count": null,
   "metadata": {
    "collapsed": true
   },
   "outputs": [],
   "source": []
  }
 ],
 "metadata": {
  "kernelspec": {
   "display_name": "Python [conda env:tensorflow]",
   "language": "python",
   "name": "conda-env-tensorflow-py"
  },
  "language_info": {
   "codemirror_mode": {
    "name": "ipython",
    "version": 3
   },
   "file_extension": ".py",
   "mimetype": "text/x-python",
   "name": "python",
   "nbconvert_exporter": "python",
   "pygments_lexer": "ipython3",
   "version": "3.5.5"
  }
 },
 "nbformat": 4,
 "nbformat_minor": 2
}
