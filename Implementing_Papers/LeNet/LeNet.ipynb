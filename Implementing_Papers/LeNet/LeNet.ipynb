{
 "cells": [
  {
   "cell_type": "markdown",
   "id": "9b63330b",
   "metadata": {},
   "source": [
    "## Gradient-Based Learning Applied to Document Recognition (LeNet Paper)\n",
    "\n",
    "Original paper: http://vision.stanford.edu/cs598_spring07/papers/Lecun98.pdf"
   ]
  },
  {
   "cell_type": "code",
   "execution_count": 1,
   "id": "4d22f890",
   "metadata": {},
   "outputs": [],
   "source": [
    "import pandas as pd\n",
    "import math\n",
    "import numpy as np\n",
    "import torch\n",
    "import torch.nn.functional as F\n",
    "from tqdm import trange\n",
    "from PIL import Image\n",
    "import matplotlib.pyplot as plt\n",
    "%matplotlib inline\n",
    "\n",
    "# Fixes matplotlib crashing jupyter kernel issue (should find out what this actually does, something to do with OpenMP?)\n",
    "import os\n",
    "os.environ[\"KMP_DUPLICATE_LIB_OK\"]=\"TRUE\""
   ]
  },
  {
   "cell_type": "code",
   "execution_count": 2,
   "id": "c03391fd",
   "metadata": {},
   "outputs": [],
   "source": [
    "# Load the mnist dataset and rescale images to 0-1\n",
    "# MNIST fetching reference: https://github.com/geohot/ai-notebooks/blob/master/mnist_from_scratch.ipynb\n",
    "def fetch(url):\n",
    "    import requests, gzip, os, hashlib, numpy\n",
    "    fp = os.path.join(\"/tmp\", hashlib.md5(url.encode('utf-8')).hexdigest())\n",
    "    if os.path.isfile(fp):\n",
    "        with open(fp, \"rb\") as f:\n",
    "            dat = f.read()\n",
    "    else:\n",
    "        with open(fp, \"wb\") as f:\n",
    "            dat = requests.get(url).content\n",
    "            f.write(dat)\n",
    "    return numpy.frombuffer(gzip.decompress(dat), dtype=np.uint8).copy()\n",
    "X_train = fetch(\"http://yann.lecun.com/exdb/mnist/train-images-idx3-ubyte.gz\")[0x10:].reshape((-1, 28, 28)) / 255.0\n",
    "Y_train = fetch(\"http://yann.lecun.com/exdb/mnist/train-labels-idx1-ubyte.gz\")[8:]\n",
    "X_test = fetch(\"http://yann.lecun.com/exdb/mnist/t10k-images-idx3-ubyte.gz\")[0x10:].reshape((-1, 28, 28)) / 255.0\n",
    "Y_test = fetch(\"http://yann.lecun.com/exdb/mnist/t10k-labels-idx1-ubyte.gz\")[8:]"
   ]
  },
  {
   "cell_type": "code",
   "execution_count": 3,
   "id": "1f26ae32",
   "metadata": {},
   "outputs": [
    {
     "name": "stdout",
     "output_type": "stream",
     "text": [
      "(60000, 1, 32, 32)\n",
      "(60000,)\n",
      "(10000, 1, 32, 32)\n",
      "(10000,)\n"
     ]
    }
   ],
   "source": [
    "# Resize images to 32x32 to match paper\n",
    "def transform(arr):\n",
    "    resized_lst = []\n",
    "    \n",
    "    for img in arr:\n",
    "        resized_lst.append(Image.fromarray(img).resize((32,32)))\n",
    "        \n",
    "    ret = np.stack(resized_lst, axis=0)\n",
    "    ret = ret.reshape(-1, 1, 32, 32)\n",
    "    \n",
    "    return ret\n",
    "\n",
    "X_train = transform(X_train)\n",
    "X_test = transform(X_test)\n",
    "\n",
    "print(X_train.shape)\n",
    "print(Y_train.shape)\n",
    "print(X_test.shape)\n",
    "print(Y_test.shape)"
   ]
  },
  {
   "cell_type": "code",
   "execution_count": 4,
   "id": "347d29f6",
   "metadata": {},
   "outputs": [],
   "source": [
    "# First implement in PyTorch\n",
    "class LeNet(torch.nn.Module):\n",
    "    def __init__(self):\n",
    "        super(LeNet, self).__init__()\n",
    "        self.c1 = torch.nn.Conv2d(1, 6, 5)\n",
    "        self.s2 = torch.nn.AvgPool2d(2, 2)  # Not quite the sub-sampling from the original which had trainable params\n",
    "        self.c3 = torch.nn.Conv2d(6, 16, 5) # Also not the same, the way they achieve this shape in the paper is interesting\n",
    "        self.s4 = torch.nn.AvgPool2d(2,2)   # Not quite the sub-sampling from the original which had trainable params\n",
    "        self.c5 = torch.nn.Conv2d(16, 120, 5) # Generates 1x1 output convolutions, so essentially it's an fc layer\n",
    "        self.f6 = torch.nn.Linear(120, 84)\n",
    "        self.f7 = torch.nn.Linear(84, 10)\n",
    "        \n",
    "    def forward(self, x):\n",
    "        x = F.tanh(self.c1(x))\n",
    "        x = self.s2(x)\n",
    "        x = F.tanh(self.c3(x))\n",
    "        x = self.s4(x)\n",
    "        x = F.tanh(self.c5(x))\n",
    "        x = x.view(-1, 120) # change the view so we can pass the 1x1 convolutions to the next fc layer\n",
    "        x = F.tanh(self.f6(x))\n",
    "        x = self.f7(x)\n",
    "        return x"
   ]
  },
  {
   "cell_type": "code",
   "execution_count": 8,
   "id": "2d736f4a",
   "metadata": {},
   "outputs": [
    {
     "name": "stderr",
     "output_type": "stream",
     "text": [
      "Loss: 0.03 Accuracy: 0.99: 100%|███████████████████████████████████████████████████| 2500/2500 [01:03<00:00, 39.23it/s]\n"
     ]
    }
   ],
   "source": [
    "# Pre-training definitions\n",
    "model = LeNet()\n",
    "batch_size = 128\n",
    "loss_fun = torch.nn.CrossEntropyLoss()\n",
    "opt = torch.optim.SGD(model.parameters(), lr=0.1)\n",
    "\n",
    "losses = []\n",
    "accuracies = []\n",
    "\n",
    "for i in (t := trange(2500)):\n",
    "    # Create batch\n",
    "    batch_idx = np.random.randint(0, X_train.shape[0], size=(batch_size))\n",
    "    data = torch.tensor(X_train[batch_idx]).float()\n",
    "    labels = torch.tensor(Y_train[batch_idx]).long()\n",
    "    \n",
    "    # Run model and backprop\n",
    "    outputs = model(data)\n",
    "    loss = loss_fun(outputs, labels)\n",
    "    opt.zero_grad()\n",
    "    loss.backward()\n",
    "    opt.step()\n",
    "    \n",
    "    # Calculate accuracy\n",
    "    out_labels = torch.argmax(outputs, dim=1)\n",
    "    acc = (out_labels == labels).float().mean()\n",
    "    losses.append(loss.item())\n",
    "    accuracies.append(acc.item())\n",
    "    \n",
    "    # For tqdm\n",
    "    t.set_description(f\"Loss: {loss:.2f} Accuracy: {acc:.2f}\")"
   ]
  },
  {
   "cell_type": "code",
   "execution_count": 9,
   "id": "43222e1c",
   "metadata": {},
   "outputs": [
    {
     "data": {
      "text/plain": [
       "[<matplotlib.lines.Line2D at 0x25108d7bd00>]"
      ]
     },
     "execution_count": 9,
     "metadata": {},
     "output_type": "execute_result"
    },
    {
     "data": {
      "image/png": "[encoded data removed]",
      "text/plain": [
       "<Figure size 640x480 with 1 Axes>"
      ]
     },
     "metadata": {},
     "output_type": "display_data"
    }
   ],
   "source": [
    "plt.ylim(-0.5, 1.5)\n",
    "plt.plot(losses)\n",
    "plt.plot(accuracies)"
   ]
  },
  {
   "cell_type": "code",
   "execution_count": 10,
   "id": "f4591d04",
   "metadata": {},
   "outputs": [
    {
     "data": {
      "text/plain": [
       "0.983"
      ]
     },
     "execution_count": 10,
     "metadata": {},
     "output_type": "execute_result"
    }
   ],
   "source": [
    "# Evaluation\n",
    "Y_test_preds = torch.argmax(model(torch.tensor(X_test).float()), dim=1).numpy()\n",
    "(Y_test == Y_test_preds).mean()"
   ]
  }
 ],
 "metadata": {
  "kernelspec": {
   "display_name": "Python 3 (ipykernel)",
   "language": "python",
   "name": "python3"
  },
  "language_info": {
   "codemirror_mode": {
    "name": "ipython",
    "version": 3
   },
   "file_extension": ".py",
   "mimetype": "text/x-python",
   "name": "python",
   "nbconvert_exporter": "python",
   "pygments_lexer": "ipython3",
   "version": "3.10.13"
  }
 },
 "nbformat": 4,
 "nbformat_minor": 5
}
