{
 "cells": [
  {
   "cell_type": "markdown",
   "id": "421f8ea1",
   "metadata": {},
   "source": [
    "## Attention Is All You Need\n",
    "\n",
    "Original paper: https://arxiv.org/pdf/1706.03762.pdf\n",
    "\n",
    "Implementing a transformer kind of from scratch using numpy and torch"
   ]
  },
  {
   "cell_type": "code",
   "execution_count": 271,
   "id": "29c5a8d2",
   "metadata": {},
   "outputs": [],
   "source": [
    "import torch\n",
    "import numpy as np\n",
    "import torch.nn.functional as F\n",
    "import torch.nn as nn\n",
    "import math"
   ]
  },
  {
   "cell_type": "code",
   "execution_count": null,
   "id": "274669cd",
   "metadata": {},
   "outputs": [],
   "source": [
    "\"\"\"\n",
    "Need to implement\n",
    "- Scaled dot-product attention\n",
    "- Multi-head attention\n",
    "- Positional encoding\n",
    "- Layer normalization\n",
    "- Position-wise feed forward\n",
    "- Encoder layer (combination of some of the above)\n",
    "- Encoder (stack of encoder layers)\n",
    "- Multi-head cross attention\n",
    "- Decoder layer\n",
    "- Decoder\n",
    "- Transformer (combining encoder and decoder)\n",
    "\"\"\""
   ]
  },
  {
   "cell_type": "code",
   "execution_count": 272,
   "id": "1ed01d32",
   "metadata": {},
   "outputs": [],
   "source": [
    "#mask = torch.triu(torch.ones_like(x) * float('-inf'), diagonal=1)\n",
    "\n",
    "def scaled_dot_product_attention(q, k, v, mask=None):\n",
    "    numerator = q @ torch.transpose(k, -2, -1) # May have to fix this transpose\n",
    "    if mask is not None:\n",
    "        numerator = numerator + mask\n",
    "    denominator = math.sqrt(k.shape[-1])\n",
    "    sm = F.softmax((numerator/denominator), dim=-1, dtype=torch.float32)\n",
    "    result = sm @ v\n",
    "    return result"
   ]
  },
  {
   "cell_type": "code",
   "execution_count": 273,
   "id": "0fbac151",
   "metadata": {},
   "outputs": [],
   "source": [
    "# Change this to take q, k, v as input like the original paper\n",
    "class MultiHeadAttention(nn.Module):\n",
    "    def __init__(self, heads, embed_dim):\n",
    "        super().__init__()\n",
    "        self.heads = heads\n",
    "        self.embed_dim = embed_dim\n",
    "        self.head_dim = embed_dim // heads # Embed dim must be divisible by heads\n",
    "        self.qkv_linear = nn.Linear(self.embed_dim, self.embed_dim * 3)\n",
    "        \n",
    "    def forward(self, x, mask=None):\n",
    "        batch_size, seq_length, _ = x.size()\n",
    "        qkv = self.qkv_linear(x)\n",
    "        qkv = qkv.reshape(batch_size, seq_length, self.heads, self.head_dim * 3)\n",
    "        qkv = qkv.permute(0, 2, 1, 3)\n",
    "        q, k, v = torch.chunk(qkv, 3, dim=-1)\n",
    "        x = scaled_dot_product_attention(q,k,v)\n",
    "        x = x.permute(0, 2, 1, 3).reshape(batch_size, seq_length, self.embed_dim)\n",
    "        return x"
   ]
  },
  {
   "cell_type": "code",
   "execution_count": 274,
   "id": "95b85eba",
   "metadata": {},
   "outputs": [
    {
     "name": "stdout",
     "output_type": "stream",
     "text": [
      "torch.Size([30, 50, 512])\n"
     ]
    }
   ],
   "source": [
    "test = torch.randn((30,50,512))\n",
    "\n",
    "mh = MultiHeadAttention(8, 512)\n",
    "res = mh(test)\n",
    "print(res.shape)\n",
    "# Check if tensors equal within threshold\n",
    "# torch.all(torch.lt(torch.abs(torch.add(a, -b)), 1e-10))"
   ]
  }
 ],
 "metadata": {
  "kernelspec": {
   "display_name": "Python 3 (ipykernel)",
   "language": "python",
   "name": "python3"
  },
  "language_info": {
   "codemirror_mode": {
    "name": "ipython",
    "version": 3
   },
   "file_extension": ".py",
   "mimetype": "text/x-python",
   "name": "python",
   "nbconvert_exporter": "python",
   "pygments_lexer": "ipython3",
   "version": "3.10.13"
  }
 },
 "nbformat": 4,
 "nbformat_minor": 5
}
