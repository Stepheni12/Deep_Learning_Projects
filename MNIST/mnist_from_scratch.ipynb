{
 "cells": [
  {
   "cell_type": "markdown",
   "id": "cd616710",
   "metadata": {},
   "source": [
    "## Implement MNIST model from scratch using NumPy\n",
    "Idea and some code from: https://github.com/geohot/ai-notebooks/blob/master/mnist_from_scratch.ipynb"
   ]
  },
  {
   "cell_type": "markdown",
   "id": "37ebfc2a",
   "metadata": {},
   "source": [
    "#### PyTorch Implementation"
   ]
  },
  {
   "cell_type": "code",
   "execution_count": 255,
   "id": "8d2c8d78",
   "metadata": {},
   "outputs": [],
   "source": [
    "import pandas as pd\n",
    "import math\n",
    "import numpy as np\n",
    "import torch\n",
    "import torch.nn.functional as F\n",
    "from tqdm import trange\n",
    "import matplotlib.pyplot as plt\n",
    "%matplotlib inline"
   ]
  },
  {
   "cell_type": "code",
   "execution_count": 236,
   "id": "342a3712",
   "metadata": {},
   "outputs": [],
   "source": [
    "# Load the mnist dataset and rescale images to 0-1\n",
    "def fetch(url):\n",
    "    import requests, gzip, os, hashlib, numpy\n",
    "    fp = os.path.join(\"/tmp\", hashlib.md5(url.encode('utf-8')).hexdigest())\n",
    "    if os.path.isfile(fp):\n",
    "        with open(fp, \"rb\") as f:\n",
    "            dat = f.read()\n",
    "    else:\n",
    "        with open(fp, \"wb\") as f:\n",
    "            dat = requests.get(url).content\n",
    "            f.write(dat)\n",
    "    return numpy.frombuffer(gzip.decompress(dat), dtype=np.uint8).copy()\n",
    "X_train = fetch(\"http://yann.lecun.com/exdb/mnist/train-images-idx3-ubyte.gz\")[0x10:].reshape((-1, 28, 28)) / 255.0\n",
    "Y_train = fetch(\"http://yann.lecun.com/exdb/mnist/train-labels-idx1-ubyte.gz\")[8:]\n",
    "X_test = fetch(\"http://yann.lecun.com/exdb/mnist/t10k-images-idx3-ubyte.gz\")[0x10:].reshape((-1, 28, 28)) / 255.0\n",
    "Y_test = fetch(\"http://yann.lecun.com/exdb/mnist/t10k-labels-idx1-ubyte.gz\")[8:]"
   ]
  },
  {
   "cell_type": "code",
   "execution_count": 237,
   "id": "a47c8447",
   "metadata": {},
   "outputs": [],
   "source": [
    "# First implement in PyTorch\n",
    "class Net(torch.nn.Module):\n",
    "    def __init__(self):\n",
    "        super(Net, self).__init__()\n",
    "        self.layer1 = torch.nn.Linear(784, 64, bias=False)\n",
    "        self.layer2 = torch.nn.Linear(64, 10, bias=False)\n",
    "        #self.softmax = torch.nn.LogSoftmax(dim=1)\n",
    "    def forward(self, x):\n",
    "        x = torch.nn.functional.relu(self.layer1(x))\n",
    "        x = self.layer2(x)\n",
    "        #x = self.softmax(x)\n",
    "        return x"
   ]
  },
  {
   "cell_type": "code",
   "execution_count": 238,
   "id": "6d7a0e3c",
   "metadata": {},
   "outputs": [
    {
     "name": "stderr",
     "output_type": "stream",
     "text": [
      "Loss: 0.24 Accuracy: 0.92: 100%|██████████████████████████████████████████████████| 1000/1000 [00:05<00:00, 169.93it/s]\n"
     ]
    }
   ],
   "source": [
    "# Pre-training definitions\n",
    "model = Net()\n",
    "batch_size = 128\n",
    "loss_fun = torch.nn.CrossEntropyLoss()\n",
    "opt = torch.optim.SGD(model.parameters(), lr=0.1)\n",
    "\n",
    "losses = []\n",
    "accuracies = []\n",
    "\n",
    "for i in (t := trange(1000)):\n",
    "    # Create batch\n",
    "    batch_idx = np.random.randint(0, X_train.shape[0], size=(batch_size))\n",
    "    data = torch.tensor(X_train[batch_idx].reshape((-1, 784))).float()\n",
    "    labels = torch.tensor(Y_train[batch_idx]).long()\n",
    "    \n",
    "    # Run model and backprop\n",
    "    outputs = model(data)\n",
    "    loss = loss_fun(outputs, labels)\n",
    "    opt.zero_grad()\n",
    "    loss.backward()\n",
    "    opt.step()\n",
    "    \n",
    "    # Calculate accuracy\n",
    "    out_labels = torch.argmax(outputs, dim=1)\n",
    "    acc = (out_labels == labels).float().mean()\n",
    "    losses.append(loss.item())\n",
    "    accuracies.append(acc.item())\n",
    "    \n",
    "    # For tqdm\n",
    "    t.set_description(f\"Loss: {loss:.2f} Accuracy: {acc:.2f}\")\n",
    "    "
   ]
  },
  {
   "cell_type": "code",
   "execution_count": 239,
   "id": "bcabee11",
   "metadata": {},
   "outputs": [
    {
     "data": {
      "text/plain": [
       "[<matplotlib.lines.Line2D at 0x1b81281e230>]"
      ]
     },
     "execution_count": 239,
     "metadata": {},
     "output_type": "execute_result"
    },
    {
     "data": {
      "image/png": "[encoded data removed]",
      "text/plain": [
       "<Figure size 432x288 with 1 Axes>"
      ]
     },
     "metadata": {
      "needs_background": "light"
     },
     "output_type": "display_data"
    }
   ],
   "source": [
    "plt.ylim(-0.5, 1.5)\n",
    "plt.plot(losses)\n",
    "plt.plot(accuracies)"
   ]
  },
  {
   "cell_type": "code",
   "execution_count": 240,
   "id": "3da2650f",
   "metadata": {},
   "outputs": [
    {
     "data": {
      "text/plain": [
       "0.9308"
      ]
     },
     "execution_count": 240,
     "metadata": {},
     "output_type": "execute_result"
    }
   ],
   "source": [
    "# Evaluation\n",
    "Y_test_preds = torch.argmax(model(torch.tensor(X_test.reshape((-1, 28*28))).float()), dim=1).numpy()\n",
    "(Y_test == Y_test_preds).mean()"
   ]
  },
  {
   "cell_type": "markdown",
   "id": "ca9158a7",
   "metadata": {},
   "source": [
    "#### NumPy from scratch implementation "
   ]
  },
  {
   "cell_type": "code",
   "execution_count": 355,
   "id": "580f788b",
   "metadata": {},
   "outputs": [
    {
     "data": {
      "text/plain": [
       "0.9308"
      ]
     },
     "execution_count": 355,
     "metadata": {},
     "output_type": "execute_result"
    }
   ],
   "source": [
    "# Weights from pytorch model\n",
    "l1_weight_torch = model.layer1.weight.detach().numpy().T\n",
    "l2_weight_torch = model.layer2.weight.detach().numpy().T\n",
    "\n",
    "# forward pass\n",
    "def forward(x):\n",
    "    x = x.dot(l1_weight_torch)\n",
    "    x = np.maximum(x,0)\n",
    "    x = x.dot(l2_weight_torch)\n",
    "    return x\n",
    "\n",
    "def compare_numpy():\n",
    "    Y_test_preds_out = forward(X_test.reshape((-1, 28*28)))\n",
    "    Y_test_preds = np.argmax(Y_test_preds_out, axis=1)\n",
    "    return (Y_test == Y_test_preds).mean()\n",
    "\n",
    "compare_numpy()"
   ]
  },
  {
   "cell_type": "code",
   "execution_count": 371,
   "id": "994fe5b1",
   "metadata": {},
   "outputs": [],
   "source": [
    "def forward_and_backward(x, y):\n",
    "    batch_size = x.shape[0]\n",
    "    \n",
    "    # Forward pass\n",
    "    lay1 = x.dot(weights_l1)\n",
    "    act = np.maximum(lay1, 0)\n",
    "    logits = act.dot(weights_l2)\n",
    "    \n",
    "    # Calculate loss (broken down into individual steps)\n",
    "    # https://www.youtube.com/watch?v=q8SA3rM6ckI\n",
    "    logit_maxes = logits.max(1, keepdims=True)\n",
    "    norm_logits = logits - logit_maxes # subtract max for numerical stability\n",
    "    counts = np.exp(norm_logits)\n",
    "    counts_sum = counts.sum(1, keepdims=True)\n",
    "    counts_sum_inv = counts_sum**-1 # if I use (1.0 / counts_sum) instead then I can't get backprop to be bit exact...\n",
    "    probs = counts * counts_sum_inv\n",
    "    logprobs = np.log(probs)\n",
    "    loss = -logprobs[range(batch_size), y].mean()\n",
    "    \n",
    "#     print(\"logits\",logits)\n",
    "#     print(\"logit_maxes\",logit_maxes)\n",
    "#     print(\"norm_logits\",norm_logits)\n",
    "#     print(\"counts\",counts)\n",
    "#     print(\"counts_sum\",counts_sum)\n",
    "#     print(\"probs\",probs*100)\n",
    "#     print(\"logprobs\", logprobs)\n",
    "#     print(\"loss\", loss)\n",
    "    \n",
    "    #For double checking against the PyTorch results\n",
    "    #print(F.cross_entropy(torch.tensor(logits).squeeze(), torch.tensor(y)))\n",
    "    \n",
    "    # More info on propagations in makemore notebook and in youtube link above\n",
    "    # Backward pass (lots and lots of chain rule dy/dx = dy/du * du/dx)\n",
    "    dlogprobs = np.zeros_like(logprobs)\n",
    "    dlogprobs[range(batch_size), y] = -1.0/batch_size\n",
    "    \n",
    "    dlogprobs_dprobs = 1.0/probs\n",
    "    dprobs = dlogprobs * dlogprobs_dprobs\n",
    "    \n",
    "    dprobs_dcounts_sum_inv = counts\n",
    "    dcounts_sum_inv = (dprobs_dcounts_sum_inv * dprobs).sum(1, keepdims=True) # the sum accounts for tensor broadcasting\n",
    "    \n",
    "    dcounts_sum_inv_dcounts_sum = -1.0 / (counts_sum ** 2)\n",
    "    dcounts_sum = dcounts_sum_inv_dcounts_sum * dcounts_sum_inv\n",
    "    \n",
    "    dcounts = dprobs * counts_sum_inv\n",
    "    dcounts += np.ones_like(counts) * dcounts_sum\n",
    "    \n",
    "    dcounts_dnorm_logits = np.exp(norm_logits)\n",
    "    dnorm_logits = dcounts_dnorm_logits * dcounts\n",
    "    \n",
    "    dnorm_logits_dlogit_maxes = -1.0\n",
    "    dlogit_maxes = (dnorm_logits_dlogit_maxes * dnorm_logits).sum(1, keepdims=True)\n",
    "    \n",
    "    dlogits = 1.0 * dnorm_logits\n",
    "    with torch.no_grad():\n",
    "        dlogit_maxes_dlogits = F.one_hot(torch.tensor(logits).max(1).indices, num_classes=logits.shape[1]).numpy()\n",
    "    dlogits += dlogit_maxes_dlogits * dlogit_maxes\n",
    "\n",
    "    # logits = relu @ l2_weight (batch_size, 10)\n",
    "    # dlogits = (batch_size, 10)\n",
    "    # act = (batch_size, 64)\n",
    "    # l2_weight = (64,10)\n",
    "    dact = dlogits.dot(np.transpose(weights_l2))\n",
    "    dl2_weight = np.transpose(act).dot(dlogits)\n",
    "    \n",
    "    dact_dlay1 = np.ones_like(lay1)\n",
    "    dact_dlay1[np.where(lay1 < 0)] = 0\n",
    "    dlay1 = dact_dlay1 * dact\n",
    "    \n",
    "    # dlay1 (batch_size,64)\n",
    "    # x (batch_size, 784)\n",
    "    # l1_weight (784, 64)\n",
    "    dx = dlay1.dot(np.transpose(weights_l1))\n",
    "    dl1_weight = np.transpose(x).dot(dlay1)\n",
    "    \n",
    "    return loss, logits, dl1_weight, dl2_weight\n",
    "\n",
    "# Based on pytorch linear weight init\n",
    "def layer_init(fan_in, fan_out):\n",
    "    # Hard-coding gain for relu\n",
    "    gain = math.sqrt(2.0)\n",
    "    std = gain / math.sqrt(fan_in)\n",
    "    bound = math.sqrt(3.0) * std\n",
    "    weights = np.random.uniform(-bound, bound, (fan_in,fan_out))\n",
    "    return weights.astype(np.float32)"
   ]
  },
  {
   "cell_type": "code",
   "execution_count": 380,
   "id": "e6534319",
   "metadata": {},
   "outputs": [
    {
     "name": "stderr",
     "output_type": "stream",
     "text": [
      "loss 0.30 accuracy 0.91: 100%|████████████████████████████████████████████████████| 1000/1000 [00:05<00:00, 173.95it/s]\n"
     ]
    },
    {
     "data": {
      "text/plain": [
       "[<matplotlib.lines.Line2D at 0x1b8275477f0>]"
      ]
     },
     "execution_count": 380,
     "metadata": {},
     "output_type": "execute_result"
    },
    {
     "data": {
      "image/png": "[encoded data removed]",
      "text/plain": [
       "<Figure size 432x288 with 1 Axes>"
      ]
     },
     "metadata": {
      "needs_background": "light"
     },
     "output_type": "display_data"
    }
   ],
   "source": [
    "# Init\n",
    "#np.random.seed(28734)\n",
    "weights_l1 = layer_init(784, 64)\n",
    "weights_l2 = layer_init(64, 10)\n",
    "\n",
    "batch_size = 128\n",
    "lr = 0.1\n",
    "\n",
    "losses, accuracies = [], []\n",
    "\n",
    "for i in (t := trange(1000)):\n",
    "    samp = np.random.randint(0, X_train.shape[0], size=(batch_size))\n",
    "    X = X_train[samp].reshape((-1, 784))\n",
    "    Y = Y_train[samp]\n",
    "    \n",
    "    loss, logits, dl1, dl2 = forward_and_backward(X, Y)\n",
    "    \n",
    "    cat = np.argmax(logits, axis=1)\n",
    "    accuracy = (cat == Y).mean()\n",
    "    \n",
    "    # SGD\n",
    "    weights_l1 = weights_l1 - lr*dl1\n",
    "    weights_l2 = weights_l2 - lr*dl2\n",
    "    \n",
    "    losses.append(loss)\n",
    "    accuracies.append(accuracy)\n",
    "    t.set_description(\"loss %.2f accuracy %.2f\" % (loss, accuracy))\n",
    "    \n",
    "plt.ylim(-0.1, 1.1)\n",
    "plt.plot(losses)\n",
    "plt.plot(accuracies)"
   ]
  },
  {
   "cell_type": "code",
   "execution_count": 381,
   "id": "995f4fc5",
   "metadata": {},
   "outputs": [
    {
     "name": "stdout",
     "output_type": "stream",
     "text": [
      "Eval loss:  0.23710975642513804\n",
      "Eval Accuracy:  0.9287\n"
     ]
    }
   ],
   "source": [
    "# Evaluation\n",
    "eval_loss, eval_logits, _, _ = forward_and_backward(X_test.reshape((-1, 784)), Y_test)\n",
    "eval_cat = np.argmax(eval_logits, axis=1)\n",
    "eval_accuracy = (eval_cat == Y_test).mean()\n",
    "\n",
    "print(\"Eval loss: \", eval_loss)\n",
    "print(\"Eval Accuracy: \", eval_accuracy)"
   ]
  },
  {
   "cell_type": "code",
   "execution_count": 383,
   "id": "aeebcb42",
   "metadata": {},
   "outputs": [
    {
     "data": {
      "text/plain": [
       "<matplotlib.image.AxesImage at 0x1b827571c90>"
      ]
     },
     "execution_count": 383,
     "metadata": {},
     "output_type": "execute_result"
    },
    {
     "data": {
      "image/png": "[encoded data removed]",
      "text/plain": [
       "<Figure size 432x288 with 1 Axes>"
      ]
     },
     "metadata": {
      "needs_background": "light"
     },
     "output_type": "display_data"
    }
   ],
   "source": [
    "# for fun, can it recognize 4?\n",
    "m = [[0,0,0,0,0,0,0],\n",
    "     [0,0,1,0,1,0,0],\n",
    "     [0,0,1,0,1,0,0],\n",
    "     [0,0,1,1,1,1,0],\n",
    "     [0,0,0,0,1,0,0],\n",
    "     [0,0,0,0,1,0,0],\n",
    "     [0,0,0,0,0,0,0]]\n",
    "# upscale to 28x28\n",
    "m = np.concatenate([np.concatenate([[x]*4 for x in y]*4) for y in m])\n",
    "plt.imshow(m.reshape(28,28))"
   ]
  },
  {
   "cell_type": "code",
   "execution_count": 384,
   "id": "4682948d",
   "metadata": {},
   "outputs": [
    {
     "data": {
      "text/plain": [
       "4"
      ]
     },
     "execution_count": 384,
     "metadata": {},
     "output_type": "execute_result"
    }
   ],
   "source": [
    "tst = m.reshape(1, -1).dot(weights_l1)\n",
    "tst = np.maximum(tst, 0)\n",
    "tst = tst.dot(weights_l2)\n",
    "np.argmax(tst)"
   ]
  },
  {
   "cell_type": "code",
   "execution_count": 385,
   "id": "119098db",
   "metadata": {},
   "outputs": [],
   "source": [
    "# :) it works"
   ]
  }
 ],
 "metadata": {
  "kernelspec": {
   "display_name": "Python 3 (ipykernel)",
   "language": "python",
   "name": "python3"
  },
  "language_info": {
   "codemirror_mode": {
    "name": "ipython",
    "version": 3
   },
   "file_extension": ".py",
   "mimetype": "text/x-python",
   "name": "python",
   "nbconvert_exporter": "python",
   "pygments_lexer": "ipython3",
   "version": "3.10.4"
  }
 },
 "nbformat": 4,
 "nbformat_minor": 5
}
