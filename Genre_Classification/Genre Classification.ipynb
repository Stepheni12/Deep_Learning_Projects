{
 "cells": [
  {
   "cell_type": "code",
   "execution_count": 1,
   "id": "fbbf1d2c",
   "metadata": {},
   "outputs": [],
   "source": [
    "import pandas as pd\n",
    "from sentence_transformers import SentenceTransformer\n",
    "import numpy as np\n",
    "from tqdm import tqdm_notebook as tqdm\n",
    "import torch.nn.functional as F\n",
    "import torch\n",
    "from sklearn.metrics import accuracy_score, precision_score, recall_score, f1_score, roc_auc_score\n",
    "from sklearn import metrics\n",
    "import matplotlib.pyplot as plt\n",
    "import torch.optim as optim\n",
    "from torch.optim.lr_scheduler import StepLR\n",
    "%matplotlib inline"
   ]
  },
  {
   "cell_type": "markdown",
   "id": "c63086f7",
   "metadata": {},
   "source": [
    "# Multi-Label Genre Classification Based on Description\n",
    "\n",
    "**TL;DR**: Originally I wanted to tackle a problem following the steps to Karpathy's \"A Recipe for Training Neural Networks\". I chose an NLP task to get some more practice, but I set a pretty unrealistic goal that I should've realized was unrealistic much sooner than I did. All in all, I researched a ton trying to get this thing to work half decently and made a bunch of mistakes along the way. I've been meaning to circle back to this and officially wrap it up and looking back I can confidently say I learned a lot and became better from this project.\n",
    "\n",
    "**Intro note**:\n",
    "There's a whole bunch of code and notes below. This is a rough draft version of things that really no one other than me would see, but there's definitely some good stuff here that I'm going to be coming back to reference. During this project I made a concious effort to log my work and thoughts more accurately so that I could effectively look back on this work in the future. I think I did a decent job of that. The code is understandable and mostly in order and there's a whole entire section of results logging and model diagnostics where I have notes on just about everything and what I was thinking. I want to continue conducting projects like this in the future because in this format it's very easy for me to understand my past work and convert this rough draft into something more formal if it needs to be sent around for others to review.\n",
    "\n",
    "(Based entirely on Karpathy \"A Recipe for Training Neural Networks\")\n",
    "\n",
    "## Not so Subtle Reminders\n",
    "1. Remember that neural nets aren't as simple to train as they are made to seem. Hidden behind the simple lines of these frameworks are many layers of complexity. Make a concious effort to develop a deep understanding on what's going on behind the scenes. It will help immensely when things begin to break.\n",
    "2. Neural networks have an uncanny ability to fail *silently*. In programming, many problems are avoided using thorough unit testing and if not you may get lucky and the things you miss might end up throwing an exception anyway. Neural networks are unique in that they may not show any signs of failure, but in reality it's working worse than it should be due to something such as: you forgot to flip your labels when you left-right flipped the image during data augmentation. \n",
    "\n",
    "## Key Principles\n",
    "1. Don't be a hero. Start **simple** and **gradually** build up complexity.\n",
    "2. Be patient.\n",
    "3. Pay extra attention to detail. Test and double check everything.\n",
    "\n",
    "## Basic Steps\n",
    "1. Develop a deep understanding of your dataset.\n",
    "2. Set up **simple** end-to-end training/evaluation skeleton to get dumb baselines\n",
    "3. Now you want to begin iterating on a good model.\n",
    "    - First get a model large enough that it can overfit (i.e. focus on training loss)\n",
    "    - If you've done step 2 *correctly* and you are still unable to reach a low error rate with any model at all then that may\n",
    "      indicate an issue/bug/misconfiguration.\n",
    "4. At this point you have a large model that is fitting at least the training set. Now it's time to regularize it and give up some train loss to gain some val loss.\n",
    "5. Now you begin exploring a wide model space to achieve the lowest val loss you can reach.\n",
    "6. Once you have an idea of the best kind of architecture/hyper-parameters there's still some areas to squeeze out a few extra percent in accuracy\n",
    "    - Ensembles\n",
    "    - Leave it training. Networks keep training for an unintuitively long time, you may be surprised what happens if you give it enough time"
   ]
  },
  {
   "cell_type": "markdown",
   "id": "73c01aef",
   "metadata": {},
   "source": [
    "### Explore the Data"
   ]
  },
  {
   "cell_type": "code",
   "execution_count": 127,
   "id": "61d9829a",
   "metadata": {},
   "outputs": [],
   "source": [
    "data = pd.read_csv(\"IMDB.csv\")"
   ]
  },
  {
   "cell_type": "code",
   "execution_count": 128,
   "id": "1e80d425",
   "metadata": {},
   "outputs": [],
   "source": [
    "# Get rid of unnecessary columns\n",
    "data = data.drop(['Unnamed: 0', 'index', 'tconst','language', 'types', 'attributes', 'isOriginalTitle', 'isAdult'], axis=1)"
   ]
  },
  {
   "cell_type": "code",
   "execution_count": 129,
   "id": "b06be02d",
   "metadata": {},
   "outputs": [
    {
     "data": {
      "text/plain": [
       "(7850, 13)"
      ]
     },
     "execution_count": 129,
     "metadata": {},
     "output_type": "execute_result"
    }
   ],
   "source": [
    "data.shape"
   ]
  },
  {
   "cell_type": "code",
   "execution_count": 130,
   "id": "bf842601",
   "metadata": {},
   "outputs": [
    {
     "data": {
      "text/html": [
       "<div>\n",
       "<style scoped>\n",
       "    .dataframe tbody tr th:only-of-type {\n",
       "        vertical-align: middle;\n",
       "    }\n",
       "\n",
       "    .dataframe tbody tr th {\n",
       "        vertical-align: top;\n",
       "    }\n",
       "\n",
       "    .dataframe thead th {\n",
       "        text-align: right;\n",
       "    }\n",
       "</style>\n",
       "<table border=\"1\" class=\"dataframe\">\n",
       "  <thead>\n",
       "    <tr style=\"text-align: right;\">\n",
       "      <th></th>\n",
       "      <th>titleType</th>\n",
       "      <th>primaryTitle</th>\n",
       "      <th>originalTitle</th>\n",
       "      <th>startYear</th>\n",
       "      <th>endYear</th>\n",
       "      <th>runtimeMinutes</th>\n",
       "      <th>genres</th>\n",
       "      <th>averageRating</th>\n",
       "      <th>numVotes</th>\n",
       "      <th>ordering</th>\n",
       "      <th>title</th>\n",
       "      <th>region</th>\n",
       "      <th>Description</th>\n",
       "    </tr>\n",
       "  </thead>\n",
       "  <tbody>\n",
       "    <tr>\n",
       "      <th>0</th>\n",
       "      <td>movie</td>\n",
       "      <td>The Silence of the Lambs</td>\n",
       "      <td>The Silence of the Lambs</td>\n",
       "      <td>1991</td>\n",
       "      <td>\\N</td>\n",
       "      <td>118</td>\n",
       "      <td>Crime,Drama,Thriller</td>\n",
       "      <td>8.6</td>\n",
       "      <td>1473918</td>\n",
       "      <td>50</td>\n",
       "      <td>The Silence of the Lambs</td>\n",
       "      <td>US</td>\n",
       "      <td>Jodie Foster stars as Clarice Starling, a top ...</td>\n",
       "    </tr>\n",
       "    <tr>\n",
       "      <th>1</th>\n",
       "      <td>movie</td>\n",
       "      <td>Terminator 2: Judgment Day</td>\n",
       "      <td>Terminator 2: Judgment Day</td>\n",
       "      <td>1991</td>\n",
       "      <td>\\N</td>\n",
       "      <td>137</td>\n",
       "      <td>Action,Sci-Fi</td>\n",
       "      <td>8.6</td>\n",
       "      <td>1128166</td>\n",
       "      <td>17</td>\n",
       "      <td>Terminator 2: Judgment Day</td>\n",
       "      <td>US</td>\n",
       "      <td>In this sequel set eleven years after \"The Ter...</td>\n",
       "    </tr>\n",
       "    <tr>\n",
       "      <th>2</th>\n",
       "      <td>movie</td>\n",
       "      <td>The Lion King</td>\n",
       "      <td>The Lion King</td>\n",
       "      <td>1994</td>\n",
       "      <td>\\N</td>\n",
       "      <td>88</td>\n",
       "      <td>Adventure,Animation,Drama</td>\n",
       "      <td>8.5</td>\n",
       "      <td>1090882</td>\n",
       "      <td>18</td>\n",
       "      <td>The Lion King 3D</td>\n",
       "      <td>US</td>\n",
       "      <td>This Disney animated feature follows the adven...</td>\n",
       "    </tr>\n",
       "    <tr>\n",
       "      <th>3</th>\n",
       "      <td>movie</td>\n",
       "      <td>Pulp Fiction</td>\n",
       "      <td>Pulp Fiction</td>\n",
       "      <td>1994</td>\n",
       "      <td>\\N</td>\n",
       "      <td>154</td>\n",
       "      <td>Crime,Drama</td>\n",
       "      <td>8.9</td>\n",
       "      <td>2118762</td>\n",
       "      <td>22</td>\n",
       "      <td>Pulp Fiction</td>\n",
       "      <td>US</td>\n",
       "      <td>Vincent Vega (John Travolta) and Jules Winnfie...</td>\n",
       "    </tr>\n",
       "    <tr>\n",
       "      <th>4</th>\n",
       "      <td>movie</td>\n",
       "      <td>The Shawshank Redemption</td>\n",
       "      <td>The Shawshank Redemption</td>\n",
       "      <td>1994</td>\n",
       "      <td>\\N</td>\n",
       "      <td>142</td>\n",
       "      <td>Drama</td>\n",
       "      <td>9.3</td>\n",
       "      <td>2759621</td>\n",
       "      <td>2</td>\n",
       "      <td>The Shawshank Redemption</td>\n",
       "      <td>US</td>\n",
       "      <td>Andy Dufresne (Tim Robbins) is sentenced to tw...</td>\n",
       "    </tr>\n",
       "  </tbody>\n",
       "</table>\n",
       "</div>"
      ],
      "text/plain": [
       "  titleType                primaryTitle               originalTitle  \\\n",
       "0     movie    The Silence of the Lambs    The Silence of the Lambs   \n",
       "1     movie  Terminator 2: Judgment Day  Terminator 2: Judgment Day   \n",
       "2     movie               The Lion King               The Lion King   \n",
       "3     movie                Pulp Fiction                Pulp Fiction   \n",
       "4     movie    The Shawshank Redemption    The Shawshank Redemption   \n",
       "\n",
       "   startYear endYear runtimeMinutes                     genres  averageRating  \\\n",
       "0       1991      \\N            118       Crime,Drama,Thriller            8.6   \n",
       "1       1991      \\N            137              Action,Sci-Fi            8.6   \n",
       "2       1994      \\N             88  Adventure,Animation,Drama            8.5   \n",
       "3       1994      \\N            154                Crime,Drama            8.9   \n",
       "4       1994      \\N            142                      Drama            9.3   \n",
       "\n",
       "   numVotes  ordering                       title region  \\\n",
       "0   1473918        50    The Silence of the Lambs     US   \n",
       "1   1128166        17  Terminator 2: Judgment Day     US   \n",
       "2   1090882        18            The Lion King 3D     US   \n",
       "3   2118762        22                Pulp Fiction     US   \n",
       "4   2759621         2    The Shawshank Redemption     US   \n",
       "\n",
       "                                         Description  \n",
       "0  Jodie Foster stars as Clarice Starling, a top ...  \n",
       "1  In this sequel set eleven years after \"The Ter...  \n",
       "2  This Disney animated feature follows the adven...  \n",
       "3  Vincent Vega (John Travolta) and Jules Winnfie...  \n",
       "4  Andy Dufresne (Tim Robbins) is sentenced to tw...  "
      ]
     },
     "execution_count": 130,
     "metadata": {},
     "output_type": "execute_result"
    }
   ],
   "source": [
    "data.head()"
   ]
  },
  {
   "cell_type": "code",
   "execution_count": 26,
   "id": "d69337b9",
   "metadata": {},
   "outputs": [
    {
     "name": "stderr",
     "output_type": "stream",
     "text": [
      "C:\\Users\\Stephen\\AppData\\Local\\Temp\\ipykernel_19500\\133283522.py:7: TqdmDeprecationWarning: This function will be removed in tqdm==5.0.0\n",
      "Please use `tqdm.notebook.tqdm` instead of `tqdm.tqdm_notebook`\n",
      "  with tqdm(total=len(all_desc), desc=\"Encoding sentences\") as pbar:\n"
     ]
    },
    {
     "data": {
      "application/vnd.jupyter.widget-view+json": {
       "model_id": "a644968799664c44acbbbfbe5b2ebd42",
       "version_major": 2,
       "version_minor": 0
      },
      "text/plain": [
       "Encoding sentences:   0%|          | 0/7850 [00:00<?, ?it/s]"
      ]
     },
     "metadata": {},
     "output_type": "display_data"
    }
   ],
   "source": [
    "# Use Sentence Transformer from hugging face to retrieve word embedddings for descriptions\n",
    "all_desc = data['Description'].astype(str).tolist()\n",
    "model = SentenceTransformer('sentence-transformers/all-MiniLM-L6-V2')\n",
    "\n",
    "# Use tqdm to track the progress of encoding\n",
    "with tqdm(total=len(all_desc), desc=\"Encoding sentences\") as pbar:\n",
    "    # Encode each sentence and update the progress bar\n",
    "    sentence_embeddings = []\n",
    "    for desc in all_desc:\n",
    "        embedding = model.encode(desc)\n",
    "        sentence_embeddings.append(embedding)\n",
    "        pbar.update(1)"
   ]
  },
  {
   "cell_type": "code",
   "execution_count": 131,
   "id": "37793916",
   "metadata": {},
   "outputs": [],
   "source": [
    "# Save embeddings in torch tensor for later use\n",
    "# embeddings = torch.tensor(sentence_embeddings)\n",
    "# embeddings.shape\n",
    "\n",
    "# Or.. load embeddings from pytorch tensor\n",
    "embeddings = torch.load(\"embeddings.pt\")"
   ]
  },
  {
   "cell_type": "code",
   "execution_count": 132,
   "id": "61712029",
   "metadata": {},
   "outputs": [
    {
     "data": {
      "text/plain": [
       "[(4, tensor(1.)),\n",
       " (69, tensor(0.5307)),\n",
       " (4727, tensor(0.5159)),\n",
       " (917, tensor(0.5102)),\n",
       " (753, tensor(0.5099)),\n",
       " (4441, tensor(0.4832)),\n",
       " (2520, tensor(0.4769)),\n",
       " (4434, tensor(0.4757)),\n",
       " (1753, tensor(0.4671)),\n",
       " (2408, tensor(0.4619))]"
      ]
     },
     "execution_count": 132,
     "metadata": {},
     "output_type": "execute_result"
    }
   ],
   "source": [
    "# Calculate cosine similarity of description of Shawshank Redemption with every other movie/show desc in the list\n",
    "# Note: Picks up similarities to other movies/shows involving prison\n",
    "sim = F.cosine_similarity(embeddings[4].unsqueeze(0), embeddings, dim=1)\n",
    "sim_pairs = list(enumerate(sim))\n",
    "sorted_sim_pairs = sorted(sim_pairs, key=lambda x:x[1], reverse=True)\n",
    "sorted_sim_pairs[:10]"
   ]
  },
  {
   "cell_type": "code",
   "execution_count": 133,
   "id": "ab8a008a",
   "metadata": {},
   "outputs": [
    {
     "name": "stdout",
     "output_type": "stream",
     "text": [
      "[(132, 9.5), (1536, 9.5), (4764, 9.5), (5399, 9.5), (99, 9.4), (523, 9.4), (1424, 9.4), (5304, 9.4), (4, 9.3), (779, 9.3)]\n"
     ]
    }
   ],
   "source": [
    "# Print the top 10 ratings of all movies/shows\n",
    "ratings = list(enumerate(data['averageRating']))\n",
    "sorted_ratings = sorted(ratings, key=lambda x:x[1], reverse=True)\n",
    "print(sorted_ratings[:10])"
   ]
  },
  {
   "cell_type": "markdown",
   "id": "403b12d0",
   "metadata": {},
   "source": [
    "### Narrowing in on a genre classification model based on movie/show description"
   ]
  },
  {
   "cell_type": "code",
   "execution_count": 134,
   "id": "5c291ce3",
   "metadata": {},
   "outputs": [
    {
     "name": "stdout",
     "output_type": "stream",
     "text": [
      "Original shape: (7850, 27)\n",
      "Filtered shape: (4156, 19)\n",
      "Embeddings original shape: torch.Size([7850, 384])\n",
      "Filtered embeddings shape: torch.Size([4156, 384])\n"
     ]
    }
   ],
   "source": [
    "# Circling back from my personal classifications section below to clean up the duplicates issues \n",
    "remove_idx_lst_tmp = data[data['primaryTitle'].duplicated(keep=False)].index.tolist()\n",
    "\n",
    "# remove indices where descriptions are too short (fewer than X characters)\n",
    "remove_idx_lst_tmp += data[data['Description'].str.len() < 200].index.tolist()\n",
    "\n",
    "# Use pandas get_dummies to create multi-hot encoding\n",
    "# super cool function\n",
    "multi_hot = data['genres'].str.get_dummies(sep=',')\n",
    "\n",
    "# Remove all genres with less than 150 movies/tv-shows within them\n",
    "genre_counts_mask = multi_hot.sum() > 150\n",
    "genres_filtered_df = multi_hot.loc[:,genre_counts_mask]\n",
    "\n",
    "# Remove any of the rows that have no genre\n",
    "print(\"Original shape:\", multi_hot.shape)\n",
    "remove_idx_lst_tmp += genres_filtered_df[genres_filtered_df.sum(axis=1) == 0].index.tolist()\n",
    "# Added the line below to avoid deleting an index multiple times which could have been a pretty nasty bug, but because of how \n",
    "# I deleted things this didn't end up being an issue. The pandas df didn't reset indices so once an index is gotten it no\n",
    "# no longer exists, it's not like everything above it shifts down one. And for the pytorch mask it would just mean a certain\n",
    "# index got set equal to zero multiple times. \n",
    "remove_idx_lst = list(set(remove_idx_lst_tmp))\n",
    "filtered = genres_filtered_df.drop(remove_idx_lst_tmp) # CHANGE\n",
    "print(\"Filtered shape:\", filtered.shape)\n",
    "\n",
    "#Convert to torch tensor\n",
    "multi_hot_tensor = torch.tensor(filtered.values, dtype=torch.float32)\n",
    "\n",
    "# Removing matching indexes from embeddings tensor. Torch tensors can't actually delete so need to create a mask and index\n",
    "mask = torch.ones(embeddings.shape[0], dtype=torch.bool)\n",
    "mask[remove_idx_lst_tmp] = 0 # CHANGE\n",
    "\n",
    "new_embeddings = embeddings[mask]\n",
    "print(\"Embeddings original shape:\", embeddings.shape)\n",
    "print(\"Filtered embeddings shape:\", new_embeddings.shape)"
   ]
  },
  {
   "cell_type": "code",
   "execution_count": 135,
   "id": "c6bbf2b5",
   "metadata": {},
   "outputs": [
    {
     "name": "stdout",
     "output_type": "stream",
     "text": [
      "Average value of every element: -0.000560432206839323\n",
      "Average value of min elements: -0.1525525003671646\n",
      "Average value of max elements: 0.15505896508693695\n"
     ]
    }
   ],
   "source": [
    "# Stats on word embeddings\n",
    "print(\"Average value of every element:\", new_embeddings.mean(axis=1).mean().item())\n",
    "print(\"Average value of min elements:\", new_embeddings.min(axis=1).values.mean().item())\n",
    "print(\"Average value of max elements:\", new_embeddings.max(axis=1).values.mean().item())"
   ]
  },
  {
   "cell_type": "code",
   "execution_count": 136,
   "id": "59c9d2c9",
   "metadata": {},
   "outputs": [
    {
     "data": {
      "text/plain": [
       "Action          834\n",
       "Adventure       671\n",
       "Animation       367\n",
       "Biography       363\n",
       "Comedy         1331\n",
       "Crime           876\n",
       "Documentary     295\n",
       "Drama          2700\n",
       "Family          152\n",
       "Fantasy         231\n",
       "History         211\n",
       "Horror          185\n",
       "Music           151\n",
       "Mystery         435\n",
       "Romance         517\n",
       "Sci-Fi          217\n",
       "Sport            91\n",
       "Thriller        408\n",
       "War              88\n",
       "dtype: int64"
      ]
     },
     "execution_count": 136,
     "metadata": {},
     "output_type": "execute_result"
    }
   ],
   "source": [
    "# Counts per genre\n",
    "filtered.sum()"
   ]
  },
  {
   "cell_type": "code",
   "execution_count": 137,
   "id": "9e4dbe41",
   "metadata": {},
   "outputs": [
    {
     "data": {
      "text/plain": [
       "2.435755534167469"
      ]
     },
     "execution_count": 137,
     "metadata": {},
     "output_type": "execute_result"
    }
   ],
   "source": [
    "# Clearly still a pretty unbalanced dataset, let's get an idea of how many genres the content usually has\n",
    "filtered.sum(axis=1).mean()"
   ]
  },
  {
   "cell_type": "code",
   "execution_count": 138,
   "id": "d092fa9b",
   "metadata": {},
   "outputs": [
    {
     "data": {
      "text/plain": [
       "649"
      ]
     },
     "execution_count": 138,
     "metadata": {},
     "output_type": "execute_result"
    }
   ],
   "source": [
    "# How many movies/shows have a single genre\n",
    "(filtered.sum(axis=1) == 1).sum()"
   ]
  },
  {
   "cell_type": "code",
   "execution_count": 139,
   "id": "438f2640",
   "metadata": {},
   "outputs": [
    {
     "name": "stdout",
     "output_type": "stream",
     "text": [
      "1\n",
      "3\n"
     ]
    }
   ],
   "source": [
    "# Minimum of a single genre, max of 3 genres\n",
    "print(filtered.sum(axis=1).min())\n",
    "print(filtered.sum(axis=1).max())"
   ]
  },
  {
   "cell_type": "code",
   "execution_count": 15,
   "id": "32646584",
   "metadata": {},
   "outputs": [
    {
     "name": "stdout",
     "output_type": "stream",
     "text": [
      "1\n",
      "An anthology of sinister stories told by revered horror creators.\n",
      "\n",
      "2\n",
      "Food critic Steve Coogan and traveling companion Rob Brydon trade delicious barbs and clever remarks as they tour various eateries in northern England.\n",
      "\n",
      "3\n",
      "Renowned Dragon Knight Davion becomes embroiled in events much larger than he could have ever imagined.\n",
      "\n",
      "4\n",
      "Some British retirees (Judi Dench, Maggie Smith, Bill Nighy) decide to outsource their retirement to exotic -- and less expensive -- India. Lured by advertisements for the newly restored Marigold Hotel and imagining a life of leisure in lush surroundings, they arrive and find that the Marigold is actually a shell of its former self. Though their new home is not quite what they had imagined, the retirees find that life and love can begin again when they let go of their pasts.\n",
      "\n",
      "5\n",
      "A suburban father of three girls tries to reform an undisciplined and fatherless boy by teaching him what it really means to be a man.\n",
      "\n",
      "6\n",
      "A young woman searches for a way to escape from the fantasy world Wonderland.\n",
      "\n",
      "7\n",
      "Biology professor Alfred Kinsey (Liam Neeson) has a perfectly respectable life teaching and doing research at Indiana University along with a happy home life with his wife (Laura Linney). When he realizes that his students, many of them married and with children, still come to him with personal questions about human sexuality, he fights to begin teaching sex education courses and conducts extensive interviews about the sexual history of volunteers despite high-profile opposition.\n",
      "\n",
      "8\n",
      "When a body is found on a beach in North Devon, DI Matthew Venn tackles a case that has no witnesses, no forensics and no motive. Matthew is also dealing with the death of his father and being thrust back into a community he was forced to leave.\n",
      "\n",
      "9\n",
      "A group of police investigators in New Zealand track supernatural events, including cases of demon possession, haunted houses, and blood bank robberies.\n",
      "\n",
      "10\n",
      "People from all walks of life face catastrophic consequences during devastating floods in 2018. The people of Kerala work together to survive the calamity.\n",
      "\n",
      "11\n",
      "Based on an Israeli Academy Award-winning TV drama series, \"In Treatment\" features a psychologist confronting some uneasy personal truths. For the first three seasons, the featured doctor is middle-aged Paul Weston, who has sessions with his own psychotherapist. After more than a decade off the air, the Golden Globe-winning series returned with Dr. Brooke Taylor as the psychoanalyst. Her task: help her patients navigate a variety of modern concerns, including the global pandemic and shifts in the social and cultural landscapes. But she has her own complications in her personal life to deal with while helping her patients with theirs.\n",
      "\n",
      "12\n",
      "James Cameron's \"Titanic\" is an epic, action-packed romance set against the ill-fated maiden voyage of the R.M.S. Titanic; the pride and joy of the White Star Line and, at the time, the largest moving object ever built. She was the most luxurious liner of her era -- the \"ship of dreams\" -- which ultimately carried over 1,500 people to their death in the ice cold waters of the North Atlantic in the early hours of April 15, 1912.\n",
      "\n",
      "13\n",
      "Donna (Meryl Streep), an independent hotelier in the Greek islands, is preparing for her daughter's wedding with the help of two old friends. Meanwhile Sophie, the spirited bride, has a plan. She secretly invites three men from her mother's past in hope of meeting her real father and having him escort her down the aisle on her big day.\n",
      "\n",
      "14\n",
      "Superman battles evil while trying to conceal his alter ego, Clark Kent.\n",
      "\n",
      "15\n",
      "Two gangsters commit a blunder and get their love lives entangled with their criminal deeds.\n",
      "\n",
      "16\n",
      "An idealistic FBI agent (Daniel Radcliffe) goes under cover to infiltrate a white supremacist group that's plotting an act of terror.\n",
      "\n",
      "17\n",
      "Shishio sets sail in his ironclad ship to bring down the government. In order to stop him, Kenshin trains with his old master to learn his final technique.\n",
      "\n",
      "18\n",
      "Ottoman sultan Mehmed II wages an epic campaign to take the Byzantine capital of Constantinople, shaping the course of history for centuries.\n",
      "\n",
      "19\n",
      "In 2005 Afghanistan, Navy SEALs Marcus Luttrell (Mark Wahlberg), Michael Murphy (Taylor Kitsch), Danny Dietz (Emile Hirsch) and Matthew \"Axe\" Axelson (Ben Foster) deploy on a mission of surveillance and to take out Taliban leader Ahmad Shah. Though spotted by goatherds, Luttrell and his team decide not to kill them. But one of the Afghans alerts a group of Taliban fighters to the invaders, and a terrible battle ensues, in which the SEALs find themselves hopelessly outnumbered and outgunned.\n",
      "\n",
      "20\n",
      "For Micky Ward (Mark Wahlberg), boxing is a family affair. His tough-as-nails mother is his manager. His half-brother, Dicky (Christian Bale), once a promising boxer himself, is his very unreliable trainer. Despite Micky's hard work, he is losing and, when the latest fight nearly kills him, he follows his girlfriend's advice and splits from the family. Then Micky becomes a contender for the world title and he -- and his family -- earns a shot at redemption.\n",
      "\n"
     ]
    }
   ],
   "source": [
    "# Figure I might as well test my own skills on predicting genres from descriptions\n",
    "# I'll do 20 and see what kind of accuracy I'll get. For the most part I'll just try to predict 2 because that's the average\n",
    "# maybe if I'm feeling confident I'll throw in a third genre.\n",
    "\n",
    "# Reference of possible genres\n",
    "# ['Action', 'Adventure', 'Animation', 'Biography', 'Comedy', 'Crime',\n",
    "#        'Documentary', 'Drama', 'Family', 'Fantasy', 'Game-Show', 'History',\n",
    "#        'Horror', 'Music', 'Musical', 'Mystery', 'News', 'Reality-TV',\n",
    "#        'Romance', 'Sci-Fi', 'Short', 'Sport', 'Talk-Show', 'Thriller', 'War',\n",
    "#        'Western', '\\N']\n",
    "\n",
    "# data (7850, 13)\n",
    "\n",
    "# Select 30 random indices\n",
    "np.random.seed(4859)\n",
    "idxs = np.random.randint(0, high=7851, size=30)[:20]\n",
    "\n",
    "count = 1\n",
    "for desc in data.iloc[idxs, -1]:\n",
    "    print(count)\n",
    "    print(desc)\n",
    "    print()\n",
    "    count += 1"
   ]
  },
  {
   "cell_type": "code",
   "execution_count": 16,
   "id": "e7dd85ff",
   "metadata": {},
   "outputs": [],
   "source": [
    "#### My classifications\n",
    "mine = [[\"Horror\", \"Thriller\"],\n",
    "[\"Reality-TV\", \"Documentary\"],\n",
    "[\"Fantasy\", \"Action\"],\n",
    "[\"Drama\", \"Romance\"],\n",
    "[\"Family\", \"Drama\"],\n",
    "[\"Fantasy\", \"Animation\"],\n",
    "[\"Drama\"],\n",
    "[\"Mystery\", \"Crime\"],\n",
    "[\"Crime\", \"Thriller\"],\n",
    "[\"Documentary\"],\n",
    "[\"Drama\"],\n",
    "[\"Romance\", \"Drama\"],\n",
    "[\"Comedy\", \"Drama\"],\n",
    "[\"Action\", \"Adventure\"],\n",
    "[\"Drama\", \"Comedy\"],\n",
    "[\"Crime\", \"Drama\"],\n",
    "[\"Adventure\", \"Action\"],\n",
    "[\"History\"],\n",
    "[\"Action\", \"Adventure\"],\n",
    "[\"Drama\", \"Action\"]]"
   ]
  },
  {
   "cell_type": "code",
   "execution_count": 17,
   "id": "4476592f",
   "metadata": {},
   "outputs": [
    {
     "data": {
      "text/plain": [
       "array([1, 0, 0, 0, 1, 0, 0, 0, 0, 0, 0, 0, 1, 0, 0, 0, 0, 0, 0, 0, 0, 0,\n",
       "       0, 0, 0])"
      ]
     },
     "execution_count": 17,
     "metadata": {},
     "output_type": "execute_result"
    }
   ],
   "source": [
    "tru = data.iloc[idxs[:20], 6].tolist()\n",
    "ct = 0\n",
    "\n",
    "for item in tru:\n",
    "    tru[ct] = item.split(',')\n",
    "    ct += 1\n",
    "\n",
    "# List of genres\n",
    "gens = ['Action', 'Adventure', 'Animation', 'Biography', 'Comedy', 'Crime',\n",
    "       'Documentary', 'Drama', 'Family', 'Fantasy', 'Game-Show', 'History',\n",
    "       'Horror', 'Music', 'Musical', 'Mystery', 'News', 'Reality-TV',\n",
    "       'Romance', 'Sci-Fi', 'Short', 'Sport', 'Talk-Show', 'Thriller', 'War',\n",
    "       'Western']\n",
    "\n",
    "# Mapping genres to indexes\n",
    "stoi = {s:i for i,s in enumerate(gens)}\n",
    "\n",
    "# Create multi-hot arrays for my classifications and the ground truth's\n",
    "mine_map = []\n",
    "tru_map = []\n",
    "\n",
    "for lst in mine:\n",
    "    tmp = np.zeros((25), dtype=int)\n",
    "    for item in lst:\n",
    "        idx = stoi[item]\n",
    "        tmp[idx] = 1\n",
    "    mine_map.append(tmp)\n",
    "    \n",
    "for lst in tru:\n",
    "    tmp = np.zeros((25), dtype=int)\n",
    "    for item in lst:\n",
    "        idx = stoi[item]\n",
    "        tmp[idx] = 1\n",
    "    tru_map.append(tmp)\n",
    "\n",
    "# While I was doing my classifications I came across an error with the dataset from kaggle\n",
    "# All the details can be found here: \n",
    "# https://www.kaggle.com/datasets/ishikajohari/imdb-data-with-descriptions/discussion/443834\n",
    "# TLDR: Due to the fact that the dataset was created by pulling some information from RottenTomatoes and the Descriptions\n",
    "# from IMDb there were errors with the wrong descriptions being pulled for certain movies/shows because they had the same\n",
    "# title as another movie/show. i.e. Two very different movies both with the title \"The Trip\"\n",
    "\n",
    "# I'm popping index 1 because there's an issue with how they created the dataset and the data for that index is wrong\n",
    "mine_map.pop(1)\n",
    "tru_map.pop(1)"
   ]
  },
  {
   "cell_type": "code",
   "execution_count": 18,
   "id": "3fdab24e",
   "metadata": {},
   "outputs": [
    {
     "name": "stdout",
     "output_type": "stream",
     "text": [
      "Accuracy: 0.1053\n",
      "Precision: 0.7368\n",
      "Recall: 0.4912\n",
      "F1-score: 0.5789\n",
      "ROC AUC: 0.7348\n"
     ]
    }
   ],
   "source": [
    "# Metrics for my classifications (YIKES haha)\n",
    "acc = metrics.accuracy_score(tru_map, mine_map)\n",
    "p = metrics.precision_score(tru_map, mine_map, average='samples')\n",
    "r = metrics.recall_score(tru_map, mine_map, average='samples')\n",
    "f1_out = metrics.f1_score(tru_map, mine_map, average='samples')\n",
    "roc_auc_score = metrics.roc_auc_score(tru_map, mine_map, average='samples')\n",
    "\n",
    "print(f'Accuracy: {acc:.4f}')\n",
    "print(f'Precision: {p:.4f}')\n",
    "print(f'Recall: {r:.4f}')\n",
    "print(f'F1-score: {f1_out:.4f}')\n",
    "print(f'ROC AUC: {roc_auc_score:.4f}')"
   ]
  },
  {
   "cell_type": "markdown",
   "id": "56446dfc",
   "metadata": {},
   "source": [
    "#### Tips to Implement\n",
    "\n",
    "##### Phase One\n",
    "- [x] fix random seed\n",
    "- [x] simplify\n",
    "- [x] add significant digits to eval (after training)\n",
    "- [x] verify loss @ init\n",
    "- [x] init well\n",
    "- [x] human baseline\n",
    "- [x] input-independent baseline (after training)\n",
    "- [x] overfit one batch\n",
    "- [x] verify decreasing training loss (after training)\n",
    "- [x] visualize just before the net (this more so applies to image tasks)\n",
    "- [x] visualize prediction dynamics (add to val loop)\n",
    "- [x] use backprop to chart dependencies\n",
    "- [x] generalize a special case\n",
    "\n",
    "##### Phase Two\n",
    "Model skeleton is in place, training is going as expected for acquiring some trivial baseline results. Now I want to begin iterating on a good model and see where we can get.\n",
    "- [ ] Implement class weights\n",
    "- [ ] Implement adam optimizer"
   ]
  },
  {
   "cell_type": "code",
   "execution_count": 19,
   "id": "fb4269e2",
   "metadata": {},
   "outputs": [
    {
     "data": {
      "text/plain": [
       "(532, 19)"
      ]
     },
     "execution_count": 19,
     "metadata": {},
     "output_type": "execute_result"
    }
   ],
   "source": [
    "targ_col = \"Drama\"\n",
    "\n",
    "cond = (filtered.sum(axis=1) == 1) & (filtered[\"Drama\"] == 1)\n",
    "res = filtered[cond]\n",
    "res.shape"
   ]
  },
  {
   "cell_type": "code",
   "execution_count": 125,
   "id": "9d3b9cd9",
   "metadata": {},
   "outputs": [
    {
     "name": "stdout",
     "output_type": "stream",
     "text": [
      "torch.Size([11032, 19])\n",
      "torch.Size([11032, 384])\n"
     ]
    }
   ],
   "source": [
    "# Oversampling minority classes\n",
    "from sklearn.utils import resample\n",
    "np.random.seed(23433)\n",
    "# Create a copy of original filtered df which contains all the labels. I'm creating a copy because I have to reset the index\n",
    "filtered_copy = filtered.copy()\n",
    "\n",
    "sz = len(filtered_copy)\n",
    "shuffle = np.random.permutation(sz, )\n",
    "\n",
    "filtered_copy = filtered_copy.iloc[shuffle].reset_index(drop=True)\n",
    "embeddings_shuffled = new_embeddings[shuffle]\n",
    "\n",
    "tr_size = int(0.8 * sz)\n",
    "v_size = int(0.1 * sz)\n",
    "te_size = sz - tr_size - v_size\n",
    "\n",
    "train_df_labels = filtered_copy.iloc[:tr_size]\n",
    "val_df_labels = filtered_copy.iloc[tr_size:tr_size+v_size]\n",
    "test_df_labels = filtered_copy.iloc[tr_size+v_size:]\n",
    "\n",
    "train_embeddings = embeddings_shuffled[train_df_labels.index]\n",
    "val_embeddings = embeddings_shuffled[val_df_labels.index]\n",
    "test_embeddings = embeddings_shuffled[test_df_labels.index]\n",
    "\n",
    "val_df_labels_tensor = torch.tensor(val_df_labels.values, dtype=torch.float32)\n",
    "test_df_labels_tensor = torch.tensor(test_df_labels.values, dtype=torch.float32)\n",
    "\n",
    "oversampled_classes = []\n",
    "\n",
    "for col in train_df_labels.columns:\n",
    "    if col != \"Drama\":\n",
    "        tmp_df = train_df_labels[(train_df_labels[col] == 1) & (train_df_labels[\"Drama\"] == 0)]\n",
    "        if tmp_df.shape[0] < 1000:\n",
    "            n_samples = 300\n",
    "            oversample = resample(tmp_df, replace=True, n_samples=n_samples, random_state=5384)\n",
    "            oversampled_classes.append(oversample)\n",
    "\n",
    "labels_to_append = oversampled_classes[0]\n",
    "\n",
    "for df in oversampled_classes[1:]:\n",
    "    labels_to_append = pd.concat([labels_to_append, df], axis=0)\n",
    "\n",
    "data_to_append = train_embeddings[labels_to_append.index]\n",
    "\n",
    "resampled_train_labels_df = pd.concat([train_df_labels, labels_to_append], axis=0)\n",
    "resampled_train_data = torch.cat((train_embeddings, data_to_append), 0)\n",
    "\n",
    "resampled_train_labels = torch.tensor(resampled_train_labels_df.values, dtype=torch.float32)\n",
    "\n",
    "print(resampled_train_labels.shape)\n",
    "print(resampled_train_data.shape)"
   ]
  },
  {
   "cell_type": "code",
   "execution_count": 22,
   "id": "4af6d437",
   "metadata": {},
   "outputs": [
    {
     "name": "stdout",
     "output_type": "stream",
     "text": [
      "20\n"
     ]
    }
   ],
   "source": [
    "# Amount of val embeddings that are also in the training set (because the dataset was poorly made and has repeated info)\n",
    "# these two cells take a while to run\n",
    "ct = 0\n",
    "for em in val_embeddings:\n",
    "    for em1 in train_embeddings:\n",
    "        equal = (em == em1).all()\n",
    "        if equal:\n",
    "            ct += 1\n",
    "            break\n",
    "print(ct)"
   ]
  },
  {
   "cell_type": "code",
   "execution_count": 23,
   "id": "94f2bf70",
   "metadata": {},
   "outputs": [
    {
     "name": "stdout",
     "output_type": "stream",
     "text": [
      "23\n"
     ]
    }
   ],
   "source": [
    "# Amount of test embeddings in the training set\n",
    "ct = 0\n",
    "for em in test_embeddings:\n",
    "    for em1 in train_embeddings:\n",
    "        equal = (em == em1).all()\n",
    "        if equal:\n",
    "            ct += 1\n",
    "            break\n",
    "print(ct)"
   ]
  },
  {
   "cell_type": "code",
   "execution_count": 126,
   "id": "b4971a4e",
   "metadata": {},
   "outputs": [
    {
     "data": {
      "text/plain": [
       "Action         2792\n",
       "Adventure      2133\n",
       "Animation      1388\n",
       "Biography      1153\n",
       "Comedy         3381\n",
       "Crime          2124\n",
       "Documentary    1890\n",
       "Drama          3753\n",
       "Family          593\n",
       "Fantasy         814\n",
       "History         865\n",
       "Horror          862\n",
       "Music           623\n",
       "Mystery        1274\n",
       "Romance        1136\n",
       "Sci-Fi          712\n",
       "Sport           499\n",
       "Thriller       1385\n",
       "War             487\n",
       "dtype: int64"
      ]
     },
     "execution_count": 126,
     "metadata": {},
     "output_type": "execute_result"
    }
   ],
   "source": [
    "resampled_train_labels_df.sum()"
   ]
  },
  {
   "cell_type": "code",
   "execution_count": 25,
   "id": "71a302cb",
   "metadata": {},
   "outputs": [
    {
     "data": {
      "text/plain": [
       "Index(['Action', 'Adventure', 'Animation', 'Biography', 'Comedy', 'Crime',\n",
       "       'Documentary', 'Drama', 'Family', 'Fantasy', 'History', 'Horror',\n",
       "       'Music', 'Mystery', 'Romance', 'Sci-Fi', 'Sport', 'Thriller', 'War'],\n",
       "      dtype='object')"
      ]
     },
     "execution_count": 25,
     "metadata": {},
     "output_type": "execute_result"
    }
   ],
   "source": [
    "# Genres present in filtered dataset\n",
    "filtered.columns"
   ]
  },
  {
   "cell_type": "code",
   "execution_count": 75,
   "id": "87f8ed26",
   "metadata": {},
   "outputs": [],
   "source": [
    "# Implement class weights\n",
    "\n",
    "# Original dataset\n",
    "\n",
    "# Calculate class weights based on class frequencies\n",
    "class_frequencies = filtered.sum().tolist()\n",
    "total_samples = sum(class_frequencies)\n",
    "class_weights = [total_samples / freq for freq in class_frequencies]\n",
    "\n",
    "# Normalize the weights to sum to 1.0\n",
    "class_weights_sum = sum(class_weights)\n",
    "class_weights = [weight / class_weights_sum for weight in class_weights]\n",
    "\n",
    "# Convert to a PyTorch tensor\n",
    "class_weights_tensor = torch.tensor(class_weights, dtype=torch.float)\n",
    "\n",
    "\n",
    "# Resampled dataset ******** CORRECT THIS SINCE NEW RESAMPLING **************\n",
    "\n",
    "# re_class_frequencies = resampled_labels.sum().tolist()\n",
    "# re_total_samples = sum(re_class_frequencies)\n",
    "# re_class_weights = [re_total_samples / freq for freq in re_class_frequencies]\n",
    "\n",
    "# # Normalize the weights to sum to 1.0\n",
    "# re_class_weights_sum = sum(re_class_weights)\n",
    "# re_class_weights = [weight / re_class_weights_sum for weight in re_class_weights]\n",
    "\n",
    "# # Convert to a PyTorch tensor\n",
    "# re_class_weights_tensor = torch.tensor(re_class_weights, dtype=torch.float)\n",
    "\n",
    "# print(class_weights_tensor)\n",
    "# print(re_class_weights_tensor)"
   ]
  },
  {
   "cell_type": "code",
   "execution_count": 80,
   "id": "b169b19e",
   "metadata": {},
   "outputs": [],
   "source": [
    "# Validation functions for updates during training\n",
    "def validate(model, dataloader):\n",
    "    model.eval()\n",
    "    val_losses = []\n",
    "    val_targets = []\n",
    "    val_predictions = []\n",
    "    \n",
    "    for inputs, labels in dataloader:\n",
    "        with torch.no_grad():\n",
    "            # Calculate val metrics\n",
    "            outputs = model(inputs)\n",
    "            # Version for averaging losses across batches\n",
    "            #loss = F.binary_cross_entropy_with_logits(outputs, labels)\n",
    "            #v_losses.append(loss)\n",
    "            # Version for getting every loss individually\n",
    "            loss_val = F.binary_cross_entropy_with_logits(outputs, labels, reduction='none')\n",
    "            for idx in range(loss_val.shape[0]):\n",
    "                val_losses.append(loss_val[idx].mean())\n",
    "            val_predictions.append(outputs.numpy())\n",
    "            val_targets.append(labels.numpy())\n",
    "\n",
    "    val_avg_loss = np.array(val_losses).mean()\n",
    "    #print(\"Val Loss:\", val_avg_loss)\n",
    "\n",
    "    val_predictions = np.vstack(val_predictions)\n",
    "    val_targets = np.vstack(val_targets)\n",
    "\n",
    "    # Binary classification metrics\n",
    "    accuracy_val = metrics.accuracy_score(val_targets, (val_predictions > 0.5).astype(int))\n",
    "    #print(f'Accuracy: {accuracy_val:.4f}')\n",
    "    #print()\n",
    "    \n",
    "    return val_avg_loss\n",
    "\n",
    "\n",
    "def visualize_val(i, epochs, loss, dataloader):\n",
    "        print(f'{i:3d}/{epochs:3d}: {loss.item():.6f}')\n",
    "        #print(\"Curr LR:\", opt.param_groups[0]['lr'])\n",
    "        \n",
    "        with torch.no_grad():\n",
    "            for inputs, labels in val_loader:\n",
    "                # Visualize a few val examples during epoch updates\n",
    "                viz_data = inputs[:3]\n",
    "                viz_labels = labels[:3]\n",
    "\n",
    "                out_viz = model(viz_data)\n",
    "\n",
    "                for ct in range(out_viz.shape[0]):\n",
    "                    loss_viz = F.binary_cross_entropy_with_logits(out_viz[ct], viz_labels[ct])\n",
    "                    print(\"Loss:\", loss_viz)\n",
    "                    print(\"Pred:\", out_viz[ct].numpy())\n",
    "                    print(\"Pred:\",  (out_viz[ct] > 0.5).float().numpy())\n",
    "                    print(\"Targ:\", viz_labels[ct].numpy())\n",
    "                    print()\n",
    "                break"
   ]
  },
  {
   "cell_type": "code",
   "execution_count": 237,
   "id": "062c20ff",
   "metadata": {},
   "outputs": [
    {
     "name": "stdout",
     "output_type": "stream",
     "text": [
      "Parameters: 12776\n"
     ]
    }
   ],
   "source": [
    "from torch.utils.data import TensorDataset, DataLoader, random_split\n",
    "\n",
    "# Set seed for reproducibility\n",
    "torch.manual_seed(5384)\n",
    "\n",
    "# When using original dataset\n",
    "##################################\n",
    "x_data = new_embeddings\n",
    "y_data = multi_hot_tensor\n",
    "\n",
    "# Create train, val, and test DataLoaders\n",
    "dataset = TensorDataset(x_data, y_data)\n",
    "\n",
    "train_size = int(0.8 * len(dataset))\n",
    "val_size = int(0.1 * len(dataset))\n",
    "test_size = len(dataset) - train_size - val_size\n",
    "\n",
    "train_dataset, val_dataset, test_dataset = random_split(dataset, [train_size, val_size, test_size])\n",
    "###################################\n",
    "\n",
    "# When using oversampled dataset\n",
    "##################################\n",
    "# train_dataset = TensorDataset(resampled_train_data, resampled_train_labels)\n",
    "# val_dataset = TensorDataset(val_embeddings, val_df_labels_tensor)\n",
    "# test_dataset = TensorDataset(test_embeddings, test_df_labels_tensor)\n",
    "##################################\n",
    "\n",
    "batch_size = 128  # You can adjust this as needed\n",
    "train_loader = DataLoader(train_dataset, batch_size=batch_size, shuffle=True)\n",
    "val_loader = DataLoader(val_dataset, batch_size=batch_size, shuffle=False)\n",
    "test_loader = DataLoader(test_dataset, batch_size=batch_size, shuffle=False)\n",
    "\n",
    "\n",
    "n_hidden1 = 32\n",
    "n_hidden2 = 8\n",
    "embedding_size = x_data.shape[1]\n",
    "\n",
    "model = torch.nn.Sequential(\n",
    "    torch.nn.Linear(embedding_size, n_hidden1, bias=False),\n",
    "    torch.nn.BatchNorm1d(n_hidden1),\n",
    "    torch.nn.ReLU(),\n",
    "    torch.nn.Linear(n_hidden1, n_hidden2, bias=False),\n",
    "    torch.nn.BatchNorm1d(n_hidden2),\n",
    "    torch.nn.ReLU(),\n",
    "    torch.nn.Linear(n_hidden2,19, bias=False) # Maybe add batch_norm after, should turn bias on here\n",
    ")\n",
    "\n",
    "# Implement proper weight initialization\n",
    "def initialize_weights(model):\n",
    "    for layer in model[:-1]:\n",
    "        if isinstance(layer, torch.nn.Linear):\n",
    "            torch.nn.init.kaiming_normal_(layer.weight, mode='fan_in', nonlinearity='relu')\n",
    "    # Init last layer with xavier as it has a sigmoid activation (because of BCELoss) instead of ReLU\n",
    "    torch.nn.init.xavier_normal_(model[-1].weight, gain=1.0)\n",
    "\n",
    "initialize_weights(model)\n",
    "\n",
    "######################################## Diagnostics ########################################\n",
    "# How do I calculate the class weights? - cgpt\n",
    "\n",
    "# Make last layer less confident (Not sure about adding this yet)\n",
    "with torch.no_grad():\n",
    "    model[-1].weight *= 0.1\n",
    "    \n",
    "# Retain relu outputs for diagnostics\n",
    "last_relu_outputs = [None] * sum(1 for layer in model if isinstance(layer, torch.nn.modules.activation.ReLU))\n",
    "last_relu_grads = [None] * sum(1 for layer in model if isinstance(layer, torch.nn.modules.activation.ReLU))\n",
    "\n",
    "hook_handles = []\n",
    "\n",
    "def hook_fn_back(index):\n",
    "    def fn_b(module, grad_in, grad_out):\n",
    "        last_relu_grads[index] = grad_out[0].clone()\n",
    "    return fn_b\n",
    "\n",
    "layer_index = 0\n",
    "for layer in model:\n",
    "    if isinstance(layer, torch.nn.modules.activation.ReLU):\n",
    "        hook_handles.append(layer.register_full_backward_hook(hook_fn_back(layer_index)))\n",
    "        layer_index += 1\n",
    "\n",
    "def hook_fn(index):\n",
    "    def fn(module, inputs, outputs):\n",
    "        last_relu_outputs[index] = outputs\n",
    "    return fn\n",
    "\n",
    "layer_index = 0\n",
    "for layer in model:\n",
    "    if isinstance(layer, torch.nn.modules.activation.ReLU):\n",
    "        hook_handles.append(layer.register_forward_hook(hook_fn(layer_index)))\n",
    "        layer_index += 1\n",
    "        \n",
    "def compute_ratio(parameter, lr):\n",
    "    gradient_std = parameter.grad.std()\n",
    "    data_std = parameter.data.std()  # Calculate data standard deviation for the same layer\n",
    "    ratio = (lr * gradient_std / data_std).log10().item()\n",
    "    return ratio\n",
    "\n",
    "#############################################################################################\n",
    "    \n",
    "# Ran into a funny error here. You have to wrap it in a list because\n",
    "# model.parameters() is an iterator and after you go over it first it\n",
    "# becomes exhausted so in all the code below after I went through and\n",
    "# counted the parameters the 'parameters' iterator became empty and \n",
    "# everything after was just operating on an empty list\n",
    "parameters = list(model.parameters())\n",
    "\n",
    "# Total number of parameters\n",
    "print(\"Parameters:\",sum(p.nelement() for p in parameters))\n",
    "\n",
    "for p in parameters:\n",
    "    p.requires_grad = True"
   ]
  },
  {
   "cell_type": "code",
   "execution_count": 238,
   "id": "6ca98741",
   "metadata": {},
   "outputs": [
    {
     "name": "stdout",
     "output_type": "stream",
     "text": [
      "Init loss mean: tensor(0.7217)\n",
      "\n",
      "Init loss all: tensor([[0.7635, 0.7150, 0.6792, 0.7068, 0.7151, 0.7116, 0.7500, 0.7197, 0.7225,\n",
      "         0.6546, 0.6948, 0.7159, 0.6702, 0.6937, 0.6390, 0.7620, 0.6770, 0.7238,\n",
      "         0.7149],\n",
      "        [0.8727, 0.7794, 0.6762, 0.7010, 0.7761, 0.7207, 0.8697, 0.8009, 0.7861,\n",
      "         0.6169, 0.6993, 0.8120, 0.6153, 0.6889, 0.5252, 0.9098, 0.6466, 0.7533,\n",
      "         0.7462]])\n"
     ]
    }
   ],
   "source": [
    "# Check for ~correct~ initialization\n",
    "# For multi-label classification using BCELoss with logits for each class you have either a 0 or a 1 where the predictions\n",
    "# are probabilities and generally > 0.5 (or some other threshold) is treated as a 1 label. Therefore exactly 0.5 would be\n",
    "# \"no preference\" so in theory the correct init would be to start off with probabilities of 0.5 for every class and the \n",
    "# loss of this would be 0.6931 for each individual class. So considering that bcelosswithlogits is averaged across the\n",
    "# batches, any loss value roughly around 0.6931 would be a decent start\n",
    "model.eval()\n",
    "\n",
    "with torch.no_grad():\n",
    "    dummy_input = torch.randn(2,384)\n",
    "    lgits = model(dummy_input)\n",
    "\n",
    "    init_loss = F.binary_cross_entropy_with_logits(lgits, torch.zeros_like(lgits), reduction='none')\n",
    "\n",
    "    print(\"Init loss mean:\", init_loss.mean())\n",
    "    print()\n",
    "    print(\"Init loss all:\", init_loss)"
   ]
  },
  {
   "cell_type": "code",
   "execution_count": 239,
   "id": "d103c5e9",
   "metadata": {},
   "outputs": [
    {
     "name": "stdout",
     "output_type": "stream",
     "text": [
      "  0/3000: 0.684801\n",
      "Loss: tensor(0.6931)\n",
      "Pred: [ 0.07566509 -0.00850691  0.04114532  0.02943269 -0.04761703  0.01404411\n",
      " -0.09569536  0.01340716 -0.01341091 -0.05186221  0.05355752 -0.01396011\n",
      " -0.0395113   0.06071202 -0.06575492 -0.00167674 -0.11657201 -0.04024582\n",
      " -0.00785269]\n",
      "Pred: [0. 0. 0. 0. 0. 0. 0. 0. 0. 0. 0. 0. 0. 0. 0. 0. 0. 0. 0.]\n",
      "Targ: [0. 0. 0. 0. 1. 0. 0. 1. 0. 0. 0. 0. 0. 0. 1. 0. 0. 0. 0.]\n",
      "\n",
      "Loss: tensor(0.6714)\n",
      "Pred: [-0.04131912 -0.03509243 -0.01842229 -0.1733377   0.0256035   0.02190427\n",
      " -0.12042125 -0.01795039  0.00217356 -0.03514828  0.01193236 -0.01204238\n",
      " -0.0830297  -0.07733944 -0.00783415 -0.07507808 -0.08434648  0.01796666\n",
      " -0.09590799]\n",
      "Pred: [0. 0. 0. 0. 0. 0. 0. 0. 0. 0. 0. 0. 0. 0. 0. 0. 0. 0. 0.]\n",
      "Targ: [0. 0. 0. 0. 1. 0. 0. 0. 0. 0. 0. 0. 0. 0. 0. 0. 0. 0. 0.]\n",
      "\n",
      "Loss: tensor(0.6851)\n",
      "Pred: [ 0.00290232  0.05326347 -0.06529596 -0.01256276  0.0539395  -0.10617761\n",
      "  0.11805771  0.06544571  0.13144833 -0.06989589 -0.03461377  0.0347349\n",
      " -0.13023521  0.02259261 -0.1533766   0.09113445 -0.02303613 -0.0231627\n",
      " -0.04472209]\n",
      "Pred: [0. 0. 0. 0. 0. 0. 0. 0. 0. 0. 0. 0. 0. 0. 0. 0. 0. 0. 0.]\n",
      "Targ: [1. 0. 0. 0. 1. 0. 0. 1. 0. 0. 0. 0. 0. 0. 0. 0. 0. 0. 0.]\n",
      "\n",
      "Early stopping after 193 epochs. Best validation loss: 0.2446901947259903\n"
     ]
    }
   ],
   "source": [
    "################## RERUN INIT CODE BEFORE TRAINING ##################\n",
    "\n",
    "# same optimization as last time\n",
    "model.train()\n",
    "\n",
    "#opt = optim.AdamW(model.parameters(), lr=0.0003, weight_decay=0.2)\n",
    "opt = optim.Adam(model.parameters(), lr=0.0003)\n",
    "#opt = optim.Adam(model.parameters(), lr=0.003)\n",
    "#opt = optim.SGD(model.parameters(), lr=0.01)\n",
    "#opt = optim.SGD(model.parameters(), lr=0.01, momentum=0.9, nesterov=True)\n",
    "#opt = optim.SGD(model.parameters(), lr=0.001, momentum=0.9, nesterov=True, weight_decay=0.01)\n",
    "#opt = optim.SGD(model.parameters(), lr=0.001)\n",
    "\n",
    "# Learning rate scheduler\n",
    "#scheduler = StepLR(opt, step_size=500, gamma=0.1)\n",
    "\n",
    "epochs = 3000\n",
    "patience = 100 # for early stopping\n",
    "best_val_loss = float('inf')\n",
    "counter = 0\n",
    "\n",
    "# For tracking metrics\n",
    "lossi = []\n",
    "ud = []\n",
    "\n",
    "for i in range(epochs):\n",
    "    for inputs, labels in train_loader:\n",
    "        \n",
    "        # forward pass\n",
    "        logits = model(inputs)\n",
    "        loss = F.binary_cross_entropy_with_logits(logits, labels, reduction='mean')\n",
    "        #loss = F.binary_cross_entropy_with_logits(logits, labels, reduction='mean', weight=re_class_weights_tensor)\n",
    "        #loss = F.binary_cross_entropy_with_logits(logits, labels, reduction='mean', weight=class_weights_tensor)\n",
    "        #loss = logits[0][0] + 1 test to ensure things are being calculated across batches, fyi shut off batch norm lol\n",
    "\n",
    "        # backward pass\n",
    "        opt.zero_grad()\n",
    "        loss.backward()\n",
    "\n",
    "        # update: simple SGD\n",
    "        opt.step()\n",
    "        \n",
    "        # Diagnostics\n",
    "        with torch.no_grad():\n",
    "            ud.append([compute_ratio(p, opt.param_groups[0]['lr']) for p in model.parameters()])\n",
    "\n",
    "    #scheduler.step()\n",
    "    \n",
    "    #lossi.append(loss.log10().item())\n",
    "    lossi.append(loss.item())\n",
    "    \n",
    "    # Visualize val examples\n",
    "    if i % 500 == 0 or i == (epochs-1): # print every once in a while\n",
    "        visualize_val(i, epochs, loss, val_loader)\n",
    "    \n",
    "    # Validation\n",
    "    val_loss = validate(model, val_loader)\n",
    "    \n",
    "    # Check if metric has improved\n",
    "    if val_loss < best_val_loss:\n",
    "        best_val_loss = val_loss\n",
    "        counter = 0\n",
    "    else:\n",
    "        counter += 1\n",
    "    \n",
    "    # If no metric improvement and patience is reached, stop training loop\n",
    "    if counter >= patience:\n",
    "        print(f\"Early stopping after {i + 1} epochs. Best validation loss: {best_val_loss}\")\n",
    "        break\n",
    "    \n",
    "#     if i >= 100:\n",
    "#         break # DEBUGGING\n",
    "\n",
    "###### Diagnostics cleanup ######\n",
    "for handle in hook_handles:\n",
    "    handle.remove()"
   ]
  },
  {
   "cell_type": "code",
   "execution_count": 240,
   "id": "0e1310cc",
   "metadata": {},
   "outputs": [
    {
     "data": {
      "text/plain": [
       "[<matplotlib.lines.Line2D at 0x1d6fb1c7b20>]"
      ]
     },
     "execution_count": 240,
     "metadata": {},
     "output_type": "execute_result"
    },
    {
     "data": {
      "image/png": "[encoded data removed]",
      "text/plain": [
       "<Figure size 432x288 with 1 Axes>"
      ]
     },
     "metadata": {
      "needs_background": "light"
     },
     "output_type": "display_data"
    }
   ],
   "source": [
    "plt.plot(torch.tensor(lossi).view(-1, 1).mean(1))"
   ]
  },
  {
   "cell_type": "code",
   "execution_count": 241,
   "id": "a507f9c4",
   "metadata": {},
   "outputs": [
    {
     "name": "stdout",
     "output_type": "stream",
     "text": [
      "Train Loss: 0.16951282\n",
      "Accuracy: 0.2711\n",
      "Precision: 0.8383\n",
      "Recall: 0.6492\n",
      "F1-score: 0.6987\n",
      "ROC AUC: 0.9447\n",
      "\n",
      "Val Loss: 0.26467663\n",
      "Accuracy: 0.1205\n",
      "Precision: 0.6569\n",
      "Recall: 0.4944\n",
      "F1-score: 0.5256\n",
      "ROC AUC: 0.8822\n"
     ]
    }
   ],
   "source": [
    "model.eval()\n",
    "t_predictions = []\n",
    "t_targets = []\n",
    "v_predictions = []\n",
    "v_targets = []\n",
    "\n",
    "threshold = 0.5\n",
    "\n",
    "# Train Loss Calculations\n",
    "with torch.no_grad():\n",
    "    t_losses = []\n",
    "    for inputs, labels in train_loader:\n",
    "        outputs = model(inputs)\n",
    "        # Version for averaging losses across batches\n",
    "        loss = F.binary_cross_entropy_with_logits(outputs, labels)\n",
    "        t_losses.append(loss)\n",
    "        # Version for getting every loss individually\n",
    "#         loss = F.binary_cross_entropy_with_logits(outputs, labels, reduction='none')\n",
    "#         for idx in range(loss.shape[0]):\n",
    "#             t_losses.append(loss[idx].mean())\n",
    "        t_predictions.append(F.sigmoid(outputs).numpy())\n",
    "        t_targets.append(labels.numpy())\n",
    "        \n",
    "train_avg_loss = np.array(t_losses).mean()\n",
    "print(\"Train Loss:\", train_avg_loss)\n",
    "\n",
    "t_predictions = np.vstack(t_predictions)\n",
    "t_targets = np.vstack(t_targets)\n",
    "\n",
    "# Binary classification metrics\n",
    "train_accuracy = metrics.accuracy_score(t_targets, (t_predictions > threshold).astype(int))\n",
    "train_precision = metrics.precision_score(t_targets, (t_predictions > threshold).astype(int), average='samples', zero_division=0)\n",
    "train_recall = metrics.recall_score(t_targets, (t_predictions > threshold).astype(int), average='samples')\n",
    "train_f1 = metrics.f1_score(t_targets, (t_predictions > threshold).astype(int), average='samples')\n",
    "train_roc_auc = metrics.roc_auc_score(t_targets, t_predictions, average='samples')\n",
    "\n",
    "print(f'Accuracy: {train_accuracy:.4f}')\n",
    "print(f'Precision: {train_precision:.4f}')\n",
    "print(f'Recall: {train_recall:.4f}')\n",
    "print(f'F1-score: {train_f1:.4f}')\n",
    "print(f'ROC AUC: {train_roc_auc:.4f}')\n",
    "print()\n",
    "\n",
    "# Validation Loss Calculations\n",
    "with torch.no_grad():\n",
    "    v_losses = []\n",
    "    for inputs, labels in val_loader:\n",
    "        outputs = model(inputs)\n",
    "        # Version for averaging losses across batches\n",
    "        loss = F.binary_cross_entropy_with_logits(outputs, labels)\n",
    "        v_losses.append(loss)\n",
    "        # Version for getting every loss individually\n",
    "#         loss = F.binary_cross_entropy_with_logits(outputs, labels, reduction='none')\n",
    "#         for idx in range(loss.shape[0]):\n",
    "#             v_losses.append(loss[idx].mean())\n",
    "        v_predictions.append(F.sigmoid(outputs).numpy())\n",
    "        v_targets.append(labels.numpy())\n",
    "        \n",
    "val_avg_loss = np.array(v_losses).mean()\n",
    "print(\"Val Loss:\", val_avg_loss)\n",
    "\n",
    "v_predictions = np.vstack(v_predictions)\n",
    "v_targets = np.vstack(v_targets)\n",
    "\n",
    "# Binary classification metrics\n",
    "#accuracy1 = accuracy_score(targets[:,1], (predictions[:,1] > 0.5).astype(int))\n",
    "#precision1 = precision_score(targets[:,0], (predictions[:,0] > 0.5).astype(int))\n",
    "accuracy = metrics.accuracy_score(v_targets, (v_predictions > threshold).astype(int))\n",
    "precision = metrics.precision_score(v_targets, (v_predictions > threshold).astype(int), average='samples', zero_division=0)\n",
    "recall = metrics.recall_score(v_targets, (v_predictions > threshold).astype(int), average='samples')\n",
    "f1 = metrics.f1_score(v_targets, (v_predictions > threshold).astype(int), average='samples')\n",
    "roc_auc = metrics.roc_auc_score(v_targets, v_predictions, average='samples')\n",
    "\n",
    "#print(f'Accuracy1: {accuracy1:.4f}')\n",
    "#print(f'Precision1: {precision1:.4f}')\n",
    "print(f'Accuracy: {accuracy:.4f}')\n",
    "print(f'Precision: {precision:.4f}')\n",
    "print(f'Recall: {recall:.4f}')\n",
    "print(f'F1-score: {f1:.4f}')\n",
    "print(f'ROC AUC: {roc_auc:.4f}')"
   ]
  },
  {
   "cell_type": "code",
   "execution_count": 232,
   "id": "e5c11402",
   "metadata": {},
   "outputs": [
    {
     "data": {
      "text/plain": [
       "array([ 94.,  65.,  35.,  44., 140.,  89.,  28., 258.,  10.,  25.,  24.,\n",
       "        24.,  14.,  37.,  42.,  19.,  11.,  41.,   5.], dtype=float32)"
      ]
     },
     "execution_count": 232,
     "metadata": {},
     "output_type": "execute_result"
    }
   ],
   "source": [
    "v_targets.sum(axis=0)"
   ]
  },
  {
   "cell_type": "code",
   "execution_count": 233,
   "id": "10d39021",
   "metadata": {},
   "outputs": [
    {
     "data": {
      "text/plain": [
       "array([ 80,  73,  45,  47, 147,  91,  40, 265,  33,  39,  37,  21,  22,\n",
       "        42,  58,  25,  13,  27,  14])"
      ]
     },
     "execution_count": 233,
     "metadata": {},
     "output_type": "execute_result"
    }
   ],
   "source": [
    "(v_predictions > 0.5).sum(axis=0)"
   ]
  },
  {
   "cell_type": "code",
   "execution_count": 199,
   "id": "8e2172e7",
   "metadata": {},
   "outputs": [
    {
     "data": {
      "text/plain": [
       "[<matplotlib.lines.Line2D at 0x1d6f8dfc4f0>]"
      ]
     },
     "execution_count": 199,
     "metadata": {},
     "output_type": "execute_result"
    },
    {
     "data": {
      "image/png": "[encoded data removed]",
      "text/plain": [
       "<Figure size 1440x288 with 1 Axes>"
      ]
     },
     "metadata": {
      "needs_background": "light"
     },
     "output_type": "display_data"
    }
   ],
   "source": [
    "# For plotting train losses\n",
    "plt.figure(figsize=(20,4))\n",
    "plt.axhline(y = train_avg_loss, color = 'r', linestyle = '-') \n",
    "plt.plot(t_losses)"
   ]
  },
  {
   "cell_type": "code",
   "execution_count": 200,
   "id": "4e94dff2",
   "metadata": {},
   "outputs": [
    {
     "data": {
      "text/plain": [
       "[<matplotlib.lines.Line2D at 0x1d6f8903af0>]"
      ]
     },
     "execution_count": 200,
     "metadata": {},
     "output_type": "execute_result"
    },
    {
     "data": {
      "image/png": "[encoded data removed]",
      "text/plain": [
       "<Figure size 1440x288 with 1 Axes>"
      ]
     },
     "metadata": {
      "needs_background": "light"
     },
     "output_type": "display_data"
    }
   ],
   "source": [
    "# For plotting val losses\n",
    "plt.figure(figsize=(20,4))\n",
    "plt.axhline(y = val_avg_loss, color = 'r', linestyle = '-') \n",
    "plt.plot(v_losses)"
   ]
  },
  {
   "cell_type": "code",
   "execution_count": 201,
   "id": "4c21851a",
   "metadata": {},
   "outputs": [
    {
     "name": "stdout",
     "output_type": "stream",
     "text": [
      "layer 0 ( RelU 0): mean +0.76, std 0.80, saturated: 31.74%\n",
      "layer 1 ( RelU 1): mean +5.76, std 3.56, saturated: 5.03%\n"
     ]
    },
    {
     "data": {
      "text/plain": [
       "Text(0.5, 1.0, 'activation distribution')"
      ]
     },
     "execution_count": 201,
     "metadata": {},
     "output_type": "execute_result"
    },
    {
     "data": {
      "image/png": "[encoded data removed]",
      "text/plain": [
       "<Figure size 576x288 with 1 Axes>"
      ]
     },
     "metadata": {
      "needs_background": "light"
     },
     "output_type": "display_data"
    }
   ],
   "source": [
    "# Visualize Activation Distribution\n",
    "plt.figure(figsize=(8, 4)) # width and height of the plot\n",
    "legends = []\n",
    "for i, output in enumerate(last_relu_outputs):\n",
    "    t = output\n",
    "    print('layer %d (%7s): mean %+.2f, std %.2f, saturated: %.2f%%' % (i, \"RelU \" + str(i), t.mean(), t.std(), (t == 0).float().mean()*100))\n",
    "    hy, hx = torch.histogram(t, density=True)\n",
    "    plt.plot(hx[:-1].detach(), hy.detach())\n",
    "    legends.append(f'ReLU layer {i}')\n",
    "plt.legend(legends)\n",
    "plt.title('activation distribution')"
   ]
  },
  {
   "cell_type": "code",
   "execution_count": 202,
   "id": "86412acd",
   "metadata": {},
   "outputs": [
    {
     "name": "stdout",
     "output_type": "stream",
     "text": [
      "layer 0 (    RelU 0): mean +0.000001, std 8.517321e-05\n",
      "layer 1 (    RelU 1): mean -0.000000, std 3.654332e-05\n"
     ]
    },
    {
     "data": {
      "text/plain": [
       "Text(0.5, 1.0, 'gradient distribution')"
      ]
     },
     "execution_count": 202,
     "metadata": {},
     "output_type": "execute_result"
    },
    {
     "data": {
      "image/png": "[encoded data removed]",
      "text/plain": [
       "<Figure size 1440x288 with 1 Axes>"
      ]
     },
     "metadata": {
      "needs_background": "light"
     },
     "output_type": "display_data"
    }
   ],
   "source": [
    "# Visualize Gradient Distribution\n",
    "plt.figure(figsize=(20, 4)) # width and height of the plot\n",
    "legends = []\n",
    "for i, output in enumerate(last_relu_grads):\n",
    "    t = output\n",
    "    print('layer %d (%10s): mean %+f, std %e' % (i, \"RelU \" + str(i), t.mean(), t.std()))\n",
    "    hy, hx = torch.histogram(t, density=True)\n",
    "    #hy /= hy.sum() # normalize, not sure about adding this yet. For consistency I'm leaving it out, may add later.\n",
    "    plt.plot(hx[:-1].detach(), hy.detach())\n",
    "    legends.append(f'ReLU layer {i}')\n",
    "plt.legend(legends);\n",
    "plt.title('gradient distribution')"
   ]
  },
  {
   "cell_type": "code",
   "execution_count": 151,
   "id": "1faec687",
   "metadata": {},
   "outputs": [
    {
     "data": {
      "image/png": "[encoded data removed]",
      "text/plain": [
       "<Figure size 2160x288 with 1 Axes>"
      ]
     },
     "metadata": {
      "needs_background": "light"
     },
     "output_type": "display_data"
    }
   ],
   "source": [
    "# Visualize Update-to-Data Ratio\n",
    "plt.figure(figsize=(30, 4))\n",
    "legends = []\n",
    "for i,p in enumerate(parameters):\n",
    "    if p.ndim == 2:\n",
    "        plt.plot([ud[j][i] for j in range(len(ud))])\n",
    "        legends.append('param %d' % i)\n",
    "plt.plot([0, len(ud)], [-3, -3], 'k') # these ratios should be ~1e-3, indicate on plot\n",
    "plt.legend(legends);"
   ]
  },
  {
   "cell_type": "markdown",
   "id": "629f611d",
   "metadata": {},
   "source": [
    "## Results Log\n",
    "\n",
    "### First iteration models\n",
    "#### Model 1\n",
    "- SGD: 0.01   Epochs: 1000 Params: 57K Data: Original\n",
    "    - Train Loss: 0.0633 \n",
    "    - Val Loss: 0.4085\n",
    "    - Accuracy: 0.1065\n",
    "    - Precision: 0.5926\n",
    "    - Recall: 0.5211\n",
    "    - F1-score: 0.5216\n",
    "    - ROC AUC: 0.8573\n",
    "\n",
    "#### Model 2\n",
    "- SGD: 0.01   Epochs: 1500 Params: 57K Data: Original\n",
    "    - Train Loss: 0.0459\n",
    "    - Val Loss: 0.5253\n",
    "    - Accuracy: 0.0980\n",
    "    - Precision: 0.5643\n",
    "    - Recall: 0.5062\n",
    "    - F1-score: 0.5028\n",
    "    - ROC AUC: 0.8472\n",
    "\n",
    "#### Model 3\n",
    "Same parameters as model 1, except that I made the last layer less confident. Seems to have helped a lot with unseen data\n",
    "\n",
    "- SGD: 0.01 Epochs: 1000 Params: 57K Data: Original\n",
    "    - Train Loss: 0.06152942\n",
    "    - Accuracy: 0.7614\n",
    "    - Precision: 0.9693\n",
    "    - Recall: 0.9069\n",
    "    - F1-score: 0.9262\n",
    "    - ROC AUC: 0.9907\n",
    "    - -------------------\n",
    "    - Val Loss: 0.36918175\n",
    "    - Accuracy: 0.1222\n",
    "    - Precision: 0.6038\n",
    "    - Recall: 0.5258\n",
    "    - F1-score: 0.5280\n",
    "    - ROC AUC: 0.8643\n",
    "\n",
    "#### Model 4\n",
    "Same parameters as model 1 and 3, however, I've now implemented class weights to assign higher loss to underrepresented genres. The train loss scale has changed so it's no longer comparable to the other models, however, val loss is still comparable. Ran this setup a second time and it did not overfit as you can see below. Admittedly, I'm curious what happens if we try to push this further.\n",
    "\n",
    "- SGD: 0.01 Epochs: 1000 Params: 57K Data: Original Regularizers: Class weights\n",
    "    - Train Loss: 0.30083278\n",
    "    - Accuracy: 0.0748\n",
    "    - Precision: 0.6650\n",
    "    - Recall: 0.3014\n",
    "    - F1-score: 0.3997\n",
    "    - ROC AUC: 0.8143\n",
    "    - -------------------\n",
    "    - Val Loss: 0.29794815\n",
    "    - Accuracy: 0.0824\n",
    "    - Precision: 0.6776\n",
    "    - Recall: 0.3101\n",
    "    - F1-score: 0.4093\n",
    "    - ROC AUC: 0.8195\n",
    "\n",
    "#### Model 5\n",
    "First, off this thing is getting too long, I need to stop copying over all the images. After toying around with class weights for a little while I wasn't too convinced on their performance, I may circle back later. I decided to try out random oversampling. The basic rule I followed was to get the count of every genre up to at least 1000. Now the smallest class makes up roughly 7% of the dataset as opposed to 2% prior to the resampling.\n",
    "\n",
    "I was rather amazed by the performance, although I do think many of the neurons were dead. I'm suspecting that the LR is too aggressive so now I'm going to rerun and lower the LR and bump up the epochs.\n",
    "\n",
    "- SGD: 0.01 Epochs: 500 Params: 57K Data: Oversampled\n",
    "    - Val Loss: 0.14914916 *\n",
    "    - Accuracy: 0.5661\n",
    "    - Precision: 0.8334\n",
    "    - Recall: 0.8006\n",
    "    - F1-score: 0.7984\n",
    "    - ROC AUC: 0.9495\n",
    "    \n",
    "#### Model 5A\n",
    "Same standard model with the oversampled dataset, but this time with Adam optimizer. Results improved a lot which is great, but not happy with the gradient distributions, and the training loss was all over the place. Going to now rerun adam with the original dataset just to see how the loss looks.\n",
    "\n",
    "- Adam: 0.0003 Epochs: 1000 Params: 57K Data: Oversampled\n",
    "    - Val Loss: 0.3212718\n",
    "    - Accuracy: 0.6797 * \n",
    "    - Precision: 0.8522 *\n",
    "    - Recall: 0.8477 *\n",
    "    - F1-score: 0.8341 *\n",
    "    - ROC AUC: 0.9526\n",
    "    \n",
    "#### Model 6\n",
    "Successfully overfit the original dataset using Adam. Now that I've successfully overfit it with this setup, I'll regularize and see how much tradeoff we can get between giving up train loss to improve the val loss. Not happy with the gradient distributions though, still unlcear to me what this represents. I'm hoping that through regularizing this model it will fix the gradient distributions and also improve the results.\n",
    "\n",
    "- Adam: 0.0003 Epochs: 1000 Params: 57K Data: Original\n",
    "    - Train Loss: 0.00890103\n",
    "    - Accuracy: 0.9743\n",
    "    - Precision: 0.9888\n",
    "    - Recall: 0.9807\n",
    "    - F1-score: 0.9828\n",
    "    - ROC AUC: 0.9947\n",
    "    - -------------------\n",
    "    - Val Loss: 1.0502023\n",
    "    - Accuracy: 0.0852\n",
    "    - Precision: 0.5669\n",
    "    - Recall: 0.5099\n",
    "    - F1-score: 0.5035\n",
    "    - ROC AUC: 0.8557\n",
    "    \n",
    "#### Model 7\n",
    "Through iterating on model 4 a couple times I've noticed that the class weights aren't doing nothing, it just takes a significiantly longer time to train. Since this model with Adam is converging pretty quickly I'm going to implement the class weights with the Adam model for an initial test run.\n",
    "\n",
    "- Adam: 0.0003 Epochs: 1000 Params: 57K Data: Original Regularizers: Class weights\n",
    "    - Train Loss: 0.01313037\n",
    "    - Accuracy: 0.9510\n",
    "    - Precision: 0.9820\n",
    "    - Recall: 0.9790\n",
    "    - F1-score: 0.9775\n",
    "    - ROC AUC: 0.9945\n",
    "    - -------------------\n",
    "    - Val Loss: 1.0087472\n",
    "    - Accuracy: 0.0980\n",
    "    - Precision: 0.5656\n",
    "    - Recall: 0.5289\n",
    "    - F1-score: 0.5141\n",
    "    - ROC AUC: 0.8612\n",
    "\n",
    "Still overfit despite the addition of class weights. I've also been reading online that oversampling and class weights is a fairly similar idea in principle.\n",
    "\n",
    "#### Model 8\n",
    "\n",
    "- Adam: 0.0003 Epochs: 1000 Params: 57K Data: Oversampled Regularizers: Class weights\n",
    "    - Train Loss: 0.010586039\n",
    "    - Accuracy: 0.9683\n",
    "    - Precision: 0.9864\n",
    "    - Recall: 0.9797\n",
    "    - F1-score: 0.9811\n",
    "    - ROC AUC: 0.9932\n",
    "    - -------------------\n",
    "    - Val Loss: 0.29428375\n",
    "    - Accuracy: 0.6783\n",
    "    - Precision: 0.8455\n",
    "    - Recall: 0.8475\n",
    "    - F1-score: 0.8315\n",
    "    - ROC AUC: 0.9566 *\n",
    "    \n",
    "Not quite as effective as I thought, but I've also been reading online that oversampling and class weights is a fairly similar idea in principle. That somewhat checks out as this model's performance is essentially identical to model 5A which all the same as this except no class weights were used. In fact, this model actually performs very very slightly worse than 5A in all of my metrics.\n",
    "\n",
    "#### Model 9\n",
    "Now I want to introduce weight decay. Going to start out with the vanilla AdamW optimizer.\n",
    "\n",
    "- AdamW: 0.0003 Epochs: 1000 Params: 57K Data: Oversampled Regularizer: Weight decay(0.01)\n",
    "    - Train Loss: 0.00957324\n",
    "    - Accuracy: 0.9742\n",
    "    - Precision: 0.9877\n",
    "    - Recall: 0.9807\n",
    "    - F1-score: 0.9824\n",
    "    - ROC AUC: 0.9931\n",
    "    - -------------------\n",
    "    - Val Loss: 0.2504797\n",
    "    - Accuracy: 0.6790\n",
    "    - Precision: 0.8420\n",
    "    - Recall: 0.8384\n",
    "    - F1-score: 0.8254\n",
    "    - ROC AUC: 0.9507\n",
    "    \n",
    "Again essentially identical performance to the current best model (5A) as well as (8) so now we have three models at essentially identical performance in different ways. All are on the oversampled dataset, however, weight decay and class weights has no helped to decrease train loss and increase val loss as the model without both of them (5A) has the best metrics.\n",
    "\n",
    "#### Model 9A\n",
    "\n",
    "- AdamW: 0.0003 Epochs: 1000 Params: 57K Data: Oversampled Regularizer: Weight decay(0.1)\n",
    "    - Train Loss: 0.0153279435\n",
    "    - Accuracy: 0.9652\n",
    "    - Precision: 0.9857\n",
    "    - Recall: 0.9794\n",
    "    - F1-score: 0.9803\n",
    "    - ROC AUC: 0.9929\n",
    "    - -------------------\n",
    "    - Val Loss: 0.16988453\n",
    "    - Accuracy: 0.6776\n",
    "    - Precision: 0.8477\n",
    "    - Recall: 0.8471\n",
    "    - F1-score: 0.8323\n",
    "    - ROC AUC: 0.9462\n",
    "\n",
    "#### Model 9B\n",
    "\n",
    "This was more of an attempt to just push in the incorrect direction to assure myself things are working properly. A weight decay of this high is unrealistic, however, it didn't fully overfit and that was the goal.\n",
    "\n",
    "- AdamW: 0.0003 Epochs: 1000 Params: 57K Data: Oversampled Regularizer: Weight decay(0.8)\n",
    "    - Train Loss: 0.0671329\n",
    "    - Accuracy: 0.7896\n",
    "    - Precision: 0.9548\n",
    "    - Recall: 0.9134\n",
    "    - F1-score: 0.9251\n",
    "    - ROC AUC: 0.9905\n",
    "    - -------------------\n",
    "    - Val Loss: 0.12983623\n",
    "    - Accuracy: 0.5647\n",
    "    - Precision: 0.8434\n",
    "    - Recall: 0.7796\n",
    "    - F1-score: 0.7918\n",
    "    - ROC AUC: 0.9532\n",
    "    \n",
    "Kind of stuck here to be honest, I know that something is off based on the gradient distributions and the fact that I have models that are overfitting but then also performing half decent on validation sets. Haven't quite figured out the issue yet.\n",
    "\n",
    "#### Model 10\n",
    "\n",
    "Going to backtrack a little here. Previously the first initial signs of success were on the oversampled dataset with vanilla SGD. This model will be the oversampled dataset with nesterov momentum.\n",
    "    \n",
    "- SGD: 0.01 Nest_Momen: 0.9 Epochs: 500 Params: 57K Data: Oversampled\n",
    "    - Train Loss: 0.009040079\n",
    "    - Accuracy: 0.9748\n",
    "    - Precision: 0.9756\n",
    "    - Recall: 0.9754\n",
    "    - F1-score: 0.9755\n",
    "    - ROC AUC: 0.9932\n",
    "    - -------------------\n",
    "    - Val Loss: 0.30176982\n",
    "    - Accuracy: 0.6715\n",
    "    - Precision: 0.8220\n",
    "    - Recall: 0.8201\n",
    "    - F1-score: 0.8082\n",
    "    - ROC AUC: 0.9462\n",
    "    \n",
    "This is an improvement upon the vanilla sgd model (5), still overfitting the training set.\n",
    "\n",
    "#### Model 10A\n",
    "\n",
    "Same as 10 but adding weight decay.\n",
    "\n",
    "- SGD: 0.01 Nest_Momen: 0.9 Epochs: 500 Params: 57K Data: Oversampled Regularizer: Weight decay(0.01)\n",
    "    - Train Loss: 0.28070715\n",
    "    - Accuracy: 0.0453\n",
    "    - Precision: 0.7822\n",
    "    - Recall: 0.3467\n",
    "    - F1-score: 0.4658\n",
    "    - ROC AUC: 0.9001\n",
    "    - -------------------\n",
    "    - Val Loss: 0.28742668\n",
    "    - Accuracy: 0.0507\n",
    "    - Precision: 0.7582\n",
    "    - Recall: 0.3407\n",
    "    - F1-score: 0.4535\n",
    "    - ROC AUC: 0.8793\n",
    "\n",
    "Not ideal, training is fluctuating a ton. Going to lowering the learning rate.\n",
    "\n",
    "#### Model 11\n",
    "\n",
    "Back to model 3 setup, but wanted to overfit so trained for 2K epochs.\n",
    "\n",
    "- SGD: 0.01 Epochs: 2000 Params: 57K Data: Original\n",
    "    - Train Loss: 0.016619338\n",
    "    - Accuracy: 0.9698\n",
    "    - Precision: 0.9886\n",
    "    - Recall: 0.9795\n",
    "    - F1-score: 0.9819\n",
    "    - ROC AUC: 0.9941\n",
    "    - -------------------\n",
    "    - Val Loss: 0.602286\n",
    "    - Accuracy: 0.0980\n",
    "    - Precision: 0.5531\n",
    "    - Recall: 0.5095\n",
    "    - F1-score: 0.4963\n",
    "    - ROC AUC: 0.8370\n",
    "\n",
    "#### What's next?\n",
    "Ok so admittedly, I've been running in circles getting nowhere. This is where things currently stand: \n",
    "\n",
    "- I have a poorly constructed oversampled dataset that when trained in multiple ways will overfit but still have relatively good performance on the val set. I've tried regularizing in a variety of ways but nothing seems to be improving the accuracy past 67% (also curious if this 67% represents some subset that it's always guessing, I'll need to look further into validation result counts to check this theory) 10/29/23 update: leaving this to laugh later, this oversampling had training samples in the validation set which is why the accuracy was so high, stupid mistakes happen it's ok\n",
    "- I have the original dataset which I've overfit with Adam, but haven't achieved an accuracy above 12% with anything I've tried (Adam, SGD, class weights)\n",
    "- I'm seeing two possible paths forward, focus on the original set once I've confirmed the overfitting in all scenarios and attempt to regularize it. Or construct a well-crafted oversampled set as this is where we've achieved the best results so far (and that version was poorly constructed, so maybe with some extra thought I can get it balancing the data more effectively)\n",
    "\n",
    "\n",
    "#### To-Do\n",
    "- [ ] Regularize overfit model (Adam)\n",
    "- [ ] Train model 4 for 8K epochs\n",
    "- [ ] Finish step 2 check list\n",
    "- [x] Train run with a smaller learning rate\n",
    "- [x] Remove duplicates\n",
    "- [x] Check for duplicates in columns other than primaryTitle\n",
    "- [x] Calculate my personal accuracy on genre classification (YIKES)\n",
    "- [x] Look into removing rows with descriptions that are too short.\n",
    "\n",
    "\n",
    "### Second Iteration Models\n",
    "\n",
    "10/29/23 Update:\n",
    "\n",
    "First off it's funny to me that I didn't take the advice of the recipe article at all and started off way too complex when I first did this project.\n",
    "\n",
    "I went a little crazy during that first iteration of testing and realized quite a few mistakes I was making, the point of all this was to learn and I can confidently say I've learned a lot from working with this dataset. As you'll see in the model information below I've significantly downsized the models and have been achieving similar results to the much much larger models I was designing for this problem previously. That alone exemplifies a lot of growth as I'm more confident in my understanding of this dataset and what can be learned from it.\n",
    "\n",
    "The reality is that the task I set out to accomplish is difficult. I mean when I tested my own personal accuracy on this task I scored 10% (you can find this somewhere above). The data isn't great quality and is often inaccurate, and many of the descriptions really just didn't have enough information to determine the genre(s), hence my terrible accuracy score. I set out to create a high-accuracy model, and that was unrealistic and I should've realized it earlier on. However, in my attempts to try just about everything I could find online to make it work I feel a lot better about my understanding and ability to assess and solve these problems going forward. I'm happy with where I'm leaving this with this because I am better than when I started.\n",
    "\n",
    "#### Model 1 (16>8>1)\n",
    "- Adam: 0.0003 Epochs: 200 (Early stop at 174) Batch: 256 Patience: 5 Params: 6K Data: Original\n",
    "    - Train Loss: 0.2269576\n",
    "    - Accuracy: 0.1610\n",
    "    - Precision: 0.7443\n",
    "    - Recall: 0.5145\n",
    "    - F1-score: 0.5752\n",
    "    - ROC AUC: 0.9041\n",
    "    - --\n",
    "    - Val Loss: 0.24533708\n",
    "    - Accuracy: 0.1449\n",
    "    - Precision: 0.7015\n",
    "    - Recall: 0.5045\n",
    "    - F1-score: 0.5520\n",
    "    - ROC AUC: 0.8923\n",
    "    \n",
    "#### Model 2 (16>8>1)\n",
    "- Adam: 0.0003 Epochs: 200 (Early stop at 174) Batch: 256 Patience: 5 Params: 6K Data: Original, longer desc\n",
    "- The original dataset consisted of a minimum description length of 60, for this set I bumped that up to 200. It didn't really help too much.\n",
    "    - Train Loss: 0.22881229\n",
    "    - Accuracy: 0.1504\n",
    "    - Precision: 0.7526\n",
    "    - Recall: 0.5257\n",
    "    - F1-score: 0.5835\n",
    "    - ROC AUC: 0.9003\n",
    "    - --\n",
    "    - Val Loss: 0.24689206\n",
    "    - Accuracy: 0.1133\n",
    "    - Precision: 0.6787\n",
    "    - Recall: 0.4779\n",
    "    - F1-score: 0.5249\n",
    "    - ROC AUC: 0.8835"
   ]
  },
  {
   "cell_type": "markdown",
   "id": "c6611008",
   "metadata": {},
   "source": [
    "## Random Testing"
   ]
  },
  {
   "cell_type": "code",
   "execution_count": 1561,
   "id": "33292058",
   "metadata": {},
   "outputs": [
    {
     "name": "stdout",
     "output_type": "stream",
     "text": [
      "torch.Size([2, 128])\n",
      "torch.Size([2, 50])\n"
     ]
    }
   ],
   "source": [
    "for i, output in enumerate(last_relu_grads):\n",
    "    t = output.shape\n",
    "    print(t)"
   ]
  },
  {
   "cell_type": "code",
   "execution_count": 576,
   "id": "862664f0",
   "metadata": {},
   "outputs": [
    {
     "name": "stdout",
     "output_type": "stream",
     "text": [
      "torch.Size([128, 384])\n",
      "torch.Size([128])\n",
      "torch.Size([128])\n",
      "torch.Size([50, 128])\n",
      "torch.Size([50])\n",
      "torch.Size([50])\n",
      "torch.Size([26, 50])\n"
     ]
    }
   ],
   "source": [
    "for i, layer in enumerate(model.parameters()): # note: exclude the output layer\n",
    "    print(layer.shape)\n",
    "    if isinstance(layer, torch.nn.modules.activation.ReLU):\n",
    "        t = layer.grad\n",
    "        print(t)"
   ]
  },
  {
   "cell_type": "code",
   "execution_count": null,
   "id": "1d230370",
   "metadata": {
    "collapsed": true
   },
   "outputs": [],
   "source": [
    "### Alternate graphing of gradient distribution ###\n",
    "# Assuming you have a list of gradient tensors 'last_relu_grads' for specific ReLU layers\n",
    "\n",
    "# Create subplots for each ReLU layer\n",
    "plt.figure(figsize=(20, 4 * len(last_relu_grads)))\n",
    "legends = []\n",
    "\n",
    "for i, output in enumerate(last_relu_grads):\n",
    "    t = output\n",
    "\n",
    "    # Calculate mean and standard deviation\n",
    "    mean = t.mean().item()\n",
    "    std = t.std().item()\n",
    "\n",
    "    # Convert the PyTorch tensor to a NumPy array for histogram\n",
    "    t_np = t.detach().numpy()\n",
    "\n",
    "    # Create histogram\n",
    "    n_bins = 50  # Adjust the number of bins as needed\n",
    "    hist, bin_edges = np.histogram(t_np, bins=n_bins, density=True)\n",
    "\n",
    "    # Normalize the histogram to represent probability density\n",
    "    hist /= np.sum(hist)\n",
    "\n",
    "    # Create the plot\n",
    "    plt.plot(bin_edges[:-1], hist, label=f'ReLU layer {i}, mean={mean:.4f}, std={std:.4e}')\n",
    "\n",
    "    legends.append(f'ReLU layer {i}')\n",
    "\n",
    "plt.legend()\n",
    "plt.title('Gradient Distribution with KDE')\n",
    "plt.xlabel('Gradient Value')\n",
    "plt.ylabel('Probability Density')\n",
    "plt.show()"
   ]
  },
  {
   "cell_type": "code",
   "execution_count": 3,
   "id": "b9a59521",
   "metadata": {},
   "outputs": [
    {
     "name": "stdout",
     "output_type": "stream",
     "text": [
      "(384,)\n"
     ]
    }
   ],
   "source": [
    "sent_model = SentenceTransformer('sentence-transformers/all-MiniLM-L6-V2')\n",
    "\n",
    "enc1 = sent_model.encode(\"Tom Cruise's mother is Mary Lee Pfeiffer.\")\n",
    "print(enc1.shape)"
   ]
  },
  {
   "cell_type": "code",
   "execution_count": 5,
   "id": "5c383afa",
   "metadata": {},
   "outputs": [],
   "source": [
    "enc2 = sent_model.encode(\"Mary Lee Pfeiffer's son is Tom Cruise.\")"
   ]
  },
  {
   "cell_type": "code",
   "execution_count": 7,
   "id": "11851833",
   "metadata": {},
   "outputs": [
    {
     "data": {
      "text/plain": [
       "tensor([0.9154])"
      ]
     },
     "execution_count": 7,
     "metadata": {},
     "output_type": "execute_result"
    }
   ],
   "source": [
    "F.cosine_similarity(torch.from_numpy(enc1).unsqueeze(0), torch.from_numpy(enc2).unsqueeze(0), dim=1)"
   ]
  },
  {
   "cell_type": "code",
   "execution_count": null,
   "id": "bb665016",
   "metadata": {},
   "outputs": [],
   "source": []
  }
 ],
 "metadata": {
  "kernelspec": {
   "display_name": "Python 3 (ipykernel)",
   "language": "python",
   "name": "python3"
  },
  "language_info": {
   "codemirror_mode": {
    "name": "ipython",
    "version": 3
   },
   "file_extension": ".py",
   "mimetype": "text/x-python",
   "name": "python",
   "nbconvert_exporter": "python",
   "pygments_lexer": "ipython3",
   "version": "3.10.4"
  }
 },
 "nbformat": 4,
 "nbformat_minor": 5
}
