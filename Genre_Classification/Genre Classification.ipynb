{
 "cells": [
  {
   "cell_type": "code",
   "execution_count": 2,
   "id": "fbbf1d2c",
   "metadata": {},
   "outputs": [],
   "source": [
    "import pandas as pd\n",
    "from sentence_transformers import SentenceTransformer\n",
    "import numpy as np\n",
    "from tqdm import tqdm_notebook as tqdm\n",
    "import torch.nn.functional as F\n",
    "import torch\n",
    "from sklearn.metrics import accuracy_score, precision_score, recall_score, f1_score, roc_auc_score\n",
    "from sklearn import metrics\n",
    "import matplotlib.pyplot as plt\n",
    "import torch.optim as optim\n",
    "from torch.optim.lr_scheduler import StepLR\n",
    "%matplotlib inline"
   ]
  },
  {
   "cell_type": "markdown",
   "id": "c63086f7",
   "metadata": {},
   "source": [
    "# Recipe for Success\n",
    "(Based entirely on Karpathy \"A Recipe for Training Neural Networks\")\n",
    "\n",
    "## Not so Subtle Reminders\n",
    "1. Remember that neural nets aren't as simple to train as they are made to seem. Hidden behind the simple lines of these frameworks are many layers of complexity. Make a concious effort to develop a deep understanding on what's going on behind the scenes. It will help immensely when things begin to break.\n",
    "2. Neural networks have an uncanny ability to fail *silently*. In programming, many problems are avoided using thorough unit testing and if not you may get lucky and the things you miss might end up throwing an exception anyway. Neural networks are unique in that they may not show any signs of failure, but in reality it's working worse than it should be due to something such as: you forgot to flip your labels when you left-right flipped the image during data augmentation. \n",
    "\n",
    "## Key Principles\n",
    "1. Don't be a hero. Start **simple** and **gradually** build up complexity.\n",
    "2. Be patient.\n",
    "3. Pay extra attention to detail. Test and double check everything.\n",
    "\n",
    "## Basic Steps\n",
    "1. Develop a deep understanding of your dataset.\n",
    "2. Set up **simple** end-to-end training/evaluation skeleton to get dumb baselines\n",
    "3. Now you want to begin iterating on a good model.\n",
    "    - First get a model large enough that it can overfit (i.e. focus on training loss)\n",
    "    - If you've done step 2 *correctly* and you are still unable to reach a low error rate with any model at all then that may\n",
    "      indicate an issue/bug/misconfiguration.\n",
    "4. At this point you have a large model that is fitting at least the training set. Now it's time to regularize it and give up some train loss to gain some val loss.\n",
    "5. Now you begin exploring a wide model space to achieve the lowest val loss you can reach.\n",
    "6. Once you have an idea of the best kind of architecture/hyper-parameters there's still some areas to squeeze out a few extra percent in accuracy\n",
    "    - Ensembles\n",
    "    - Leave it training. Networks keep training for an unintuitively long time, you may be surprised what happens if you give it enough time"
   ]
  },
  {
   "cell_type": "markdown",
   "id": "73c01aef",
   "metadata": {},
   "source": [
    "### Explore the Data"
   ]
  },
  {
   "cell_type": "code",
   "execution_count": 3,
   "id": "61d9829a",
   "metadata": {},
   "outputs": [],
   "source": [
    "data = pd.read_csv(\"IMDB.csv\")"
   ]
  },
  {
   "cell_type": "code",
   "execution_count": 4,
   "id": "1e80d425",
   "metadata": {},
   "outputs": [],
   "source": [
    "# Get rid of unnecessary columns\n",
    "data = data.drop(['Unnamed: 0', 'index', 'tconst','language', 'types', 'attributes', 'isOriginalTitle', 'isAdult'], axis=1)"
   ]
  },
  {
   "cell_type": "code",
   "execution_count": 5,
   "id": "b06be02d",
   "metadata": {},
   "outputs": [
    {
     "data": {
      "text/plain": [
       "(7850, 13)"
      ]
     },
     "execution_count": 5,
     "metadata": {},
     "output_type": "execute_result"
    }
   ],
   "source": [
    "data.shape"
   ]
  },
  {
   "cell_type": "code",
   "execution_count": 6,
   "id": "bf842601",
   "metadata": {},
   "outputs": [
    {
     "data": {
      "text/html": [
       "<div>\n",
       "<style scoped>\n",
       "    .dataframe tbody tr th:only-of-type {\n",
       "        vertical-align: middle;\n",
       "    }\n",
       "\n",
       "    .dataframe tbody tr th {\n",
       "        vertical-align: top;\n",
       "    }\n",
       "\n",
       "    .dataframe thead th {\n",
       "        text-align: right;\n",
       "    }\n",
       "</style>\n",
       "<table border=\"1\" class=\"dataframe\">\n",
       "  <thead>\n",
       "    <tr style=\"text-align: right;\">\n",
       "      <th></th>\n",
       "      <th>titleType</th>\n",
       "      <th>primaryTitle</th>\n",
       "      <th>originalTitle</th>\n",
       "      <th>startYear</th>\n",
       "      <th>endYear</th>\n",
       "      <th>runtimeMinutes</th>\n",
       "      <th>genres</th>\n",
       "      <th>averageRating</th>\n",
       "      <th>numVotes</th>\n",
       "      <th>ordering</th>\n",
       "      <th>title</th>\n",
       "      <th>region</th>\n",
       "      <th>Description</th>\n",
       "    </tr>\n",
       "  </thead>\n",
       "  <tbody>\n",
       "    <tr>\n",
       "      <th>0</th>\n",
       "      <td>movie</td>\n",
       "      <td>The Silence of the Lambs</td>\n",
       "      <td>The Silence of the Lambs</td>\n",
       "      <td>1991</td>\n",
       "      <td>\\N</td>\n",
       "      <td>118</td>\n",
       "      <td>Crime,Drama,Thriller</td>\n",
       "      <td>8.6</td>\n",
       "      <td>1473918</td>\n",
       "      <td>50</td>\n",
       "      <td>The Silence of the Lambs</td>\n",
       "      <td>US</td>\n",
       "      <td>Jodie Foster stars as Clarice Starling, a top ...</td>\n",
       "    </tr>\n",
       "    <tr>\n",
       "      <th>1</th>\n",
       "      <td>movie</td>\n",
       "      <td>Terminator 2: Judgment Day</td>\n",
       "      <td>Terminator 2: Judgment Day</td>\n",
       "      <td>1991</td>\n",
       "      <td>\\N</td>\n",
       "      <td>137</td>\n",
       "      <td>Action,Sci-Fi</td>\n",
       "      <td>8.6</td>\n",
       "      <td>1128166</td>\n",
       "      <td>17</td>\n",
       "      <td>Terminator 2: Judgment Day</td>\n",
       "      <td>US</td>\n",
       "      <td>In this sequel set eleven years after \"The Ter...</td>\n",
       "    </tr>\n",
       "    <tr>\n",
       "      <th>2</th>\n",
       "      <td>movie</td>\n",
       "      <td>The Lion King</td>\n",
       "      <td>The Lion King</td>\n",
       "      <td>1994</td>\n",
       "      <td>\\N</td>\n",
       "      <td>88</td>\n",
       "      <td>Adventure,Animation,Drama</td>\n",
       "      <td>8.5</td>\n",
       "      <td>1090882</td>\n",
       "      <td>18</td>\n",
       "      <td>The Lion King 3D</td>\n",
       "      <td>US</td>\n",
       "      <td>This Disney animated feature follows the adven...</td>\n",
       "    </tr>\n",
       "    <tr>\n",
       "      <th>3</th>\n",
       "      <td>movie</td>\n",
       "      <td>Pulp Fiction</td>\n",
       "      <td>Pulp Fiction</td>\n",
       "      <td>1994</td>\n",
       "      <td>\\N</td>\n",
       "      <td>154</td>\n",
       "      <td>Crime,Drama</td>\n",
       "      <td>8.9</td>\n",
       "      <td>2118762</td>\n",
       "      <td>22</td>\n",
       "      <td>Pulp Fiction</td>\n",
       "      <td>US</td>\n",
       "      <td>Vincent Vega (John Travolta) and Jules Winnfie...</td>\n",
       "    </tr>\n",
       "    <tr>\n",
       "      <th>4</th>\n",
       "      <td>movie</td>\n",
       "      <td>The Shawshank Redemption</td>\n",
       "      <td>The Shawshank Redemption</td>\n",
       "      <td>1994</td>\n",
       "      <td>\\N</td>\n",
       "      <td>142</td>\n",
       "      <td>Drama</td>\n",
       "      <td>9.3</td>\n",
       "      <td>2759621</td>\n",
       "      <td>2</td>\n",
       "      <td>The Shawshank Redemption</td>\n",
       "      <td>US</td>\n",
       "      <td>Andy Dufresne (Tim Robbins) is sentenced to tw...</td>\n",
       "    </tr>\n",
       "  </tbody>\n",
       "</table>\n",
       "</div>"
      ],
      "text/plain": [
       "  titleType                primaryTitle               originalTitle  \\\n",
       "0     movie    The Silence of the Lambs    The Silence of the Lambs   \n",
       "1     movie  Terminator 2: Judgment Day  Terminator 2: Judgment Day   \n",
       "2     movie               The Lion King               The Lion King   \n",
       "3     movie                Pulp Fiction                Pulp Fiction   \n",
       "4     movie    The Shawshank Redemption    The Shawshank Redemption   \n",
       "\n",
       "   startYear endYear runtimeMinutes                     genres  averageRating  \\\n",
       "0       1991      \\N            118       Crime,Drama,Thriller            8.6   \n",
       "1       1991      \\N            137              Action,Sci-Fi            8.6   \n",
       "2       1994      \\N             88  Adventure,Animation,Drama            8.5   \n",
       "3       1994      \\N            154                Crime,Drama            8.9   \n",
       "4       1994      \\N            142                      Drama            9.3   \n",
       "\n",
       "   numVotes  ordering                       title region  \\\n",
       "0   1473918        50    The Silence of the Lambs     US   \n",
       "1   1128166        17  Terminator 2: Judgment Day     US   \n",
       "2   1090882        18            The Lion King 3D     US   \n",
       "3   2118762        22                Pulp Fiction     US   \n",
       "4   2759621         2    The Shawshank Redemption     US   \n",
       "\n",
       "                                         Description  \n",
       "0  Jodie Foster stars as Clarice Starling, a top ...  \n",
       "1  In this sequel set eleven years after \"The Ter...  \n",
       "2  This Disney animated feature follows the adven...  \n",
       "3  Vincent Vega (John Travolta) and Jules Winnfie...  \n",
       "4  Andy Dufresne (Tim Robbins) is sentenced to tw...  "
      ]
     },
     "execution_count": 6,
     "metadata": {},
     "output_type": "execute_result"
    }
   ],
   "source": [
    "data.head()"
   ]
  },
  {
   "cell_type": "code",
   "execution_count": 26,
   "id": "d69337b9",
   "metadata": {},
   "outputs": [
    {
     "name": "stderr",
     "output_type": "stream",
     "text": [
      "C:\\Users\\Stephen\\AppData\\Local\\Temp\\ipykernel_19500\\133283522.py:7: TqdmDeprecationWarning: This function will be removed in tqdm==5.0.0\n",
      "Please use `tqdm.notebook.tqdm` instead of `tqdm.tqdm_notebook`\n",
      "  with tqdm(total=len(all_desc), desc=\"Encoding sentences\") as pbar:\n"
     ]
    },
    {
     "data": {
      "application/vnd.jupyter.widget-view+json": {
       "model_id": "a644968799664c44acbbbfbe5b2ebd42",
       "version_major": 2,
       "version_minor": 0
      },
      "text/plain": [
       "Encoding sentences:   0%|          | 0/7850 [00:00<?, ?it/s]"
      ]
     },
     "metadata": {},
     "output_type": "display_data"
    }
   ],
   "source": [
    "# Use Sentence Transformer from hugging face to retrieve word embedddings for descriptions\n",
    "all_desc = data['Description'].astype(str).tolist()\n",
    "model = SentenceTransformer('sentence-transformers/all-MiniLM-L6-V2')\n",
    "\n",
    "# Use tqdm to track the progress of encoding\n",
    "with tqdm(total=len(all_desc), desc=\"Encoding sentences\") as pbar:\n",
    "    # Encode each sentence and update the progress bar\n",
    "    sentence_embeddings = []\n",
    "    for desc in all_desc:\n",
    "        embedding = model.encode(desc)\n",
    "        sentence_embeddings.append(embedding)\n",
    "        pbar.update(1)"
   ]
  },
  {
   "cell_type": "code",
   "execution_count": 7,
   "id": "37793916",
   "metadata": {},
   "outputs": [],
   "source": [
    "# Save embeddings in torch tensor for later use\n",
    "# embeddings = torch.tensor(sentence_embeddings)\n",
    "# embeddings.shape\n",
    "\n",
    "# Or.. Restore embeddings from pytorch tensor\n",
    "embeddings = torch.load(\"embeddings.pt\")"
   ]
  },
  {
   "cell_type": "code",
   "execution_count": 8,
   "id": "61712029",
   "metadata": {},
   "outputs": [
    {
     "data": {
      "text/plain": [
       "[(4, tensor(1.)),\n",
       " (69, tensor(0.5307)),\n",
       " (4727, tensor(0.5159)),\n",
       " (917, tensor(0.5102)),\n",
       " (753, tensor(0.5099)),\n",
       " (4441, tensor(0.4832)),\n",
       " (2520, tensor(0.4769)),\n",
       " (4434, tensor(0.4757)),\n",
       " (1753, tensor(0.4671)),\n",
       " (2408, tensor(0.4619))]"
      ]
     },
     "execution_count": 8,
     "metadata": {},
     "output_type": "execute_result"
    }
   ],
   "source": [
    "# Calculate cosine similarity of description of Shawshank Redemption with every other movie/show desc in the list\n",
    "# Note: Picks up similarities to other movies/shows involving prison\n",
    "sim = F.cosine_similarity(embeddings[4].unsqueeze(0), embeddings, dim=1)\n",
    "sim_pairs = list(enumerate(sim))\n",
    "sorted_sim_pairs = sorted(sim_pairs, key=lambda x:x[1], reverse=True)\n",
    "sorted_sim_pairs[:10]"
   ]
  },
  {
   "cell_type": "code",
   "execution_count": 9,
   "id": "ab8a008a",
   "metadata": {},
   "outputs": [
    {
     "name": "stdout",
     "output_type": "stream",
     "text": [
      "[(132, 9.5), (1536, 9.5), (4764, 9.5), (5399, 9.5), (99, 9.4), (523, 9.4), (1424, 9.4), (5304, 9.4), (4, 9.3), (779, 9.3)]\n"
     ]
    }
   ],
   "source": [
    "# Print the top 10 ratings of all movies/shows\n",
    "ratings = list(enumerate(data['averageRating']))\n",
    "sorted_ratings = sorted(ratings, key=lambda x:x[1], reverse=True)\n",
    "print(sorted_ratings[:10])"
   ]
  },
  {
   "cell_type": "markdown",
   "id": "403b12d0",
   "metadata": {},
   "source": [
    "### Narrowing in on a genre classification model based on movie/show description"
   ]
  },
  {
   "cell_type": "code",
   "execution_count": 10,
   "id": "5c291ce3",
   "metadata": {},
   "outputs": [
    {
     "name": "stdout",
     "output_type": "stream",
     "text": [
      "Original shape: (7850, 27)\n",
      "Filtered shape: (7041, 19)\n",
      "Embeddings original shape: torch.Size([7850, 384])\n",
      "Filtered embeddings shape: torch.Size([7041, 384])\n"
     ]
    }
   ],
   "source": [
    "# Circling back from my personal classifications section below to clean up the duplicates issues \n",
    "remove_idx_lst_tmp = data[data['primaryTitle'].duplicated(keep=False)].index.tolist()\n",
    "\n",
    "# remove indices where descriptions are too short (fewer than 60 characters)\n",
    "remove_idx_lst_tmp += data[data['Description'].str.len() < 60].index.tolist()\n",
    "\n",
    "# Use pandas get_dummies to create multi-hot encoding\n",
    "# super cool function\n",
    "multi_hot = data['genres'].str.get_dummies(sep=',')\n",
    "\n",
    "# Remove all genres with less than 150 movies/tv-shows within them\n",
    "genre_counts_mask = multi_hot.sum() > 150\n",
    "genres_filtered_df = multi_hot.loc[:,genre_counts_mask]\n",
    "\n",
    "# Remove any of the rows that have no genre\n",
    "print(\"Original shape:\", multi_hot.shape)\n",
    "remove_idx_lst_tmp += genres_filtered_df[genres_filtered_df.sum(axis=1) == 0].index.tolist()\n",
    "# Added the line below to avoid deleting an index multiple times which could have been a pretty nasty bug, but because of how \n",
    "# I deleted things this didn't end up being an issue. The pandas df didn't reset indices so once an index is gotten it no\n",
    "# no longer exists, it's not like everything above it shifts down one. And for the pytorch mask it would just mean a certain\n",
    "# index got set equal to zero multiple times. \n",
    "remove_idx_lst = list(set(remove_idx_lst_tmp))\n",
    "filtered = genres_filtered_df.drop(remove_idx_lst_tmp) # CHANGE\n",
    "print(\"Filtered shape:\", filtered.shape)\n",
    "\n",
    "#Convert to torch tensor\n",
    "multi_hot_tensor = torch.tensor(filtered.values, dtype=torch.float32)\n",
    "\n",
    "# Removing matching indexes from embeddings tensor. Torch tensors can't actually delete so need to create a mask and index\n",
    "mask = torch.ones(embeddings.shape[0], dtype=torch.bool)\n",
    "mask[remove_idx_lst_tmp] = 0 # CHANGE\n",
    "\n",
    "new_embeddings = embeddings[mask]\n",
    "print(\"Embeddings original shape:\", embeddings.shape)\n",
    "print(\"Filtered embeddings shape:\", new_embeddings.shape)"
   ]
  },
  {
   "cell_type": "code",
   "execution_count": 11,
   "id": "c6bbf2b5",
   "metadata": {},
   "outputs": [
    {
     "name": "stdout",
     "output_type": "stream",
     "text": [
      "Average value of every element: -0.00040699203964322805\n",
      "Average value of min elements: -0.1526476889848709\n",
      "Average value of max elements: 0.15412428975105286\n"
     ]
    }
   ],
   "source": [
    "# Stats on word embeddings\n",
    "print(\"Average value of every element:\", new_embeddings.mean(axis=1).mean().item())\n",
    "print(\"Average value of min elements:\", new_embeddings.min(axis=1).values.mean().item())\n",
    "print(\"Average value of max elements:\", new_embeddings.max(axis=1).values.mean().item())"
   ]
  },
  {
   "cell_type": "code",
   "execution_count": 12,
   "id": "59c9d2c9",
   "metadata": {},
   "outputs": [
    {
     "data": {
      "text/plain": [
       "Action         1463\n",
       "Adventure       998\n",
       "Animation       620\n",
       "Biography       647\n",
       "Comedy         2107\n",
       "Crime          1502\n",
       "Documentary     575\n",
       "Drama          4675\n",
       "Family          225\n",
       "Fantasy         355\n",
       "History         405\n",
       "Horror          324\n",
       "Music           238\n",
       "Mystery         718\n",
       "Romance         925\n",
       "Sci-Fi          297\n",
       "Sport           159\n",
       "Thriller        793\n",
       "War             151\n",
       "dtype: int64"
      ]
     },
     "execution_count": 12,
     "metadata": {},
     "output_type": "execute_result"
    }
   ],
   "source": [
    "# Counts per genre\n",
    "filtered.sum()"
   ]
  },
  {
   "cell_type": "code",
   "execution_count": 13,
   "id": "9e4dbe41",
   "metadata": {},
   "outputs": [
    {
     "data": {
      "text/plain": [
       "2.43956824314728"
      ]
     },
     "execution_count": 13,
     "metadata": {},
     "output_type": "execute_result"
    }
   ],
   "source": [
    "# Clearly still a pretty unbalanced dataset, let's get an idea of how many genres the content usually has\n",
    "filtered.sum(axis=1).mean()"
   ]
  },
  {
   "cell_type": "code",
   "execution_count": 14,
   "id": "d092fa9b",
   "metadata": {},
   "outputs": [
    {
     "data": {
      "text/plain": [
       "1066"
      ]
     },
     "execution_count": 14,
     "metadata": {},
     "output_type": "execute_result"
    }
   ],
   "source": [
    "# Only ~1100 have a single genre\n",
    "(filtered.sum(axis=1) == 1).sum()"
   ]
  },
  {
   "cell_type": "code",
   "execution_count": 15,
   "id": "438f2640",
   "metadata": {},
   "outputs": [
    {
     "name": "stdout",
     "output_type": "stream",
     "text": [
      "1\n",
      "3\n"
     ]
    }
   ],
   "source": [
    "# Minimum of a single genre, max of 3 genres\n",
    "print(filtered.sum(axis=1).min())\n",
    "print(filtered.sum(axis=1).max())"
   ]
  },
  {
   "cell_type": "code",
   "execution_count": 16,
   "id": "32646584",
   "metadata": {},
   "outputs": [
    {
     "name": "stdout",
     "output_type": "stream",
     "text": [
      "1\n",
      "An anthology of sinister stories told by revered horror creators.\n",
      "\n",
      "2\n",
      "Food critic Steve Coogan and traveling companion Rob Brydon trade delicious barbs and clever remarks as they tour various eateries in northern England.\n",
      "\n",
      "3\n",
      "Renowned Dragon Knight Davion becomes embroiled in events much larger than he could have ever imagined.\n",
      "\n",
      "4\n",
      "Some British retirees (Judi Dench, Maggie Smith, Bill Nighy) decide to outsource their retirement to exotic -- and less expensive -- India. Lured by advertisements for the newly restored Marigold Hotel and imagining a life of leisure in lush surroundings, they arrive and find that the Marigold is actually a shell of its former self. Though their new home is not quite what they had imagined, the retirees find that life and love can begin again when they let go of their pasts.\n",
      "\n",
      "5\n",
      "A suburban father of three girls tries to reform an undisciplined and fatherless boy by teaching him what it really means to be a man.\n",
      "\n",
      "6\n",
      "A young woman searches for a way to escape from the fantasy world Wonderland.\n",
      "\n",
      "7\n",
      "Biology professor Alfred Kinsey (Liam Neeson) has a perfectly respectable life teaching and doing research at Indiana University along with a happy home life with his wife (Laura Linney). When he realizes that his students, many of them married and with children, still come to him with personal questions about human sexuality, he fights to begin teaching sex education courses and conducts extensive interviews about the sexual history of volunteers despite high-profile opposition.\n",
      "\n",
      "8\n",
      "When a body is found on a beach in North Devon, DI Matthew Venn tackles a case that has no witnesses, no forensics and no motive. Matthew is also dealing with the death of his father and being thrust back into a community he was forced to leave.\n",
      "\n",
      "9\n",
      "A group of police investigators in New Zealand track supernatural events, including cases of demon possession, haunted houses, and blood bank robberies.\n",
      "\n",
      "10\n",
      "People from all walks of life face catastrophic consequences during devastating floods in 2018. The people of Kerala work together to survive the calamity.\n",
      "\n",
      "11\n",
      "Based on an Israeli Academy Award-winning TV drama series, \"In Treatment\" features a psychologist confronting some uneasy personal truths. For the first three seasons, the featured doctor is middle-aged Paul Weston, who has sessions with his own psychotherapist. After more than a decade off the air, the Golden Globe-winning series returned with Dr. Brooke Taylor as the psychoanalyst. Her task: help her patients navigate a variety of modern concerns, including the global pandemic and shifts in the social and cultural landscapes. But she has her own complications in her personal life to deal with while helping her patients with theirs.\n",
      "\n",
      "12\n",
      "James Cameron's \"Titanic\" is an epic, action-packed romance set against the ill-fated maiden voyage of the R.M.S. Titanic; the pride and joy of the White Star Line and, at the time, the largest moving object ever built. She was the most luxurious liner of her era -- the \"ship of dreams\" -- which ultimately carried over 1,500 people to their death in the ice cold waters of the North Atlantic in the early hours of April 15, 1912.\n",
      "\n",
      "13\n",
      "Donna (Meryl Streep), an independent hotelier in the Greek islands, is preparing for her daughter's wedding with the help of two old friends. Meanwhile Sophie, the spirited bride, has a plan. She secretly invites three men from her mother's past in hope of meeting her real father and having him escort her down the aisle on her big day.\n",
      "\n",
      "14\n",
      "Superman battles evil while trying to conceal his alter ego, Clark Kent.\n",
      "\n",
      "15\n",
      "Two gangsters commit a blunder and get their love lives entangled with their criminal deeds.\n",
      "\n",
      "16\n",
      "An idealistic FBI agent (Daniel Radcliffe) goes under cover to infiltrate a white supremacist group that's plotting an act of terror.\n",
      "\n",
      "17\n",
      "Shishio sets sail in his ironclad ship to bring down the government. In order to stop him, Kenshin trains with his old master to learn his final technique.\n",
      "\n",
      "18\n",
      "Ottoman sultan Mehmed II wages an epic campaign to take the Byzantine capital of Constantinople, shaping the course of history for centuries.\n",
      "\n",
      "19\n",
      "In 2005 Afghanistan, Navy SEALs Marcus Luttrell (Mark Wahlberg), Michael Murphy (Taylor Kitsch), Danny Dietz (Emile Hirsch) and Matthew \"Axe\" Axelson (Ben Foster) deploy on a mission of surveillance and to take out Taliban leader Ahmad Shah. Though spotted by goatherds, Luttrell and his team decide not to kill them. But one of the Afghans alerts a group of Taliban fighters to the invaders, and a terrible battle ensues, in which the SEALs find themselves hopelessly outnumbered and outgunned.\n",
      "\n",
      "20\n",
      "For Micky Ward (Mark Wahlberg), boxing is a family affair. His tough-as-nails mother is his manager. His half-brother, Dicky (Christian Bale), once a promising boxer himself, is his very unreliable trainer. Despite Micky's hard work, he is losing and, when the latest fight nearly kills him, he follows his girlfriend's advice and splits from the family. Then Micky becomes a contender for the world title and he -- and his family -- earns a shot at redemption.\n",
      "\n"
     ]
    }
   ],
   "source": [
    "# Figure I might as well test my own skills on predicting genres from descriptions\n",
    "# I'll do 20 and see what kind of accuracy I'll get. For the most part I'll just try to predict 2 because that's the average\n",
    "# maybe if I'm feeling confident I'll throw in a third genre.\n",
    "\n",
    "# Reference of possible genres\n",
    "# ['Action', 'Adventure', 'Animation', 'Biography', 'Comedy', 'Crime',\n",
    "#        'Documentary', 'Drama', 'Family', 'Fantasy', 'Game-Show', 'History',\n",
    "#        'Horror', 'Music', 'Musical', 'Mystery', 'News', 'Reality-TV',\n",
    "#        'Romance', 'Sci-Fi', 'Short', 'Sport', 'Talk-Show', 'Thriller', 'War',\n",
    "#        'Western', '\\N']\n",
    "\n",
    "# data (7850, 13)\n",
    "\n",
    "# Select 30 random indices\n",
    "np.random.seed(4859)\n",
    "idxs = np.random.randint(0, high=7851, size=30)[:20]\n",
    "\n",
    "count = 1\n",
    "for desc in data.iloc[idxs, -1]:\n",
    "    print(count)\n",
    "    print(desc)\n",
    "    print()\n",
    "    count += 1"
   ]
  },
  {
   "cell_type": "code",
   "execution_count": 18,
   "id": "e7dd85ff",
   "metadata": {},
   "outputs": [],
   "source": [
    "#### My classifications\n",
    "mine = [[\"Horror\", \"Thriller\"],\n",
    "[\"Reality-TV\", \"Documentary\"],\n",
    "[\"Fantasy\", \"Action\"],\n",
    "[\"Drama\", \"Romance\"],\n",
    "[\"Family\", \"Drama\"],\n",
    "[\"Fantasy\", \"Animation\"],\n",
    "[\"Drama\"],\n",
    "[\"Mystery\", \"Crime\"],\n",
    "[\"Crime\", \"Thriller\"],\n",
    "[\"Documentary\"],\n",
    "[\"Drama\"],\n",
    "[\"Romance\", \"Drama\"],\n",
    "[\"Comedy\", \"Drama\"],\n",
    "[\"Action\", \"Adventure\"],\n",
    "[\"Drama\", \"Comedy\"],\n",
    "[\"Crime\", \"Drama\"],\n",
    "[\"Adventure\", \"Action\"],\n",
    "[\"History\"],\n",
    "[\"Action\", \"Adventure\"],\n",
    "[\"Drama\", \"Action\"]]"
   ]
  },
  {
   "cell_type": "code",
   "execution_count": 19,
   "id": "4476592f",
   "metadata": {},
   "outputs": [
    {
     "data": {
      "text/plain": [
       "array([1, 0, 0, 0, 1, 0, 0, 0, 0, 0, 0, 0, 1, 0, 0, 0, 0, 0, 0, 0, 0, 0,\n",
       "       0, 0, 0])"
      ]
     },
     "execution_count": 19,
     "metadata": {},
     "output_type": "execute_result"
    }
   ],
   "source": [
    "tru = data.iloc[idxs[:20], 6].tolist()\n",
    "ct = 0\n",
    "\n",
    "for item in tru:\n",
    "    tru[ct] = item.split(',')\n",
    "    ct += 1\n",
    "\n",
    "# List of genres\n",
    "gens = ['Action', 'Adventure', 'Animation', 'Biography', 'Comedy', 'Crime',\n",
    "       'Documentary', 'Drama', 'Family', 'Fantasy', 'Game-Show', 'History',\n",
    "       'Horror', 'Music', 'Musical', 'Mystery', 'News', 'Reality-TV',\n",
    "       'Romance', 'Sci-Fi', 'Short', 'Sport', 'Talk-Show', 'Thriller', 'War',\n",
    "       'Western']\n",
    "\n",
    "# Mapping genres to indexes\n",
    "stoi = {s:i for i,s in enumerate(gens)}\n",
    "\n",
    "# Create multi-hot arrays for my classifications and the ground truth's\n",
    "mine_map = []\n",
    "tru_map = []\n",
    "\n",
    "for lst in mine:\n",
    "    tmp = np.zeros((25), dtype=int)\n",
    "    for item in lst:\n",
    "        idx = stoi[item]\n",
    "        tmp[idx] = 1\n",
    "    mine_map.append(tmp)\n",
    "    \n",
    "for lst in tru:\n",
    "    tmp = np.zeros((25), dtype=int)\n",
    "    for item in lst:\n",
    "        idx = stoi[item]\n",
    "        tmp[idx] = 1\n",
    "    tru_map.append(tmp)\n",
    "\n",
    "# While I was doing my classifications I came across an error with the dataset from kaggle\n",
    "# All the details can be found here: \n",
    "# https://www.kaggle.com/datasets/ishikajohari/imdb-data-with-descriptions/discussion/443834\n",
    "# TLDR: Due to the fact that the dataset was created by pulling some information from RottenTomatoes and the Descriptions\n",
    "# from IMDb there were errors with the wrong descriptions being pulled for certain movies/shows because they had the same\n",
    "# title as another movie/show. i.e. Two very different movies both with the title \"The Trip\"\n",
    "\n",
    "# I'm popping index 1 because there's an issue with how they created the dataset and the data for that index is wrong\n",
    "mine_map.pop(1)\n",
    "tru_map.pop(1)"
   ]
  },
  {
   "cell_type": "code",
   "execution_count": 20,
   "id": "3fdab24e",
   "metadata": {},
   "outputs": [
    {
     "name": "stdout",
     "output_type": "stream",
     "text": [
      "Accuracy: 0.1053\n",
      "Precision: 0.7368\n",
      "Recall: 0.4912\n",
      "F1-score: 0.5789\n",
      "ROC AUC: 0.7348\n"
     ]
    }
   ],
   "source": [
    "# Metrics for my classifications (YIKES haha)\n",
    "acc = metrics.accuracy_score(tru_map, mine_map)\n",
    "p = metrics.precision_score(tru_map, mine_map, average='samples')\n",
    "r = metrics.recall_score(tru_map, mine_map, average='samples')\n",
    "f1_out = metrics.f1_score(tru_map, mine_map, average='samples')\n",
    "roc_auc_score = metrics.roc_auc_score(tru_map, mine_map, average='samples')\n",
    "\n",
    "print(f'Accuracy: {acc:.4f}')\n",
    "print(f'Precision: {p:.4f}')\n",
    "print(f'Recall: {r:.4f}')\n",
    "print(f'F1-score: {f1_out:.4f}')\n",
    "print(f'ROC AUC: {roc_auc_score:.4f}')"
   ]
  },
  {
   "cell_type": "markdown",
   "id": "56446dfc",
   "metadata": {},
   "source": [
    "#### Tips to Implement\n",
    "\n",
    "##### Phase One\n",
    "- [x] fix random seed\n",
    "- [x] simplify\n",
    "- [x] add significant digits to eval (after training)\n",
    "- [x] verify loss @ init\n",
    "- [x] init well\n",
    "- [x] human baseline\n",
    "- [x] input-independent baseline (after training)\n",
    "- [x] overfit one batch\n",
    "- [x] verify decreasing training loss (after training)\n",
    "- [x] visualize just before the net (this more so applies to image tasks)\n",
    "- [x] visualize prediction dynamics (add to val loop)\n",
    "- [x] use backprop to chart dependencies\n",
    "- [x] generalize a special case\n",
    "\n",
    "##### Phase Two\n",
    "Model skeleton is in place, training is going as expected for acquiring some trivial baseline results. Now I want to begin iterating on a good model and see where we can get.\n",
    "- [ ] Implement class weights\n",
    "- [ ] Implement adam optimizer"
   ]
  },
  {
   "cell_type": "code",
   "execution_count": 142,
   "id": "fb4269e2",
   "metadata": {},
   "outputs": [
    {
     "data": {
      "text/plain": [
       "(532, 19)"
      ]
     },
     "execution_count": 142,
     "metadata": {},
     "output_type": "execute_result"
    }
   ],
   "source": [
    "targ_col = \"Drama\"\n",
    "\n",
    "cond = (filtered.sum(axis=1) == 1) & (filtered[\"Drama\"] == 1)\n",
    "res = filtered[cond]\n",
    "res.shape"
   ]
  },
  {
   "cell_type": "code",
   "execution_count": 149,
   "id": "9d3b9cd9",
   "metadata": {},
   "outputs": [
    {
     "name": "stdout",
     "output_type": "stream",
     "text": [
      "torch.Size([19309, 19])\n",
      "torch.Size([19309, 384])\n"
     ]
    }
   ],
   "source": [
    "# Oversampling minority classes\n",
    "from sklearn.utils import resample\n",
    "np.random.seed(23433)\n",
    "# Create a copy of original filtered df which contains all the labels. I'm creating a copy because I have to reset the index\n",
    "filtered_copy = filtered.copy()\n",
    "\n",
    "sz = len(filtered_copy)\n",
    "shuffle = np.random.permutation(data_length, )\n",
    "\n",
    "filtered_copy = filtered_copy.iloc[shuffle].reset_index(drop=True)\n",
    "embeddings_shuffled = new_embeddings[shuffle]\n",
    "\n",
    "tr_size = int(0.8 * sz)\n",
    "v_size = int(0.1 * sz)\n",
    "te_size = sz - tr_size - v_size\n",
    "\n",
    "train_df_labels = filtered_copy.iloc[:tr_size]\n",
    "val_df_labels = filtered_copy.iloc[tr_size:tr_size+v_size]\n",
    "test_df_labels = filtered_copy.iloc[tr_size+v_size:]\n",
    "\n",
    "train_embeddings = embeddings_shuffled[train_df_labels.index]\n",
    "val_embeddings = embeddings_shuffled[val_df_labels.index]\n",
    "test_embeddings = embeddings_shuffled[test_df_labels.index]\n",
    "\n",
    "val_df_labels_tensor = torch.tensor(val_df_labels.values, dtype=torch.float32)\n",
    "test_df_labels_tensor = torch.tensor(test_df_labels.values, dtype=torch.float32)\n",
    "\n",
    "oversampled_classes = []\n",
    "\n",
    "for col in train_df_labels.columns:\n",
    "    if col != \"Drama\":\n",
    "        tmp_df = train_df_labels[(train_df_labels[col] == 1) & (train_df_labels[\"Drama\"] == 0)]\n",
    "        if tmp_df.shape[0] < 1000:\n",
    "            n_samples = 1000 - tmp_df.shape[0]\n",
    "            oversample = resample(tmp_df, replace=True, n_samples=n_samples, random_state=5384)\n",
    "            oversampled_classes.append(oversample)\n",
    "\n",
    "labels_to_append = oversampled_classes[0]\n",
    "\n",
    "for df in oversampled_classes[1:]:\n",
    "    labels_to_append = pd.concat([labels_to_append, df], axis=0)\n",
    "\n",
    "data_to_append = train_embeddings[labels_to_append.index]\n",
    "\n",
    "resampled_train_labels_df = pd.concat([train_df_labels, labels_to_append], axis=0)\n",
    "resampled_train_data = torch.cat((train_embeddings, data_to_append), 0)\n",
    "\n",
    "resampled_train_labels = torch.tensor(resampled_train_labels_df.values, dtype=torch.float32)\n",
    "\n",
    "print(resampled_train_labels.shape)\n",
    "print(resampled_train_data.shape)"
   ]
  },
  {
   "cell_type": "code",
   "execution_count": 147,
   "id": "4af6d437",
   "metadata": {},
   "outputs": [
    {
     "name": "stdout",
     "output_type": "stream",
     "text": [
      "20\n"
     ]
    }
   ],
   "source": [
    "# Amount of val embeddings that are also in the training set (because the dataset was poorly made and has repeated info)\n",
    "ct = 0\n",
    "for em in val_embeddings:\n",
    "    for em1 in train_embeddings:\n",
    "        equal = (em == em1).all()\n",
    "        if equal:\n",
    "            ct += 1\n",
    "            break\n",
    "print(ct)"
   ]
  },
  {
   "cell_type": "code",
   "execution_count": 148,
   "id": "94f2bf70",
   "metadata": {},
   "outputs": [
    {
     "name": "stdout",
     "output_type": "stream",
     "text": [
      "23\n"
     ]
    }
   ],
   "source": [
    "# Amount of test embeddings in the training set\n",
    "ct = 0\n",
    "for em in test_embeddings:\n",
    "    for em1 in train_embeddings:\n",
    "        equal = (em == em1).all()\n",
    "        if equal:\n",
    "            ct += 1\n",
    "            break\n",
    "print(ct)"
   ]
  },
  {
   "cell_type": "code",
   "execution_count": 150,
   "id": "b4971a4e",
   "metadata": {},
   "outputs": [
    {
     "data": {
      "text/plain": [
       "Action         4799\n",
       "Adventure      3700\n",
       "Animation      2198\n",
       "Biography      2351\n",
       "Comedy         5484\n",
       "Crime          3365\n",
       "Documentary    4510\n",
       "Drama          3753\n",
       "Family         1408\n",
       "Fantasy        1776\n",
       "History        1897\n",
       "Horror         1925\n",
       "Music          1443\n",
       "Mystery        2481\n",
       "Romance        1862\n",
       "Sci-Fi         1571\n",
       "Sport          1271\n",
       "Thriller       2593\n",
       "War            1249\n",
       "dtype: int64"
      ]
     },
     "execution_count": 150,
     "metadata": {},
     "output_type": "execute_result"
    }
   ],
   "source": [
    "resampled_train_labels_df.sum()"
   ]
  },
  {
   "cell_type": "code",
   "execution_count": 151,
   "id": "71a302cb",
   "metadata": {},
   "outputs": [
    {
     "data": {
      "text/plain": [
       "Index(['Action', 'Adventure', 'Animation', 'Biography', 'Comedy', 'Crime',\n",
       "       'Documentary', 'Drama', 'Family', 'Fantasy', 'History', 'Horror',\n",
       "       'Music', 'Mystery', 'Romance', 'Sci-Fi', 'Sport', 'Thriller', 'War'],\n",
       "      dtype='object')"
      ]
     },
     "execution_count": 151,
     "metadata": {},
     "output_type": "execute_result"
    }
   ],
   "source": [
    "# Genres present in filtered dataset\n",
    "filtered.columns"
   ]
  },
  {
   "cell_type": "code",
   "execution_count": 23,
   "id": "87f8ed26",
   "metadata": {},
   "outputs": [
    {
     "name": "stdout",
     "output_type": "stream",
     "text": [
      "tensor([0.0152, 0.0223, 0.0359, 0.0344, 0.0106, 0.0148, 0.0387, 0.0048, 0.0988,\n",
      "        0.0626, 0.0549, 0.0686, 0.0934, 0.0310, 0.0240, 0.0749, 0.1399, 0.0280,\n",
      "        0.1473])\n",
      "tensor([0.0246, 0.0330, 0.0575, 0.0468, 0.0205, 0.0328, 0.0245, 0.0240, 0.0793,\n",
      "        0.0640, 0.0565, 0.0630, 0.0811, 0.0459, 0.0553, 0.0731, 0.0874, 0.0423,\n",
      "        0.0884])\n"
     ]
    }
   ],
   "source": [
    "# Implement class weights\n",
    "\n",
    "# Original dataset\n",
    "\n",
    "# Calculate class weights based on class frequencies\n",
    "class_frequencies = filtered.sum().tolist()\n",
    "total_samples = sum(class_frequencies)\n",
    "class_weights = [total_samples / freq for freq in class_frequencies]\n",
    "\n",
    "# Normalize the weights to sum to 1.0\n",
    "class_weights_sum = sum(class_weights)\n",
    "class_weights = [weight / class_weights_sum for weight in class_weights]\n",
    "\n",
    "# Convert to a PyTorch tensor\n",
    "class_weights_tensor = torch.tensor(class_weights, dtype=torch.float)\n",
    "\n",
    "\n",
    "# Resampled dataset ******** CORRECT THIS SINCE NEW RESAMPLING **************\n",
    "\n",
    "re_class_frequencies = resampled_labels.sum().tolist()\n",
    "re_total_samples = sum(re_class_frequencies)\n",
    "re_class_weights = [re_total_samples / freq for freq in re_class_frequencies]\n",
    "\n",
    "# Normalize the weights to sum to 1.0\n",
    "re_class_weights_sum = sum(re_class_weights)\n",
    "re_class_weights = [weight / re_class_weights_sum for weight in re_class_weights]\n",
    "\n",
    "# Convert to a PyTorch tensor\n",
    "re_class_weights_tensor = torch.tensor(re_class_weights, dtype=torch.float)\n",
    "\n",
    "print(class_weights_tensor)\n",
    "print(re_class_weights_tensor)"
   ]
  },
  {
   "cell_type": "code",
   "execution_count": 158,
   "id": "062c20ff",
   "metadata": {},
   "outputs": [
    {
     "name": "stdout",
     "output_type": "stream",
     "text": [
      "Parameters: 56858\n"
     ]
    }
   ],
   "source": [
    "from torch.utils.data import TensorDataset, DataLoader, random_split\n",
    "\n",
    "# Set seed for reproducibility\n",
    "torch.manual_seed(5384)\n",
    "\n",
    "# When using original dataset\n",
    "##################################\n",
    "# x_data = new_embeddings\n",
    "# y_data = multi_hot_tensor\n",
    "\n",
    "# # Create train, val, and test DataLoaders\n",
    "# dataset = TensorDataset(x_data, y_data)\n",
    "\n",
    "# train_size = int(0.8 * len(dataset))\n",
    "# val_size = int(0.1 * len(dataset))\n",
    "# test_size = len(dataset) - train_size - val_size\n",
    "\n",
    "# train_dataset, val_dataset, test_dataset = random_split(dataset, [train_size, val_size, test_size])\n",
    "###################################\n",
    "\n",
    "# When using oversampled dataset\n",
    "##################################\n",
    "train_dataset = TensorDataset(resampled_train_data, resampled_train_labels)\n",
    "val_dataset = TensorDataset(val_embeddings, val_df_labels_tensor)\n",
    "test_dataset = TensorDataset(test_embeddings, test_df_labels_tensor)\n",
    "##################################\n",
    "\n",
    "batch_size = 32  # You can adjust this as needed\n",
    "train_loader = DataLoader(train_dataset, batch_size=batch_size, shuffle=True)\n",
    "val_loader = DataLoader(val_dataset, batch_size=batch_size, shuffle=False)\n",
    "test_loader = DataLoader(test_dataset, batch_size=batch_size, shuffle=False)\n",
    "\n",
    "n_hidden = 128\n",
    "\n",
    "model = torch.nn.Sequential(\n",
    "    torch.nn.Linear(384, n_hidden, bias=False),\n",
    "    torch.nn.BatchNorm1d(n_hidden),\n",
    "    torch.nn.ReLU(),\n",
    "    torch.nn.Linear(n_hidden, 50, bias=False),\n",
    "    torch.nn.BatchNorm1d(50),\n",
    "    torch.nn.ReLU(),\n",
    "    torch.nn.Linear(50,19, bias=False) # Maybe add batch_norm after, should turn bias on here\n",
    ")\n",
    "\n",
    "# Implement proper weight initialization\n",
    "def initialize_weights(model):\n",
    "    for layer in model[:-1]:\n",
    "        if isinstance(layer, torch.nn.Linear):\n",
    "            torch.nn.init.kaiming_normal_(layer.weight, mode='fan_in', nonlinearity='relu')\n",
    "    # Init last layer with xavier as it has a sigmoid activation (because of BCELoss) instead of ReLU\n",
    "    torch.nn.init.xavier_normal_(model[-1].weight, gain=1.0)\n",
    "\n",
    "initialize_weights(model)\n",
    "\n",
    "######################################## Diagnostics ########################################\n",
    "# How do I calculate the class weights? - cgpt\n",
    "\n",
    "# Make last layer less confident (Not sure about adding this yet)\n",
    "with torch.no_grad():\n",
    "    model[-1].weight *= 0.1\n",
    "    \n",
    "# Retain relu outputs for diagnostics\n",
    "last_relu_outputs = [None] * sum(1 for layer in model if isinstance(layer, torch.nn.modules.activation.ReLU))\n",
    "last_relu_grads = [None] * sum(1 for layer in model if isinstance(layer, torch.nn.modules.activation.ReLU))\n",
    "\n",
    "hook_handles = []\n",
    "\n",
    "def hook_fn_back(index):\n",
    "    def fn_b(module, grad_in, grad_out):\n",
    "        last_relu_grads[index] = grad_out[0].clone()\n",
    "    return fn_b\n",
    "\n",
    "layer_index = 0\n",
    "for layer in model:\n",
    "    if isinstance(layer, torch.nn.modules.activation.ReLU):\n",
    "        hook_handles.append(layer.register_full_backward_hook(hook_fn_back(layer_index)))\n",
    "        layer_index += 1\n",
    "\n",
    "def hook_fn(index):\n",
    "    def fn(module, inputs, outputs):\n",
    "        last_relu_outputs[index] = outputs\n",
    "    return fn\n",
    "\n",
    "layer_index = 0\n",
    "for layer in model:\n",
    "    if isinstance(layer, torch.nn.modules.activation.ReLU):\n",
    "        hook_handles.append(layer.register_forward_hook(hook_fn(layer_index)))\n",
    "        layer_index += 1\n",
    "        \n",
    "def compute_ratio(parameter, lr):\n",
    "    gradient_std = parameter.grad.std()\n",
    "    data_std = parameter.data.std()  # Calculate data standard deviation for the same layer\n",
    "    ratio = (lr * gradient_std / data_std).log10().item()\n",
    "    return ratio\n",
    "\n",
    "#############################################################################################\n",
    "    \n",
    "# Ran into a funny error here. You have to wrap it in a list because\n",
    "# model.parameters() is an iterator and after you go over it first it\n",
    "# becomes exhausted so in all the code below after I went through and\n",
    "# counted the parameters the 'parameters' iterator became empty and \n",
    "# everything after was just operating on an empty list\n",
    "parameters = list(model.parameters())\n",
    "\n",
    "# Total number of parameters\n",
    "print(\"Parameters:\",sum(p.nelement() for p in parameters))\n",
    "\n",
    "for p in parameters:\n",
    "    p.requires_grad = True"
   ]
  },
  {
   "cell_type": "code",
   "execution_count": 159,
   "id": "6ca98741",
   "metadata": {},
   "outputs": [
    {
     "name": "stdout",
     "output_type": "stream",
     "text": [
      "Init loss mean: tensor(0.6723)\n",
      "\n",
      "Init loss all: tensor([[0.7108, 0.6134, 0.6667, 0.6605, 0.7007, 0.6812, 0.6555, 0.7036, 0.7179,\n",
      "         0.6786, 0.6426, 0.6380, 0.6831, 0.6149, 0.6433, 0.6674, 0.6389, 0.6471,\n",
      "         0.7813],\n",
      "        [0.6442, 0.6371, 0.7335, 0.6890, 0.6771, 0.6494, 0.6890, 0.6467, 0.6567,\n",
      "         0.7653, 0.6222, 0.6493, 0.8255, 0.5275, 0.6557, 0.6725, 0.6576, 0.6838,\n",
      "         0.7181]])\n"
     ]
    }
   ],
   "source": [
    "# Check for ~correct~ initialization\n",
    "# For multi-label classification using BCELoss with logits for each class you have either a 0 or a 1 where the predictions\n",
    "# are probabilities and generally > 0.5 (or some other threshold) is treated as a 1 label. Therefore exactly 0.5 would be\n",
    "# \"no preference\" so in theory the correct init would be to start off with probabilities of 0.5 for every class and the \n",
    "# loss of this would be 0.6931 for each individual class. So considering that bcelosswithlogits is averaged across the\n",
    "# batches, any loss value roughly around 0.6931 would be a decent start\n",
    "model.eval()\n",
    "\n",
    "with torch.no_grad():\n",
    "    dummy_input = torch.randn(2,384)\n",
    "    lgits = model(dummy_input)\n",
    "\n",
    "    init_loss = F.binary_cross_entropy_with_logits(lgits, torch.zeros_like(lgits), reduction='none')\n",
    "\n",
    "    print(\"Init loss mean:\", init_loss.mean())\n",
    "    print()\n",
    "    print(\"Init loss all:\", init_loss)"
   ]
  },
  {
   "cell_type": "code",
   "execution_count": 160,
   "id": "69e6f8e5",
   "metadata": {},
   "outputs": [
    {
     "name": "stdout",
     "output_type": "stream",
     "text": [
      "  0/500: 0.482381\n",
      "Curr LR: 0.01\n",
      "Viz Batch\n",
      "Loss: tensor(0.4812)\n",
      "Pred: [0.38237673 0.33489752 0.3102104  0.30595258 0.39393213 0.3394804\n",
      " 0.34951222 0.36330673 0.29558071 0.30175853 0.30178982 0.2817444\n",
      " 0.31310865 0.3045811  0.28405392 0.3034217  0.29722434 0.32287288\n",
      " 0.30635628]\n",
      "Pred: [0. 0. 0. 0. 0. 0. 0. 0. 0. 0. 0. 0. 0. 0. 0. 0. 0. 0. 0.]\n",
      "Targ: [0. 0. 0. 0. 1. 0. 0. 1. 0. 0. 0. 0. 1. 0. 0. 0. 0. 0. 0.]\n",
      "\n",
      "Loss: tensor(0.4942)\n",
      "Pred: [0.36973903 0.34719443 0.3468678  0.313841   0.40984046 0.34888512\n",
      " 0.381964   0.3452303  0.31269485 0.29948825 0.29955792 0.31333995\n",
      " 0.29267457 0.32467383 0.31447908 0.3169702  0.29484624 0.3019264\n",
      " 0.30962995]\n",
      "Pred: [0. 0. 0. 0. 0. 0. 0. 0. 0. 0. 0. 0. 0. 0. 0. 0. 0. 0. 0.]\n",
      "Targ: [1. 1. 1. 0. 0. 0. 0. 0. 0. 0. 0. 0. 0. 0. 0. 0. 0. 0. 0.]\n",
      "\n",
      "Loss: tensor(0.4171)\n",
      "Pred: [0.32916722 0.3190283  0.24112876 0.28231588 0.34827706 0.31001717\n",
      " 0.35491621 0.31820405 0.23876214 0.2580049  0.25183713 0.23288746\n",
      " 0.24077116 0.25658554 0.26723844 0.25159028 0.23149034 0.3137959\n",
      " 0.24354881]\n",
      "Pred: [0. 0. 0. 0. 0. 0. 0. 0. 0. 0. 0. 0. 0. 0. 0. 0. 0. 0. 0.]\n",
      "Targ: [0. 0. 0. 1. 0. 0. 0. 1. 0. 0. 0. 0. 0. 0. 0. 0. 0. 0. 0.]\n",
      "\n",
      "100/500: 0.154887\n",
      "Curr LR: 0.01\n",
      "Viz Batch\n",
      "Loss: tensor(0.4565)\n",
      "Pred: [2.81812693e-03 5.66405393e-02 4.06462885e-03 6.74533188e-01\n",
      " 1.72146380e-01 1.08751245e-02 3.43987703e-01 3.17588508e-01\n",
      " 1.54205635e-01 1.14646023e-02 5.71698062e-02 5.84001536e-05\n",
      " 2.11213361e-02 1.02484293e-04 4.12009507e-02 1.72755739e-03\n",
      " 6.66012662e-03 2.65714218e-04 1.22310617e-03]\n",
      "Pred: [0. 0. 0. 1. 0. 0. 0. 0. 0. 0. 0. 0. 0. 0. 0. 0. 0. 0. 0.]\n",
      "Targ: [0. 0. 0. 0. 1. 0. 0. 1. 0. 0. 0. 0. 1. 0. 0. 0. 0. 0. 0.]\n",
      "\n",
      "Loss: tensor(0.1042)\n",
      "Pred: [8.46815944e-01 6.03270590e-01 4.57083732e-01 4.59734071e-03\n",
      " 3.48485410e-02 1.24469824e-01 6.46637529e-02 5.05313128e-02\n",
      " 3.70048196e-03 1.91207491e-02 2.19994094e-02 1.52988313e-02\n",
      " 5.87344519e-04 2.82893293e-02 4.41407831e-03 5.22392131e-02\n",
      " 1.11602936e-02 3.14553194e-02 4.14385535e-02]\n",
      "Pred: [1. 1. 0. 0. 0. 0. 0. 0. 0. 0. 0. 0. 0. 0. 0. 0. 0. 0. 0.]\n",
      "Targ: [1. 1. 1. 0. 0. 0. 0. 0. 0. 0. 0. 0. 0. 0. 0. 0. 0. 0. 0.]\n",
      "\n",
      "Loss: tensor(0.6164)\n",
      "Pred: [2.2759346e-02 9.1618189e-04 6.4539118e-04 5.1042577e-04 3.1171015e-01\n",
      " 2.8433338e-02 1.3988360e-03 7.1471915e-02 1.5530325e-04 8.7055843e-03\n",
      " 3.9324371e-04 1.3160259e-01 9.3296351e-04 3.1228295e-01 7.0256069e-03\n",
      " 1.3408825e-02 2.8940247e-04 4.0437260e-01 2.4632277e-04]\n",
      "Pred: [0. 0. 0. 0. 0. 0. 0. 0. 0. 0. 0. 0. 0. 0. 0. 0. 0. 0. 0.]\n",
      "Targ: [0. 0. 0. 1. 0. 0. 0. 1. 0. 0. 0. 0. 0. 0. 0. 0. 0. 0. 0.]\n",
      "\n",
      "200/500: 0.083852\n",
      "Curr LR: 0.01\n",
      "Viz Batch\n",
      "Loss: tensor(0.5631)\n",
      "Pred: [1.7386002e-03 1.7791718e-02 1.7055227e-04 9.5400238e-01 2.2309363e-02\n",
      " 4.9964536e-02 3.5332796e-01 7.0060843e-01 5.7762191e-02 2.9206811e-03\n",
      " 6.7211695e-02 3.4719706e-05 6.0831908e-02 2.2008000e-03 1.0366836e-02\n",
      " 5.4162988e-03 3.2438445e-03 5.2992807e-04 1.3336551e-03]\n",
      "Pred: [0. 0. 0. 1. 0. 0. 0. 1. 0. 0. 0. 0. 0. 0. 0. 0. 0. 0. 0.]\n",
      "Targ: [0. 0. 0. 0. 1. 0. 0. 1. 0. 0. 0. 0. 1. 0. 0. 0. 0. 0. 0.]\n",
      "\n",
      "Loss: tensor(0.2784)\n",
      "Pred: [9.8304868e-01 9.2663735e-02 9.4505653e-02 1.4885021e-03 1.9103564e-02\n",
      " 3.0469584e-01 2.2226297e-03 8.1853159e-02 2.1481399e-04 1.3112112e-02\n",
      " 3.7358636e-03 4.0723281e-03 6.2596926e-04 3.1086288e-03 1.3231712e-03\n",
      " 5.0536669e-03 2.7602917e-04 1.7602328e-02 1.3781994e-02]\n",
      "Pred: [1. 0. 0. 0. 0. 0. 0. 0. 0. 0. 0. 0. 0. 0. 0. 0. 0. 0. 0.]\n",
      "Targ: [1. 1. 1. 0. 0. 0. 0. 0. 0. 0. 0. 0. 0. 0. 0. 0. 0. 0. 0.]\n",
      "\n",
      "Loss: tensor(1.0576)\n",
      "Pred: [2.8231009e-04 2.5579238e-03 1.3631145e-03 3.3438539e-06 7.1296394e-01\n",
      " 8.0262631e-05 8.8383455e-04 2.0435757e-03 7.2375224e-05 1.1031727e-03\n",
      " 6.6903514e-05 1.5327434e-02 7.3455030e-06 8.4919091e-03 2.7019330e-03\n",
      " 7.7732565e-04 4.6411174e-04 1.0670829e-02 1.3288407e-05]\n",
      "Pred: [0. 0. 0. 0. 1. 0. 0. 0. 0. 0. 0. 0. 0. 0. 0. 0. 0. 0. 0.]\n",
      "Targ: [0. 0. 0. 1. 0. 0. 0. 1. 0. 0. 0. 0. 0. 0. 0. 0. 0. 0. 0.]\n",
      "\n",
      "300/500: 0.061090\n",
      "Curr LR: 0.01\n",
      "Viz Batch\n",
      "Loss: tensor(0.6129)\n",
      "Pred: [1.2493336e-04 6.7681959e-03 3.6120932e-06 9.6372861e-01 1.5105971e-02\n",
      " 5.9130946e-03 4.4168532e-02 8.0729204e-01 6.3505255e-02 4.7305417e-03\n",
      " 3.6359816e-03 9.1746922e-05 2.3217522e-02 2.0709114e-02 3.0511417e-03\n",
      " 6.9438259e-04 1.3807971e-03 2.5082470e-04 4.1704811e-04]\n",
      "Pred: [0. 0. 0. 1. 0. 0. 0. 1. 0. 0. 0. 0. 0. 0. 0. 0. 0. 0. 0.]\n",
      "Targ: [0. 0. 0. 0. 1. 0. 0. 1. 0. 0. 0. 0. 1. 0. 0. 0. 0. 0. 0.]\n",
      "\n",
      "Loss: tensor(0.4009)\n",
      "Pred: [9.9371707e-01 1.6449440e-02 5.5937883e-02 6.0928385e-05 7.7231139e-02\n",
      " 3.9998829e-01 8.8238441e-05 2.0419464e-02 2.4766327e-05 3.8469124e-03\n",
      " 2.2746806e-04 5.5474928e-04 1.3832437e-04 3.5015907e-04 2.4697278e-04\n",
      " 3.8177150e-04 1.6814571e-05 7.5887435e-04 9.3037897e-04]\n",
      "Pred: [1. 0. 0. 0. 0. 0. 0. 0. 0. 0. 0. 0. 0. 0. 0. 0. 0. 0. 0.]\n",
      "Targ: [1. 1. 1. 0. 0. 0. 0. 0. 0. 0. 0. 0. 0. 0. 0. 0. 0. 0. 0.]\n",
      "\n",
      "Loss: tensor(1.0992)\n",
      "Pred: [1.01212237e-04 2.38203770e-03 4.55796346e-03 2.90133767e-06\n",
      " 3.37571055e-01 5.41611771e-05 3.97025533e-02 4.81088995e-04\n",
      " 2.63757211e-05 1.02962214e-04 1.40392676e-03 2.88197980e-03\n",
      " 7.36628817e-06 4.16880182e-04 3.57494457e-03 5.08926110e-03\n",
      " 7.71437306e-04 2.02086270e-02 6.92114045e-05]\n",
      "Pred: [0. 0. 0. 0. 0. 0. 0. 0. 0. 0. 0. 0. 0. 0. 0. 0. 0. 0. 0.]\n",
      "Targ: [0. 0. 0. 1. 0. 0. 0. 1. 0. 0. 0. 0. 0. 0. 0. 0. 0. 0. 0.]\n",
      "\n",
      "400/500: 0.090045\n",
      "Curr LR: 0.01\n",
      "Viz Batch\n",
      "Loss: tensor(0.4895)\n",
      "Pred: [2.8983157e-05 7.4565485e-03 7.4218751e-06 9.3875217e-01 7.3552079e-02\n",
      " 2.1106920e-03 2.2922223e-03 8.5981387e-01 1.4328389e-01 4.6139411e-03\n",
      " 2.2000456e-04 2.4096909e-05 2.8716592e-02 2.0080512e-02 3.3965041e-03\n",
      " 1.6758562e-04 2.4653118e-04 3.2863085e-05 6.9256370e-05]\n",
      "Pred: [0. 0. 0. 1. 0. 0. 0. 1. 0. 0. 0. 0. 0. 0. 0. 0. 0. 0. 0.]\n",
      "Targ: [0. 0. 0. 0. 1. 0. 0. 1. 0. 0. 0. 0. 1. 0. 0. 0. 0. 0. 0.]\n",
      "\n",
      "Loss: tensor(0.4274)\n",
      "Pred: [9.96565282e-01 4.32247529e-03 9.35744569e-02 2.52722589e-06\n",
      " 1.20770626e-01 1.44363940e-01 2.76436884e-04 1.75628651e-04\n",
      " 6.48559592e-07 1.21153542e-03 2.33503542e-05 1.72838252e-02\n",
      " 2.24517462e-05 2.27460514e-05 5.45777220e-05 3.35617195e-04\n",
      " 4.17659430e-06 3.16230326e-05 3.71683331e-04]\n",
      "Pred: [1. 0. 0. 0. 0. 0. 0. 0. 0. 0. 0. 0. 0. 0. 0. 0. 0. 0. 0.]\n",
      "Targ: [1. 1. 1. 0. 0. 0. 0. 0. 0. 0. 0. 0. 0. 0. 0. 0. 0. 0. 0.]\n",
      "\n",
      "Loss: tensor(0.8166)\n",
      "Pred: [4.2940152e-05 1.0176557e-03 1.0641688e-04 2.2074286e-05 7.7697732e-03\n",
      " 8.9496942e-05 3.0389773e-02 1.3078088e-02 3.9834351e-05 3.1328032e-05\n",
      " 1.1084436e-02 5.1747262e-05 4.9332143e-06 4.9371982e-04 1.3487899e-03\n",
      " 2.2118811e-03 2.2421917e-03 3.2959583e-01 1.1112073e-04]\n",
      "Pred: [0. 0. 0. 0. 0. 0. 0. 0. 0. 0. 0. 0. 0. 0. 0. 0. 0. 0. 0.]\n",
      "Targ: [0. 0. 0. 1. 0. 0. 0. 1. 0. 0. 0. 0. 0. 0. 0. 0. 0. 0. 0.]\n",
      "\n",
      "499/500: 0.157916\n",
      "Curr LR: 0.01\n",
      "Viz Batch\n",
      "Loss: tensor(0.5021)\n",
      "Pred: [2.7115448e-05 5.5543715e-03 1.0256470e-06 7.4734557e-01 8.0218002e-02\n",
      " 4.7863298e-03 8.1226020e-04 2.5401095e-01 3.5530776e-02 3.2243220e-04\n",
      " 1.7291146e-05 2.1209316e-06 1.6468678e-02 1.0892294e-01 4.2024255e-04\n",
      " 1.7522319e-04 3.1845298e-06 1.2868510e-04 3.7112895e-06]\n",
      "Pred: [0. 0. 0. 1. 0. 0. 0. 0. 0. 0. 0. 0. 0. 0. 0. 0. 0. 0. 0.]\n",
      "Targ: [0. 0. 0. 0. 1. 0. 0. 1. 0. 0. 0. 0. 1. 0. 0. 0. 0. 0. 0.]\n",
      "\n",
      "Loss: tensor(0.3100)\n",
      "Pred: [9.98250306e-01 1.02740359e-02 3.28917235e-01 7.68531834e-07\n",
      " 2.61897314e-02 9.42253023e-02 3.18450679e-04 2.33487110e-04\n",
      " 5.13907423e-07 1.60008948e-03 3.26869558e-05 6.68009371e-02\n",
      " 1.19174165e-05 6.11093037e-06 2.26085722e-05 2.27039040e-04\n",
      " 1.35913915e-05 1.08809218e-05 2.31800441e-04]\n",
      "Pred: [1. 0. 0. 0. 0. 0. 0. 0. 0. 0. 0. 0. 0. 0. 0. 0. 0. 0. 0.]\n",
      "Targ: [1. 1. 1. 0. 0. 0. 0. 0. 0. 0. 0. 0. 0. 0. 0. 0. 0. 0. 0.]\n",
      "\n",
      "Loss: tensor(0.8258)\n",
      "Pred: [1.16422643e-05 1.98165886e-04 7.10909944e-06 1.88551076e-05\n",
      " 1.12856049e-02 6.11090127e-06 1.38586685e-02 9.02740099e-03\n",
      " 2.10280887e-05 1.72838427e-05 6.62598340e-03 1.29681748e-05\n",
      " 2.05757419e-06 2.13979420e-05 3.09450133e-03 1.62695127e-04\n",
      " 2.63589732e-02 3.94196548e-02 8.13330989e-04]\n",
      "Pred: [0. 0. 0. 0. 0. 0. 0. 0. 0. 0. 0. 0. 0. 0. 0. 0. 0. 0. 0.]\n",
      "Targ: [0. 0. 0. 1. 0. 0. 0. 1. 0. 0. 0. 0. 0. 0. 0. 0. 0. 0. 0.]\n",
      "\n"
     ]
    }
   ],
   "source": [
    "################## RERUN INIT CODE BEFORE TRAINING ##################\n",
    "\n",
    "# same optimization as last time\n",
    "model.train()\n",
    "\n",
    "#opt = optim.AdamW(model.parameters(), lr=0.0003, weight_decay=0.8)\n",
    "#opt = optim.Adam(model.parameters(), lr=0.0003)\n",
    "opt = optim.SGD(model.parameters(), lr=0.01)\n",
    "#opt = optim.SGD(model.parameters(), lr=0.01, momentum=0.9, nesterov=True)\n",
    "#opt = torch.optim.SGD(model.parameters(), lr=0.001, momentum=0.9, nesterov=True, weight_decay=0.01)\n",
    "#opt = optim.SGD(model.parameters(), lr=0.001)\n",
    "\n",
    "# Learning rate scheduler\n",
    "#scheduler = StepLR(opt, step_size=500, gamma=0.1)\n",
    "\n",
    "epochs = 500\n",
    "lossi = []\n",
    "ud = []\n",
    "\n",
    "for i in range(epochs):\n",
    "    for inputs, labels in train_loader:\n",
    "        \n",
    "        # forward pass\n",
    "        logits = model(inputs)\n",
    "        loss = F.binary_cross_entropy_with_logits(logits, labels, reduction='mean')\n",
    "        #loss = F.binary_cross_entropy_with_logits(logits, labels, reduction='mean', weight=re_class_weights_tensor)\n",
    "        #loss = F.binary_cross_entropy_with_logits(logits, labels, reduction='mean', weight=class_weights_tensor)\n",
    "        #loss = logits[0][0] + 1 test to ensure things are being calculated across batches, fyi shut off batch norm lol\n",
    "\n",
    "        # backward pass\n",
    "        opt.zero_grad()\n",
    "        loss.backward()\n",
    "\n",
    "        # update: simple SGD\n",
    "        opt.step()\n",
    "        \n",
    "        # Diagnostics\n",
    "        with torch.no_grad():\n",
    "            ud.append([compute_ratio(p, opt.param_groups[0]['lr']) for p in model.parameters()])\n",
    "\n",
    "    #scheduler.step()\n",
    "    \n",
    "    # track stats\n",
    "    if i % 100 == 0 or i == (epochs-1): # print every once in a while\n",
    "        print(f'{i:3d}/{epochs:3d}: {loss.item():.6f}')\n",
    "        print(\"Curr LR:\", opt.param_groups[0]['lr'])\n",
    "        \n",
    "        # Test batch viz \n",
    "        with torch.no_grad():\n",
    "            print(\"Viz Batch\")\n",
    "            for inputs, labels in val_loader:\n",
    "                viz_data = inputs[:3]\n",
    "                viz_labels = labels[:3]\n",
    "                \n",
    "                out_viz = model(viz_data)\n",
    "                \n",
    "                for ct in range(out_viz.shape[0]):\n",
    "                    loss_viz = F.binary_cross_entropy_with_logits(out_viz[ct], viz_labels[ct])\n",
    "                    print(\"Loss:\", loss_viz)\n",
    "                    print(\"Pred:\", F.sigmoid(out_viz[ct]).numpy())\n",
    "                    print(\"Pred:\",  (F.sigmoid(out_viz[ct]) > 0.5).float().numpy())\n",
    "                    print(\"Targ:\", viz_labels[ct].numpy())\n",
    "                    print()\n",
    "                break       \n",
    "        \n",
    "    #lossi.append(loss.log10().item())\n",
    "    lossi.append(loss.item())\n",
    "    \n",
    "#     if i >= 100:\n",
    "#         break # DEBUGGING\n",
    "\n",
    "###### Diagnostics cleanup ######\n",
    "for handle in hook_handles:\n",
    "    handle.remove()"
   ]
  },
  {
   "cell_type": "code",
   "execution_count": 164,
   "id": "0e1310cc",
   "metadata": {},
   "outputs": [
    {
     "data": {
      "text/plain": [
       "[<matplotlib.lines.Line2D at 0x21defa489a0>]"
      ]
     },
     "execution_count": 164,
     "metadata": {},
     "output_type": "execute_result"
    },
    {
     "data": {
      "image/png": "[encoded data removed]",
      "text/plain": [
       "<Figure size 432x288 with 1 Axes>"
      ]
     },
     "metadata": {
      "needs_background": "light"
     },
     "output_type": "display_data"
    }
   ],
   "source": [
    "plt.plot(torch.tensor(lossi).view(-1, 10).mean(1))"
   ]
  },
  {
   "cell_type": "code",
   "execution_count": 165,
   "id": "a507f9c4",
   "metadata": {},
   "outputs": [
    {
     "name": "stdout",
     "output_type": "stream",
     "text": [
      "Train Loss: 0.023638004\n",
      "Accuracy: 0.9146\n",
      "Precision: 0.9657\n",
      "Recall: 0.9554\n",
      "F1-score: 0.9578\n",
      "ROC AUC: 0.9898\n",
      "\n",
      "Val Loss: 0.53249025\n",
      "Accuracy: 0.0682\n",
      "Precision: 0.5118\n",
      "Recall: 0.4534\n",
      "F1-score: 0.4519\n",
      "ROC AUC: 0.8217\n"
     ]
    }
   ],
   "source": [
    "model.eval()\n",
    "t_predictions = []\n",
    "t_targets = []\n",
    "v_predictions = []\n",
    "v_targets = []\n",
    "\n",
    "threshold = 0.5\n",
    "\n",
    "# Train Loss Calculations\n",
    "with torch.no_grad():\n",
    "    t_losses = []\n",
    "    for inputs, labels in train_loader:\n",
    "        outputs = model(inputs)\n",
    "        # Version for averaging losses across batches\n",
    "        loss = F.binary_cross_entropy_with_logits(outputs, labels)\n",
    "        t_losses.append(loss)\n",
    "        # Version for getting every loss individually\n",
    "#         loss = F.binary_cross_entropy_with_logits(outputs, labels, reduction='none')\n",
    "#         for idx in range(loss.shape[0]):\n",
    "#             t_losses.append(loss[idx].mean())\n",
    "        t_predictions.append(F.sigmoid(outputs).numpy())\n",
    "        t_targets.append(labels.numpy())\n",
    "        \n",
    "train_avg_loss = np.array(t_losses).mean()\n",
    "print(\"Train Loss:\", train_avg_loss)\n",
    "\n",
    "t_predictions = np.vstack(t_predictions)\n",
    "t_targets = np.vstack(t_targets)\n",
    "\n",
    "# Binary classification metrics\n",
    "train_accuracy = metrics.accuracy_score(t_targets, (t_predictions > threshold).astype(int))\n",
    "train_precision = metrics.precision_score(t_targets, (t_predictions > threshold).astype(int), average='samples', zero_division=0)\n",
    "train_recall = metrics.recall_score(t_targets, (t_predictions > threshold).astype(int), average='samples')\n",
    "train_f1 = metrics.f1_score(t_targets, (t_predictions > threshold).astype(int), average='samples')\n",
    "train_roc_auc = metrics.roc_auc_score(t_targets, t_predictions, average='samples')\n",
    "\n",
    "print(f'Accuracy: {train_accuracy:.4f}')\n",
    "print(f'Precision: {train_precision:.4f}')\n",
    "print(f'Recall: {train_recall:.4f}')\n",
    "print(f'F1-score: {train_f1:.4f}')\n",
    "print(f'ROC AUC: {train_roc_auc:.4f}')\n",
    "print()\n",
    "\n",
    "# Validation Loss Calculations\n",
    "with torch.no_grad():\n",
    "    v_losses = []\n",
    "    for inputs, labels in val_loader:\n",
    "        outputs = model(inputs)\n",
    "        # Version for averaging losses across batches\n",
    "        loss = F.binary_cross_entropy_with_logits(outputs, labels)\n",
    "        v_losses.append(loss)\n",
    "        # Version for getting every loss individually\n",
    "#         loss = F.binary_cross_entropy_with_logits(outputs, labels, reduction='none')\n",
    "#         for idx in range(loss.shape[0]):\n",
    "#             v_losses.append(loss[idx].mean())\n",
    "        v_predictions.append(F.sigmoid(outputs).numpy())\n",
    "        v_targets.append(labels.numpy())\n",
    "        \n",
    "val_avg_loss = np.array(v_losses).mean()\n",
    "print(\"Val Loss:\", val_avg_loss)\n",
    "\n",
    "v_predictions = np.vstack(v_predictions)\n",
    "v_targets = np.vstack(v_targets)\n",
    "\n",
    "# Binary classification metrics\n",
    "#accuracy1 = accuracy_score(targets[:,1], (predictions[:,1] > 0.5).astype(int))\n",
    "#precision1 = precision_score(targets[:,0], (predictions[:,0] > 0.5).astype(int))\n",
    "accuracy = metrics.accuracy_score(v_targets, (v_predictions > threshold).astype(int))\n",
    "precision = metrics.precision_score(v_targets, (v_predictions > threshold).astype(int), average='samples', zero_division=0)\n",
    "recall = metrics.recall_score(v_targets, (v_predictions > threshold).astype(int), average='samples')\n",
    "f1 = metrics.f1_score(v_targets, (v_predictions > threshold).astype(int), average='samples')\n",
    "roc_auc = metrics.roc_auc_score(v_targets, v_predictions, average='samples')\n",
    "\n",
    "#print(f'Accuracy1: {accuracy1:.4f}')\n",
    "#print(f'Precision1: {precision1:.4f}')\n",
    "print(f'Accuracy: {accuracy:.4f}')\n",
    "print(f'Precision: {precision:.4f}')\n",
    "print(f'Recall: {recall:.4f}')\n",
    "print(f'F1-score: {f1:.4f}')\n",
    "print(f'ROC AUC: {roc_auc:.4f}')"
   ]
  },
  {
   "cell_type": "code",
   "execution_count": 104,
   "id": "e5c11402",
   "metadata": {},
   "outputs": [
    {
     "data": {
      "text/plain": [
       "array([140., 107.,  67.,  81., 221., 155.,  68., 446.,  21.,  38.,  43.,\n",
       "        34.,  25.,  77.,  77.,  28.,  15.,  86.,  19.], dtype=float32)"
      ]
     },
     "execution_count": 104,
     "metadata": {},
     "output_type": "execute_result"
    }
   ],
   "source": [
    "v_targets.sum(axis=0)"
   ]
  },
  {
   "cell_type": "code",
   "execution_count": 166,
   "id": "10d39021",
   "metadata": {},
   "outputs": [
    {
     "data": {
      "text/plain": [
       "array([117,  84,  52,  75, 217, 121,  68, 379,  21,  29,  29,  20,  18,\n",
       "        54,  81,  11,  12,  45,   8])"
      ]
     },
     "execution_count": 166,
     "metadata": {},
     "output_type": "execute_result"
    }
   ],
   "source": [
    "(v_predictions > 0.5).sum(axis=0)"
   ]
  },
  {
   "cell_type": "code",
   "execution_count": 167,
   "id": "8e2172e7",
   "metadata": {},
   "outputs": [
    {
     "data": {
      "text/plain": [
       "[<matplotlib.lines.Line2D at 0x21d864cc040>]"
      ]
     },
     "execution_count": 167,
     "metadata": {},
     "output_type": "execute_result"
    },
    {
     "data": {
      "image/png": "[encoded data removed]",
      "text/plain": [
       "<Figure size 1440x288 with 1 Axes>"
      ]
     },
     "metadata": {
      "needs_background": "light"
     },
     "output_type": "display_data"
    }
   ],
   "source": [
    "# For plotting train losses\n",
    "plt.figure(figsize=(20,4))\n",
    "plt.axhline(y = train_avg_loss, color = 'r', linestyle = '-') \n",
    "plt.plot(t_losses)"
   ]
  },
  {
   "cell_type": "code",
   "execution_count": 168,
   "id": "4e94dff2",
   "metadata": {},
   "outputs": [
    {
     "data": {
      "text/plain": [
       "[<matplotlib.lines.Line2D at 0x21d86463a60>]"
      ]
     },
     "execution_count": 168,
     "metadata": {},
     "output_type": "execute_result"
    },
    {
     "data": {
      "image/png": "[encoded data removed]",
      "text/plain": [
       "<Figure size 1440x288 with 1 Axes>"
      ]
     },
     "metadata": {
      "needs_background": "light"
     },
     "output_type": "display_data"
    }
   ],
   "source": [
    "# For plotting val losses\n",
    "plt.figure(figsize=(20,4))\n",
    "plt.axhline(y = val_avg_loss, color = 'r', linestyle = '-') \n",
    "plt.plot(v_losses)"
   ]
  },
  {
   "cell_type": "code",
   "execution_count": 169,
   "id": "4c21851a",
   "metadata": {},
   "outputs": [
    {
     "name": "stdout",
     "output_type": "stream",
     "text": [
      "layer 0 ( RelU 0): mean +0.43, std 0.53, saturated: 51.04%\n",
      "layer 1 ( RelU 1): mean +1.15, std 1.26, saturated: 41.33%\n"
     ]
    },
    {
     "data": {
      "text/plain": [
       "Text(0.5, 1.0, 'activation distribution')"
      ]
     },
     "execution_count": 169,
     "metadata": {},
     "output_type": "execute_result"
    },
    {
     "data": {
      "image/png": "[encoded data removed]",
      "text/plain": [
       "<Figure size 576x288 with 1 Axes>"
      ]
     },
     "metadata": {
      "needs_background": "light"
     },
     "output_type": "display_data"
    }
   ],
   "source": [
    "# Visualize Activation Distribution\n",
    "plt.figure(figsize=(8, 4)) # width and height of the plot\n",
    "legends = []\n",
    "for i, output in enumerate(last_relu_outputs):\n",
    "    t = output\n",
    "    print('layer %d (%7s): mean %+.2f, std %.2f, saturated: %.2f%%' % (i, \"RelU \" + str(i), t.mean(), t.std(), (t == 0).float().mean()*100))\n",
    "    hy, hx = torch.histogram(t, density=True)\n",
    "    plt.plot(hx[:-1].detach(), hy.detach())\n",
    "    legends.append(f'ReLU layer {i}')\n",
    "plt.legend(legends)\n",
    "plt.title('activation distribution')"
   ]
  },
  {
   "cell_type": "code",
   "execution_count": 170,
   "id": "86412acd",
   "metadata": {},
   "outputs": [
    {
     "name": "stdout",
     "output_type": "stream",
     "text": [
      "layer 0 (    RelU 0): mean -0.000000, std 3.988750e-03\n",
      "layer 1 (    RelU 1): mean +0.000134, std 1.775159e-03\n"
     ]
    },
    {
     "data": {
      "text/plain": [
       "Text(0.5, 1.0, 'gradient distribution')"
      ]
     },
     "execution_count": 170,
     "metadata": {},
     "output_type": "execute_result"
    },
    {
     "data": {
      "image/png": "[encoded data removed]",
      "text/plain": [
       "<Figure size 1440x288 with 1 Axes>"
      ]
     },
     "metadata": {
      "needs_background": "light"
     },
     "output_type": "display_data"
    }
   ],
   "source": [
    "# Visualize Gradient Distribution\n",
    "plt.figure(figsize=(20, 4)) # width and height of the plot\n",
    "legends = []\n",
    "for i, output in enumerate(last_relu_grads):\n",
    "    t = output\n",
    "    print('layer %d (%10s): mean %+f, std %e' % (i, \"RelU \" + str(i), t.mean(), t.std()))\n",
    "    hy, hx = torch.histogram(t, density=True)\n",
    "    #hy /= hy.sum() # normalize, not sure about adding this yet. For consistency I'm leaving it out, may add later.\n",
    "    plt.plot(hx[:-1].detach(), hy.detach())\n",
    "    legends.append(f'ReLU layer {i}')\n",
    "plt.legend(legends);\n",
    "plt.title('gradient distribution')"
   ]
  },
  {
   "cell_type": "code",
   "execution_count": 171,
   "id": "1faec687",
   "metadata": {},
   "outputs": [
    {
     "data": {
      "image/png": "[encoded data removed]",
      "text/plain": [
       "<Figure size 2160x288 with 1 Axes>"
      ]
     },
     "metadata": {
      "needs_background": "light"
     },
     "output_type": "display_data"
    }
   ],
   "source": [
    "# Visualize Update-to-Data Ratio\n",
    "plt.figure(figsize=(30, 4))\n",
    "legends = []\n",
    "for i,p in enumerate(parameters):\n",
    "    if p.ndim == 2:\n",
    "        plt.plot([ud[j][i] for j in range(len(ud))])\n",
    "        legends.append('param %d' % i)\n",
    "plt.plot([0, len(ud)], [-3, -3], 'k') # these ratios should be ~1e-3, indicate on plot\n",
    "plt.legend(legends);"
   ]
  },
  {
   "cell_type": "markdown",
   "id": "629f611d",
   "metadata": {},
   "source": [
    "## Results Log\n",
    "#### Model 1\n",
    "- SGD: 0.01   Epochs: 1000 Params: 57K Data: Original\n",
    "    - Train Loss: 0.0633 \n",
    "    - Val Loss: 0.4085\n",
    "    - Accuracy: 0.1065\n",
    "    - Precision: 0.5926\n",
    "    - Recall: 0.5211\n",
    "    - F1-score: 0.5216\n",
    "    - ROC AUC: 0.8573\n",
    "\n",
    "#### Model 2\n",
    "- SGD: 0.01   Epochs: 1500 Params: 57K Data: Original\n",
    "    - Train Loss: 0.0459\n",
    "    - Val Loss: 0.5253\n",
    "    - Accuracy: 0.0980\n",
    "    - Precision: 0.5643\n",
    "    - Recall: 0.5062\n",
    "    - F1-score: 0.5028\n",
    "    - ROC AUC: 0.8472\n",
    "\n",
    "#### Model 3\n",
    "Same parameters as model 1, except that I made the last layer less confident. Seems to have helped a lot with unseen data\n",
    "\n",
    "- SGD: 0.01 Epochs: 1000 Params: 57K Data: Original\n",
    "    - Train Loss: 0.06152942\n",
    "    - Accuracy: 0.7614\n",
    "    - Precision: 0.9693\n",
    "    - Recall: 0.9069\n",
    "    - F1-score: 0.9262\n",
    "    - ROC AUC: 0.9907\n",
    "    - -------------------\n",
    "    - Val Loss: 0.36918175\n",
    "    - Accuracy: 0.1222\n",
    "    - Precision: 0.6038\n",
    "    - Recall: 0.5258\n",
    "    - F1-score: 0.5280\n",
    "    - ROC AUC: 0.8643\n",
    "\n",
    "#### Model 4\n",
    "Same parameters as model 1 and 3, however, I've now implemented class weights to assign higher loss to underrepresented genres. The train loss scale has changed so it's no longer comparable to the other models, however, val loss is still comparable. Ran this setup a second time and it did not overfit as you can see below. Admittedly, I'm curious what happens if we try to push this further.\n",
    "\n",
    "- SGD: 0.01 Epochs: 1000 Params: 57K Data: Original Regularizers: Class weights\n",
    "    - Train Loss: 0.30083278\n",
    "    - Accuracy: 0.0748\n",
    "    - Precision: 0.6650\n",
    "    - Recall: 0.3014\n",
    "    - F1-score: 0.3997\n",
    "    - ROC AUC: 0.8143\n",
    "    - -------------------\n",
    "    - Val Loss: 0.29794815\n",
    "    - Accuracy: 0.0824\n",
    "    - Precision: 0.6776\n",
    "    - Recall: 0.3101\n",
    "    - F1-score: 0.4093\n",
    "    - ROC AUC: 0.8195\n",
    "\n",
    "#### Model 5\n",
    "First, off this thing is getting too long, I need to stop copying over all the images. After toying around with class weights for a little while I wasn't too convinced on their performance, I may circle back later. I decided to try out random oversampling. The basic rule I followed was to get the count of every genre up to at least 1000. Now the smallest class makes up roughly 7% of the dataset as opposed to 2% prior to the resampling.\n",
    "\n",
    "I was rather amazed by the performance, although I do think many of the neurons were dead. I'm suspecting that the LR is too aggressive so now I'm going to rerun and lower the LR and bump up the epochs.\n",
    "\n",
    "- SGD: 0.01 Epochs: 500 Params: 57K Data: Oversampled\n",
    "    - Val Loss: 0.14914916 *\n",
    "    - Accuracy: 0.5661\n",
    "    - Precision: 0.8334\n",
    "    - Recall: 0.8006\n",
    "    - F1-score: 0.7984\n",
    "    - ROC AUC: 0.9495\n",
    "    \n",
    "#### Model 5A\n",
    "Same standard model with the oversampled dataset, but this time with Adam optimizer. Results improved a lot which is great, but not happy with the gradient distributions, and the training loss was all over the place. Going to now rerun adam with the original dataset just to see how the loss looks.\n",
    "\n",
    "- Adam: 0.0003 Epochs: 1000 Params: 57K Data: Oversampled\n",
    "    - Val Loss: 0.3212718\n",
    "    - Accuracy: 0.6797 * \n",
    "    - Precision: 0.8522 *\n",
    "    - Recall: 0.8477 *\n",
    "    - F1-score: 0.8341 *\n",
    "    - ROC AUC: 0.9526\n",
    "    \n",
    "#### Model 6\n",
    "Successfully overfit the original dataset using Adam. Now that I've successfully overfit it with this setup, I'll regularize and see how much tradeoff we can get between giving up train loss to improve the val loss. Not happy with the gradient distributions though, still unlcear to me what this represents. I'm hoping that through regularizing this model it will fix the gradient distributions and also improve the results.\n",
    "\n",
    "- Adam: 0.0003 Epochs: 1000 Params: 57K Data: Original\n",
    "    - Train Loss: 0.00890103\n",
    "    - Accuracy: 0.9743\n",
    "    - Precision: 0.9888\n",
    "    - Recall: 0.9807\n",
    "    - F1-score: 0.9828\n",
    "    - ROC AUC: 0.9947\n",
    "    - -------------------\n",
    "    - Val Loss: 1.0502023\n",
    "    - Accuracy: 0.0852\n",
    "    - Precision: 0.5669\n",
    "    - Recall: 0.5099\n",
    "    - F1-score: 0.5035\n",
    "    - ROC AUC: 0.8557\n",
    "    \n",
    "#### Model 7\n",
    "Through iterating on model 4 a couple times I've noticed that the class weights aren't doing nothing, it just takes a significiantly longer time to train. Since this model with Adam is converging pretty quickly I'm going to implement the class weights with the Adam model for an initial test run.\n",
    "\n",
    "- Adam: 0.0003 Epochs: 1000 Params: 57K Data: Original Regularizers: Class weights\n",
    "    - Train Loss: 0.01313037\n",
    "    - Accuracy: 0.9510\n",
    "    - Precision: 0.9820\n",
    "    - Recall: 0.9790\n",
    "    - F1-score: 0.9775\n",
    "    - ROC AUC: 0.9945\n",
    "    - -------------------\n",
    "    - Val Loss: 1.0087472\n",
    "    - Accuracy: 0.0980\n",
    "    - Precision: 0.5656\n",
    "    - Recall: 0.5289\n",
    "    - F1-score: 0.5141\n",
    "    - ROC AUC: 0.8612\n",
    "\n",
    "Still overfit despite the addition of class weights. I've also been reading online that oversampling and class weights is a fairly similar idea in principle.\n",
    "\n",
    "#### Model 8\n",
    "\n",
    "- Adam: 0.0003 Epochs: 1000 Params: 57K Data: Oversampled Regularizers: Class weights\n",
    "    - Train Loss: 0.010586039\n",
    "    - Accuracy: 0.9683\n",
    "    - Precision: 0.9864\n",
    "    - Recall: 0.9797\n",
    "    - F1-score: 0.9811\n",
    "    - ROC AUC: 0.9932\n",
    "    - -------------------\n",
    "    - Val Loss: 0.29428375\n",
    "    - Accuracy: 0.6783\n",
    "    - Precision: 0.8455\n",
    "    - Recall: 0.8475\n",
    "    - F1-score: 0.8315\n",
    "    - ROC AUC: 0.9566 *\n",
    "    \n",
    "Not quite as effective as I thought, but I've also been reading online that oversampling and class weights is a fairly similar idea in principle. That somewhat checks out as this model's performance is essentially identical to model 5A which all the same as this except no class weights were used. In fact, this model actually performs very very slightly worse than 5A in all of my metrics.\n",
    "\n",
    "#### Model 9\n",
    "Now I want to introduce weight decay. Going to start out with the vanilla AdamW optimizer.\n",
    "\n",
    "- AdamW: 0.0003 Epochs: 1000 Params: 57K Data: Oversampled Regularizer: Weight decay(0.01)\n",
    "    - Train Loss: 0.00957324\n",
    "    - Accuracy: 0.9742\n",
    "    - Precision: 0.9877\n",
    "    - Recall: 0.9807\n",
    "    - F1-score: 0.9824\n",
    "    - ROC AUC: 0.9931\n",
    "    - -------------------\n",
    "    - Val Loss: 0.2504797\n",
    "    - Accuracy: 0.6790\n",
    "    - Precision: 0.8420\n",
    "    - Recall: 0.8384\n",
    "    - F1-score: 0.8254\n",
    "    - ROC AUC: 0.9507\n",
    "    \n",
    "Again essentially identical performance to the current best model (5A) as well as (8) so now we have three models at essentially identical performance in different ways. All are on the oversampled dataset, however, weight decay and class weights has no helped to decrease train loss and increase val loss as the model without both of them (5A) has the best metrics.\n",
    "\n",
    "#### Model 9A\n",
    "\n",
    "- AdamW: 0.0003 Epochs: 1000 Params: 57K Data: Oversampled Regularizer: Weight decay(0.1)\n",
    "    - Train Loss: 0.0153279435\n",
    "    - Accuracy: 0.9652\n",
    "    - Precision: 0.9857\n",
    "    - Recall: 0.9794\n",
    "    - F1-score: 0.9803\n",
    "    - ROC AUC: 0.9929\n",
    "    - -------------------\n",
    "    - Val Loss: 0.16988453\n",
    "    - Accuracy: 0.6776\n",
    "    - Precision: 0.8477\n",
    "    - Recall: 0.8471\n",
    "    - F1-score: 0.8323\n",
    "    - ROC AUC: 0.9462\n",
    "\n",
    "#### Model 9B\n",
    "\n",
    "This was more of an attempt to just push in the incorrect direction to assure myself things are working properly. A weight decay of this high is unrealistic, however, it didn't fully overfit and that was the goal.\n",
    "\n",
    "- AdamW: 0.0003 Epochs: 1000 Params: 57K Data: Oversampled Regularizer: Weight decay(0.8)\n",
    "    - Train Loss: 0.0671329\n",
    "    - Accuracy: 0.7896\n",
    "    - Precision: 0.9548\n",
    "    - Recall: 0.9134\n",
    "    - F1-score: 0.9251\n",
    "    - ROC AUC: 0.9905\n",
    "    - -------------------\n",
    "    - Val Loss: 0.12983623\n",
    "    - Accuracy: 0.5647\n",
    "    - Precision: 0.8434\n",
    "    - Recall: 0.7796\n",
    "    - F1-score: 0.7918\n",
    "    - ROC AUC: 0.9532\n",
    "    \n",
    "Kind of stuck here to be honest, I know that something is off based on the gradient distributions and the fact that I have models that are overfitting but then also performing half decent on validation sets. Haven't quite figured out the issue yet.\n",
    "\n",
    "#### Model 10\n",
    "\n",
    "Going to backtrack a little here. Previously the first initial signs of success were on the oversampled dataset with vanilla SGD. This model will be the oversampled dataset with nesterov momentum.\n",
    "    \n",
    "- SGD: 0.01 Nest_Momen: 0.9 Epochs: 500 Params: 57K Data: Oversampled\n",
    "    - Train Loss: 0.009040079\n",
    "    - Accuracy: 0.9748\n",
    "    - Precision: 0.9756\n",
    "    - Recall: 0.9754\n",
    "    - F1-score: 0.9755\n",
    "    - ROC AUC: 0.9932\n",
    "    - -------------------\n",
    "    - Val Loss: 0.30176982\n",
    "    - Accuracy: 0.6715\n",
    "    - Precision: 0.8220\n",
    "    - Recall: 0.8201\n",
    "    - F1-score: 0.8082\n",
    "    - ROC AUC: 0.9462\n",
    "    \n",
    "This is an improvement upon the vanilla sgd model (5), still overfitting the training set.\n",
    "\n",
    "#### Model 10A\n",
    "\n",
    "Same as 10 but adding weight decay.\n",
    "\n",
    "- SGD: 0.01 Nest_Momen: 0.9 Epochs: 500 Params: 57K Data: Oversampled Regularizer: Weight decay(0.01)\n",
    "    - Train Loss: 0.28070715\n",
    "    - Accuracy: 0.0453\n",
    "    - Precision: 0.7822\n",
    "    - Recall: 0.3467\n",
    "    - F1-score: 0.4658\n",
    "    - ROC AUC: 0.9001\n",
    "    - -------------------\n",
    "    - Val Loss: 0.28742668\n",
    "    - Accuracy: 0.0507\n",
    "    - Precision: 0.7582\n",
    "    - Recall: 0.3407\n",
    "    - F1-score: 0.4535\n",
    "    - ROC AUC: 0.8793\n",
    "\n",
    "Not ideal, training is fluctuating a ton. Going to lowering the learning rate.\n",
    "\n",
    "#### Model 11\n",
    "\n",
    "Back to model 3 setup, but wanted to overfit so trained for 2K epochs.\n",
    "\n",
    "- SGD: 0.01 Epochs: 2000 Params: 57K Data: Original\n",
    "    - Train Loss: 0.016619338\n",
    "    - Accuracy: 0.9698\n",
    "    - Precision: 0.9886\n",
    "    - Recall: 0.9795\n",
    "    - F1-score: 0.9819\n",
    "    - ROC AUC: 0.9941\n",
    "    - -------------------\n",
    "    - Val Loss: 0.602286\n",
    "    - Accuracy: 0.0980\n",
    "    - Precision: 0.5531\n",
    "    - Recall: 0.5095\n",
    "    - F1-score: 0.4963\n",
    "    - ROC AUC: 0.8370\n",
    "    \n",
    "#### Model 12\n",
    "Created a new oversampled dataset that focused on not oversaturating the 'Drama' genre which was originally pretty top-heavy. \n",
    "- SGD: 0.01 Epochs: 500 Params: 57K Data: Oversampled v2\n",
    "\n",
    "#### What's next?\n",
    "Ok so admittedly, I've been running in circles getting nowhere. This is where things currently stand: \n",
    "\n",
    "- I have a poorly constructed oversampled dataset that when trained in multiple ways will overfit but still have relatively good performance on the val set. I've tried regularizing in a variety of ways but nothing seems to be improving the accuracy past 67% (also curious if this 67% represents some subset that it's always guessing, I'll need to look further into validation result counts to check this theory)\n",
    "- I have the original dataset which I've overfit with Adam, but haven't achieved an accuracy above 12% with anything I've tried (Adam, SGD, class weights)\n",
    "- I'm seeing two possible paths forward, focus on the original set once I've confirmed the overfitting in all scenarios and attempt to regularize it. Or construct a well-crafted oversampled set as this is where we've achieved the best results so far (and that version was poorly constructed, so maybe with some extra thought I can get it balancing the data more effectively)\n",
    "- Side note: I want to start analyzing validation prediction stats on all the results after training sessions.\n",
    "\n",
    "#### To-Do\n",
    "- [ ] Regularize overfit model (Adam)\n",
    "- [ ] Train model 4 for 8K epochs\n",
    "- [ ] Finish step 2 check list\n",
    "- [x] Train run with a smaller learning rate\n",
    "- [x] Remove duplicates\n",
    "- [x] Check for duplicates in columns other than primaryTitle\n",
    "- [x] Calculate my personal accuracy on genre classification (YIKES)\n",
    "- [x] Look into removing rows with descriptions that are too short.\n",
    "\n",
    "#### Maybe in the future\n",
    "- [ ] Stratified training\n",
    "- [ ] Look deeper into titles with Animation genre, is there any textual evidence to determine animation? that might be visual only so I should remove the genre, perhaps a similar issue with the Biography genre.\n",
    "- [ ] See where we can get with pushing the original model with sgd to overfitting. I've successfully overfit with Adam, but I'm curious if I'd be able to accomplish this with sgd, although this is kind of a pointless thing more so just curious. Maybe instead of just super vanilla sgd I use the nesterov version instead. Probably a future thing if I ever end up getting to this."
   ]
  },
  {
   "cell_type": "code",
   "execution_count": 1561,
   "id": "33292058",
   "metadata": {},
   "outputs": [
    {
     "name": "stdout",
     "output_type": "stream",
     "text": [
      "torch.Size([2, 128])\n",
      "torch.Size([2, 50])\n"
     ]
    }
   ],
   "source": [
    "for i, output in enumerate(last_relu_grads):\n",
    "    t = output.shape\n",
    "    print(t)"
   ]
  },
  {
   "cell_type": "code",
   "execution_count": 576,
   "id": "862664f0",
   "metadata": {},
   "outputs": [
    {
     "name": "stdout",
     "output_type": "stream",
     "text": [
      "torch.Size([128, 384])\n",
      "torch.Size([128])\n",
      "torch.Size([128])\n",
      "torch.Size([50, 128])\n",
      "torch.Size([50])\n",
      "torch.Size([50])\n",
      "torch.Size([26, 50])\n"
     ]
    }
   ],
   "source": [
    "for i, layer in enumerate(model.parameters()): # note: exclude the output layer\n",
    "    print(layer.shape)\n",
    "    if isinstance(layer, torch.nn.modules.activation.ReLU):\n",
    "        t = layer.grad\n",
    "        print(t)"
   ]
  },
  {
   "cell_type": "code",
   "execution_count": null,
   "id": "1d230370",
   "metadata": {
    "collapsed": true
   },
   "outputs": [],
   "source": [
    "### Alternate graphing of gradient distribution ###\n",
    "# Assuming you have a list of gradient tensors 'last_relu_grads' for specific ReLU layers\n",
    "\n",
    "# Create subplots for each ReLU layer\n",
    "plt.figure(figsize=(20, 4 * len(last_relu_grads)))\n",
    "legends = []\n",
    "\n",
    "for i, output in enumerate(last_relu_grads):\n",
    "    t = output\n",
    "\n",
    "    # Calculate mean and standard deviation\n",
    "    mean = t.mean().item()\n",
    "    std = t.std().item()\n",
    "\n",
    "    # Convert the PyTorch tensor to a NumPy array for histogram\n",
    "    t_np = t.detach().numpy()\n",
    "\n",
    "    # Create histogram\n",
    "    n_bins = 50  # Adjust the number of bins as needed\n",
    "    hist, bin_edges = np.histogram(t_np, bins=n_bins, density=True)\n",
    "\n",
    "    # Normalize the histogram to represent probability density\n",
    "    hist /= np.sum(hist)\n",
    "\n",
    "    # Create the plot\n",
    "    plt.plot(bin_edges[:-1], hist, label=f'ReLU layer {i}, mean={mean:.4f}, std={std:.4e}')\n",
    "\n",
    "    legends.append(f'ReLU layer {i}')\n",
    "\n",
    "plt.legend()\n",
    "plt.title('Gradient Distribution with KDE')\n",
    "plt.xlabel('Gradient Value')\n",
    "plt.ylabel('Probability Density')\n",
    "plt.show()"
   ]
  },
  {
   "cell_type": "code",
   "execution_count": 3,
   "id": "b9a59521",
   "metadata": {},
   "outputs": [
    {
     "name": "stdout",
     "output_type": "stream",
     "text": [
      "(384,)\n"
     ]
    }
   ],
   "source": [
    "sent_model = SentenceTransformer('sentence-transformers/all-MiniLM-L6-V2')\n",
    "\n",
    "enc1 = sent_model.encode(\"Tom Cruise's mother is Mary Lee Pfeiffer.\")\n",
    "print(enc1.shape)"
   ]
  },
  {
   "cell_type": "code",
   "execution_count": 5,
   "id": "5c383afa",
   "metadata": {},
   "outputs": [],
   "source": [
    "enc2 = sent_model.encode(\"Mary Lee Pfeiffer's son is Tom Cruise.\")"
   ]
  },
  {
   "cell_type": "code",
   "execution_count": 7,
   "id": "11851833",
   "metadata": {},
   "outputs": [
    {
     "data": {
      "text/plain": [
       "tensor([0.9154])"
      ]
     },
     "execution_count": 7,
     "metadata": {},
     "output_type": "execute_result"
    }
   ],
   "source": [
    "F.cosine_similarity(torch.from_numpy(enc1).unsqueeze(0), torch.from_numpy(enc2).unsqueeze(0), dim=1)"
   ]
  },
  {
   "cell_type": "code",
   "execution_count": null,
   "id": "bb665016",
   "metadata": {},
   "outputs": [],
   "source": []
  }
 ],
 "metadata": {
  "kernelspec": {
   "display_name": "Python 3 (ipykernel)",
   "language": "python",
   "name": "python3"
  },
  "language_info": {
   "codemirror_mode": {
    "name": "ipython",
    "version": 3
   },
   "file_extension": ".py",
   "mimetype": "text/x-python",
   "name": "python",
   "nbconvert_exporter": "python",
   "pygments_lexer": "ipython3",
   "version": "3.10.4"
  }
 },
 "nbformat": 4,
 "nbformat_minor": 5
}
